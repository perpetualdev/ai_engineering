{
 "cells": [
  {
   "cell_type": "code",
   "execution_count": 4,
   "id": "27d52df2",
   "metadata": {},
   "outputs": [],
   "source": [
    "from pydantic import BaseModel"
   ]
  },
  {
   "cell_type": "code",
   "execution_count": 5,
   "id": "3c1ce93b",
   "metadata": {},
   "outputs": [],
   "source": [
    "class Fellow(BaseModel):\n",
    "    name: str\n",
    "    score: int\n",
    "    track: str"
   ]
  },
  {
   "cell_type": "markdown",
   "id": "c323558f",
   "metadata": {},
   "source": [
    "**What is `BaseModel` Capable of**"
   ]
  },
  {
   "cell_type": "code",
   "execution_count": 6,
   "id": "c3faa1a8",
   "metadata": {},
   "outputs": [
    {
     "data": {
      "text/plain": [
       "Fellow(name='Perpetual', score=88, track='AI Engineering')"
      ]
     },
     "execution_count": 6,
     "metadata": {},
     "output_type": "execute_result"
    }
   ],
   "source": [
    "# 1. Validation - It automatically validates data passed to it\n",
    "\n",
    "Fellow(name=\"Perpetual\", score=88, track=\"AI Engineering\") # This will work fine"
   ]
  },
  {
   "cell_type": "code",
   "execution_count": null,
   "id": "3baae309",
   "metadata": {},
   "outputs": [],
   "source": [
    "Fellow(name=\"Zach\", score=\"eighty-seven\", track=\"AI Engineering\")   # This will raise error"
   ]
  },
  {
   "cell_type": "code",
   "execution_count": null,
   "id": "0d4dd978",
   "metadata": {},
   "outputs": [],
   "source": [
    "#2. parsing and type conversion - It automatically converts compatilbe types \n",
    "# It reads and interprete data\n",
    "\n",
    "p = Fellow(name = \"Perpetual\", score = \"88\", track = \"AI Engineering\")"
   ]
  }
 ],
 "metadata": {
  "kernelspec": {
   "display_name": "my_venv",
   "language": "python",
   "name": "python3"
  },
  "language_info": {
   "codemirror_mode": {
    "name": "ipython",
    "version": 3
   },
   "file_extension": ".py",
   "mimetype": "text/x-python",
   "name": "python",
   "nbconvert_exporter": "python",
   "pygments_lexer": "ipython3",
   "version": "3.13.7"
  }
 },
 "nbformat": 4,
 "nbformat_minor": 5
}
