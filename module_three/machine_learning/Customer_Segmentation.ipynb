{
 "cells": [
  {
   "cell_type": "markdown",
   "id": "878a4239",
   "metadata": {},
   "source": [
    "### **UNSUPERVISED LEARNING PROJECT - Customer Segmentation with Clustering**"
   ]
  },
  {
   "cell_type": "markdown",
   "id": "97fef4b2",
   "metadata": {},
   "source": [
    "**Learning Objectives**\n",
    "\n",
    "- How to load and inspect any dataset\n",
    "- Key questions to ask about your data\n",
    "- Initial data quality checks"
   ]
  },
  {
   "cell_type": "markdown",
   "id": "99ab5eeb",
   "metadata": {},
   "source": [
    "#### **1. Data ingestion**"
   ]
  },
  {
   "cell_type": "code",
   "execution_count": 2,
   "id": "83f03f02",
   "metadata": {},
   "outputs": [],
   "source": [
    "# import libraries\n",
    "import pandas as pd\n",
    "import numpy as np\n",
    "import matplotlib.pyplot as plt\n",
    "import seaborn as sns\n",
    "from datetime import datetime\n",
    "import warnings\n",
    "import zipfile\n",
    "\n",
    "# import stansdard scaler\n",
    "from sklearn.preprocessing import StandardScaler\n",
    "\n",
    "# import kmeans\n",
    "from sklearn.cluster import KMeans\n",
    "from sklearn.metrics import silhouette_score\n",
    "from sklearn.metrics import silhouette_samples\n",
    "\n",
    "\n",
    "warnings.filterwarnings('ignore')\n",
    "\n",
    "pd.set_option('display.max_columns', None)\n",
    "pd.set_option('display.width', None)"
   ]
  },
  {
   "cell_type": "code",
   "execution_count": null,
   "id": "29b584ad",
   "metadata": {},
   "outputs": [],
   "source": [
    "# Download from: https://archive.ics.uci.edu/ml/datasets/online+retail\n",
    "url = 'https://archive.ics.uci.edu/ml/machine-learning-databases/00352/Online%20Retail.xlsx'\n"
   ]
  },
  {
   "cell_type": "code",
   "execution_count": null,
   "id": "3b9605fe",
   "metadata": {},
   "outputs": [],
   "source": [
    "\n",
    "try:\n",
    "    df = pd.read_excel(url)\n",
    "    print(\"✓ Data loaded successfully!\")\n",
    "except:\n",
    "    print(\"Note: If download fails, you can manually download from:\")\n",
    "    print(\"https://archive.ics.uci.edu/ml/datasets/online+retail\")\n",
    "    print(\"Then load with: df = pd.read_excel('Online Retail.xlsx')\")\n"
   ]
  },
  {
   "cell_type": "code",
   "execution_count": 5,
   "id": "b40fe843",
   "metadata": {},
   "outputs": [],
   "source": [
    "# df.head(2)"
   ]
  },
  {
   "cell_type": "code",
   "execution_count": 6,
   "id": "12e02b26",
   "metadata": {},
   "outputs": [],
   "source": [
    "# df.to_csv('Online_Retail.csv', index=False)\n",
    "df = pd.read_csv('Online_Retail.csv')"
   ]
  },
  {
   "cell_type": "code",
   "execution_count": 7,
   "id": "a1cf12dc",
   "metadata": {},
   "outputs": [
    {
     "data": {
      "text/html": [
       "<div>\n",
       "<style scoped>\n",
       "    .dataframe tbody tr th:only-of-type {\n",
       "        vertical-align: middle;\n",
       "    }\n",
       "\n",
       "    .dataframe tbody tr th {\n",
       "        vertical-align: top;\n",
       "    }\n",
       "\n",
       "    .dataframe thead th {\n",
       "        text-align: right;\n",
       "    }\n",
       "</style>\n",
       "<table border=\"1\" class=\"dataframe\">\n",
       "  <thead>\n",
       "    <tr style=\"text-align: right;\">\n",
       "      <th></th>\n",
       "      <th>InvoiceNo</th>\n",
       "      <th>StockCode</th>\n",
       "      <th>Description</th>\n",
       "      <th>Quantity</th>\n",
       "      <th>InvoiceDate</th>\n",
       "      <th>UnitPrice</th>\n",
       "      <th>CustomerID</th>\n",
       "      <th>Country</th>\n",
       "    </tr>\n",
       "  </thead>\n",
       "  <tbody>\n",
       "    <tr>\n",
       "      <th>0</th>\n",
       "      <td>536365</td>\n",
       "      <td>85123A</td>\n",
       "      <td>WHITE HANGING HEART T-LIGHT HOLDER</td>\n",
       "      <td>6</td>\n",
       "      <td>2010-12-01 08:26:00</td>\n",
       "      <td>2.55</td>\n",
       "      <td>17850.0</td>\n",
       "      <td>United Kingdom</td>\n",
       "    </tr>\n",
       "    <tr>\n",
       "      <th>1</th>\n",
       "      <td>536365</td>\n",
       "      <td>71053</td>\n",
       "      <td>WHITE METAL LANTERN</td>\n",
       "      <td>6</td>\n",
       "      <td>2010-12-01 08:26:00</td>\n",
       "      <td>3.39</td>\n",
       "      <td>17850.0</td>\n",
       "      <td>United Kingdom</td>\n",
       "    </tr>\n",
       "  </tbody>\n",
       "</table>\n",
       "</div>"
      ],
      "text/plain": [
       "  InvoiceNo StockCode                         Description  Quantity  \\\n",
       "0    536365    85123A  WHITE HANGING HEART T-LIGHT HOLDER         6   \n",
       "1    536365     71053                 WHITE METAL LANTERN         6   \n",
       "\n",
       "           InvoiceDate  UnitPrice  CustomerID         Country  \n",
       "0  2010-12-01 08:26:00       2.55     17850.0  United Kingdom  \n",
       "1  2010-12-01 08:26:00       3.39     17850.0  United Kingdom  "
      ]
     },
     "execution_count": 7,
     "metadata": {},
     "output_type": "execute_result"
    }
   ],
   "source": [
    "df.head(2)"
   ]
  },
  {
   "cell_type": "markdown",
   "id": "64e003eb",
   "metadata": {},
   "source": [
    "#### **2. Preliminary Data Analysis**"
   ]
  },
  {
   "cell_type": "code",
   "execution_count": 8,
   "id": "2fd1e1a2",
   "metadata": {},
   "outputs": [
    {
     "name": "stdout",
     "output_type": "stream",
     "text": [
      "<class 'pandas.core.frame.DataFrame'>\n",
      "RangeIndex: 541909 entries, 0 to 541908\n",
      "Data columns (total 8 columns):\n",
      " #   Column       Non-Null Count   Dtype  \n",
      "---  ------       --------------   -----  \n",
      " 0   InvoiceNo    541909 non-null  object \n",
      " 1   StockCode    541909 non-null  object \n",
      " 2   Description  540455 non-null  object \n",
      " 3   Quantity     541909 non-null  int64  \n",
      " 4   InvoiceDate  541909 non-null  object \n",
      " 5   UnitPrice    541909 non-null  float64\n",
      " 6   CustomerID   406829 non-null  float64\n",
      " 7   Country      541909 non-null  object \n",
      "dtypes: float64(2), int64(1), object(5)\n",
      "memory usage: 33.1+ MB\n"
     ]
    }
   ],
   "source": [
    "# Lets check our data\n",
    "df.info()"
   ]
  },
  {
   "cell_type": "code",
   "execution_count": 9,
   "id": "63379003",
   "metadata": {},
   "outputs": [
    {
     "name": "stdout",
     "output_type": "stream",
     "text": [
      "Rows: 541,909\n",
      "Columns: 8\n"
     ]
    }
   ],
   "source": [
    "# Lets take a snap shot of our data\n",
    "print(f\"Rows: {df.shape[0]:,}\")\n",
    "print(f\"Columns: {df.shape[1]}\")"
   ]
  },
  {
   "cell_type": "code",
   "execution_count": 10,
   "id": "4f189a98",
   "metadata": {},
   "outputs": [
    {
     "data": {
      "text/plain": [
       "InvoiceNo       object\n",
       "StockCode       object\n",
       "Description     object\n",
       "Quantity         int64\n",
       "InvoiceDate     object\n",
       "UnitPrice      float64\n",
       "CustomerID     float64\n",
       "Country         object\n",
       "dtype: object"
      ]
     },
     "execution_count": 10,
     "metadata": {},
     "output_type": "execute_result"
    }
   ],
   "source": [
    "# Lets check our datatypes\n",
    "df.dtypes"
   ]
  },
  {
   "cell_type": "code",
   "execution_count": 11,
   "id": "656be178",
   "metadata": {},
   "outputs": [
    {
     "data": {
      "text/html": [
       "<div>\n",
       "<style scoped>\n",
       "    .dataframe tbody tr th:only-of-type {\n",
       "        vertical-align: middle;\n",
       "    }\n",
       "\n",
       "    .dataframe tbody tr th {\n",
       "        vertical-align: top;\n",
       "    }\n",
       "\n",
       "    .dataframe thead th {\n",
       "        text-align: right;\n",
       "    }\n",
       "</style>\n",
       "<table border=\"1\" class=\"dataframe\">\n",
       "  <thead>\n",
       "    <tr style=\"text-align: right;\">\n",
       "      <th></th>\n",
       "      <th>Missing Count</th>\n",
       "      <th>Percentage</th>\n",
       "    </tr>\n",
       "  </thead>\n",
       "  <tbody>\n",
       "    <tr>\n",
       "      <th>CustomerID</th>\n",
       "      <td>135080</td>\n",
       "      <td>24.926694</td>\n",
       "    </tr>\n",
       "    <tr>\n",
       "      <th>Description</th>\n",
       "      <td>1454</td>\n",
       "      <td>0.268311</td>\n",
       "    </tr>\n",
       "    <tr>\n",
       "      <th>StockCode</th>\n",
       "      <td>0</td>\n",
       "      <td>0.000000</td>\n",
       "    </tr>\n",
       "    <tr>\n",
       "      <th>InvoiceNo</th>\n",
       "      <td>0</td>\n",
       "      <td>0.000000</td>\n",
       "    </tr>\n",
       "    <tr>\n",
       "      <th>Quantity</th>\n",
       "      <td>0</td>\n",
       "      <td>0.000000</td>\n",
       "    </tr>\n",
       "    <tr>\n",
       "      <th>InvoiceDate</th>\n",
       "      <td>0</td>\n",
       "      <td>0.000000</td>\n",
       "    </tr>\n",
       "    <tr>\n",
       "      <th>UnitPrice</th>\n",
       "      <td>0</td>\n",
       "      <td>0.000000</td>\n",
       "    </tr>\n",
       "    <tr>\n",
       "      <th>Country</th>\n",
       "      <td>0</td>\n",
       "      <td>0.000000</td>\n",
       "    </tr>\n",
       "  </tbody>\n",
       "</table>\n",
       "</div>"
      ],
      "text/plain": [
       "             Missing Count  Percentage\n",
       "CustomerID          135080   24.926694\n",
       "Description           1454    0.268311\n",
       "StockCode                0    0.000000\n",
       "InvoiceNo                0    0.000000\n",
       "Quantity                 0    0.000000\n",
       "InvoiceDate              0    0.000000\n",
       "UnitPrice                0    0.000000\n",
       "Country                  0    0.000000"
      ]
     },
     "execution_count": 11,
     "metadata": {},
     "output_type": "execute_result"
    }
   ],
   "source": [
    "# Lets check for missing values\n",
    "\n",
    "missing = df.isnull().sum()\n",
    "missing_pct = (missing / len(df)) * 100\n",
    "missing_df = pd.DataFrame({\n",
    "    'Missing Count': missing,\n",
    "    'Percentage': missing_pct\n",
    "})\n",
    "missing_df = missing_df.sort_values(by='Percentage', ascending=False)\n",
    "missing_df"
   ]
  },
  {
   "cell_type": "code",
   "execution_count": 12,
   "id": "2915f15a",
   "metadata": {},
   "outputs": [],
   "source": [
    "# Drop missing CustomerIDs\n",
    "df = df.dropna(subset=['CustomerID'])"
   ]
  },
  {
   "cell_type": "code",
   "execution_count": 13,
   "id": "2658d9dd",
   "metadata": {},
   "outputs": [],
   "source": [
    "# Remove cancelled invoices\n",
    "df = df[~df['InvoiceNo'].astype(str).str.startswith('C')]"
   ]
  },
  {
   "cell_type": "code",
   "execution_count": 14,
   "id": "dcc3dc41",
   "metadata": {},
   "outputs": [
    {
     "data": {
      "text/plain": [
       "array(['536365', '536366', '536367', ..., '581585', '581586', '581587'],\n",
       "      shape=(18536,), dtype=object)"
      ]
     },
     "execution_count": 14,
     "metadata": {},
     "output_type": "execute_result"
    }
   ],
   "source": [
    "df.InvoiceNo.unique()"
   ]
  },
  {
   "cell_type": "code",
   "execution_count": 15,
   "id": "76844549",
   "metadata": {},
   "outputs": [],
   "source": [
    "# lets drop missing values\n",
    "\n",
    "df.dropna(inplace=True)"
   ]
  },
  {
   "cell_type": "code",
   "execution_count": 16,
   "id": "98f9af6b",
   "metadata": {},
   "outputs": [
    {
     "data": {
      "text/html": [
       "<div>\n",
       "<style scoped>\n",
       "    .dataframe tbody tr th:only-of-type {\n",
       "        vertical-align: middle;\n",
       "    }\n",
       "\n",
       "    .dataframe tbody tr th {\n",
       "        vertical-align: top;\n",
       "    }\n",
       "\n",
       "    .dataframe thead th {\n",
       "        text-align: right;\n",
       "    }\n",
       "</style>\n",
       "<table border=\"1\" class=\"dataframe\">\n",
       "  <thead>\n",
       "    <tr style=\"text-align: right;\">\n",
       "      <th></th>\n",
       "      <th>Missing Count</th>\n",
       "      <th>Percentage</th>\n",
       "    </tr>\n",
       "  </thead>\n",
       "  <tbody>\n",
       "    <tr>\n",
       "      <th>InvoiceNo</th>\n",
       "      <td>0</td>\n",
       "      <td>0.0</td>\n",
       "    </tr>\n",
       "    <tr>\n",
       "      <th>StockCode</th>\n",
       "      <td>0</td>\n",
       "      <td>0.0</td>\n",
       "    </tr>\n",
       "    <tr>\n",
       "      <th>Description</th>\n",
       "      <td>0</td>\n",
       "      <td>0.0</td>\n",
       "    </tr>\n",
       "    <tr>\n",
       "      <th>Quantity</th>\n",
       "      <td>0</td>\n",
       "      <td>0.0</td>\n",
       "    </tr>\n",
       "    <tr>\n",
       "      <th>InvoiceDate</th>\n",
       "      <td>0</td>\n",
       "      <td>0.0</td>\n",
       "    </tr>\n",
       "    <tr>\n",
       "      <th>UnitPrice</th>\n",
       "      <td>0</td>\n",
       "      <td>0.0</td>\n",
       "    </tr>\n",
       "    <tr>\n",
       "      <th>CustomerID</th>\n",
       "      <td>0</td>\n",
       "      <td>0.0</td>\n",
       "    </tr>\n",
       "    <tr>\n",
       "      <th>Country</th>\n",
       "      <td>0</td>\n",
       "      <td>0.0</td>\n",
       "    </tr>\n",
       "  </tbody>\n",
       "</table>\n",
       "</div>"
      ],
      "text/plain": [
       "             Missing Count  Percentage\n",
       "InvoiceNo                0         0.0\n",
       "StockCode                0         0.0\n",
       "Description              0         0.0\n",
       "Quantity                 0         0.0\n",
       "InvoiceDate              0         0.0\n",
       "UnitPrice                0         0.0\n",
       "CustomerID               0         0.0\n",
       "Country                  0         0.0"
      ]
     },
     "execution_count": 16,
     "metadata": {},
     "output_type": "execute_result"
    }
   ],
   "source": [
    "# Lets check for missing values again\n",
    "\n",
    "missing = df.isnull().sum()\n",
    "missing_pct = (missing / len(df)) * 100\n",
    "missing_df = pd.DataFrame({\n",
    "    'Missing Count': missing,\n",
    "    'Percentage': missing_pct\n",
    "})\n",
    "missing_df = missing_df.sort_values(by='Percentage', ascending=False)\n",
    "missing_df"
   ]
  },
  {
   "cell_type": "code",
   "execution_count": 17,
   "id": "91191a56",
   "metadata": {},
   "outputs": [
    {
     "data": {
      "text/plain": [
       "np.int64(5192)"
      ]
     },
     "execution_count": 17,
     "metadata": {},
     "output_type": "execute_result"
    }
   ],
   "source": [
    "# Lets check for duplicate values or rows\n",
    "\n",
    "df.duplicated().sum(\n",
    "    axis=0\n",
    ")"
   ]
  },
  {
   "cell_type": "code",
   "execution_count": 18,
   "id": "a3289d04",
   "metadata": {},
   "outputs": [],
   "source": [
    "# lets remove duplicate\n",
    "\n",
    "df.drop_duplicates(inplace=True)"
   ]
  },
  {
   "cell_type": "code",
   "execution_count": 19,
   "id": "88f5be5f",
   "metadata": {},
   "outputs": [
    {
     "data": {
      "text/plain": [
       "np.int64(0)"
      ]
     },
     "execution_count": 19,
     "metadata": {},
     "output_type": "execute_result"
    }
   ],
   "source": [
    "# Lets check for duplicate values or rows again\n",
    "\n",
    "df.duplicated().sum(\n",
    "    axis=0\n",
    ")"
   ]
  },
  {
   "cell_type": "code",
   "execution_count": 20,
   "id": "008199d3",
   "metadata": {},
   "outputs": [
    {
     "data": {
      "text/plain": [
       "(392732, 8)"
      ]
     },
     "execution_count": 20,
     "metadata": {},
     "output_type": "execute_result"
    }
   ],
   "source": [
    "df.shape"
   ]
  },
  {
   "cell_type": "markdown",
   "id": "b890568f",
   "metadata": {},
   "source": [
    "### **3. Exploratory Data Analysis**"
   ]
  },
  {
   "cell_type": "code",
   "execution_count": 21,
   "id": "b1d28fa9",
   "metadata": {},
   "outputs": [
    {
     "data": {
      "text/plain": [
       "Index(['InvoiceNo', 'StockCode', 'Description', 'Quantity', 'InvoiceDate',\n",
       "       'UnitPrice', 'CustomerID', 'Country'],\n",
       "      dtype='object')"
      ]
     },
     "execution_count": 21,
     "metadata": {},
     "output_type": "execute_result"
    }
   ],
   "source": [
    "df.columns"
   ]
  },
  {
   "cell_type": "markdown",
   "id": "23f4d6c5",
   "metadata": {},
   "source": [
    "##### **a. Univariate analysis**"
   ]
  },
  {
   "cell_type": "code",
   "execution_count": 22,
   "id": "1bbb520b",
   "metadata": {},
   "outputs": [],
   "source": [
    "# Here, we will inspect our variables one by one"
   ]
  },
  {
   "cell_type": "code",
   "execution_count": 23,
   "id": "bd1632d0",
   "metadata": {},
   "outputs": [
    {
     "name": "stdout",
     "output_type": "stream",
     "text": [
      "Number of unique InvoiceNo: 18536\n",
      "Number of transactions: 392732\n",
      "List of unique InvoiceNo:['536365' '536366' '536367' ... '581585' '581586' '581587']\n",
      "Data types: object\n"
     ]
    }
   ],
   "source": [
    "# InvoiceNo\n",
    "print(f\"Number of unique InvoiceNo: {df.InvoiceNo.nunique()}\")\n",
    "print(f\"Number of transactions: {len(df.InvoiceNo)}\")\n",
    "print(f\"List of unique InvoiceNo:{df.InvoiceNo.unique()}\")\n",
    "print(f\"Data types: {df.InvoiceNo.dtypes}\")"
   ]
  },
  {
   "cell_type": "code",
   "execution_count": 24,
   "id": "fe43ea61",
   "metadata": {},
   "outputs": [
    {
     "name": "stdout",
     "output_type": "stream",
     "text": [
      "Number of unique StockCode: 3665\n",
      "Number of transactions: 392732\n",
      "List of unique StockCode:['85123A' '71053' '84406B' ... '90214Z' '90089' '23843']\n",
      "Data types: object\n"
     ]
    }
   ],
   "source": [
    "# StockCode\n",
    "print(f\"Number of unique StockCode: {df.StockCode.nunique()}\")\n",
    "print(f\"Number of transactions: {len(df.StockCode)}\")\n",
    "print(f\"List of unique StockCode:{df.StockCode.unique()}\")\n",
    "print(f\"Data types: {df.StockCode.dtypes}\")"
   ]
  },
  {
   "cell_type": "code",
   "execution_count": 25,
   "id": "2e93bce0",
   "metadata": {},
   "outputs": [
    {
     "name": "stdout",
     "output_type": "stream",
     "text": [
      "Number of unique product Description: 3877\n",
      "Number of Description: 392732\n",
      "List of Description:Description\n",
      "WHITE HANGING HEART T-LIGHT HOLDER    2016\n",
      "REGENCY CAKESTAND 3 TIER              1714\n",
      "JUMBO BAG RED RETROSPOT               1615\n",
      "ASSORTED COLOUR BIRD ORNAMENT         1395\n",
      "PARTY BUNTING                         1390\n",
      "LUNCH BAG RED RETROSPOT               1303\n",
      "SET OF 3 CAKE TINS PANTRY DESIGN      1152\n",
      "POSTAGE                               1099\n",
      "LUNCH BAG  BLACK SKULL.               1078\n",
      "PACK OF 72 RETROSPOT CAKE CASES       1050\n",
      "Name: count, dtype: int64\n",
      "Data types: object\n"
     ]
    }
   ],
   "source": [
    "# Description\n",
    "print(f\"Number of unique product Description: {df.Description.nunique()}\")\n",
    "print(f\"Number of Description: {len(df.Description)}\")\n",
    "print(f\"List of Description:{df.Description.value_counts().head(10)}\")\n",
    "print(f\"Data types: {df.Description.dtypes}\")"
   ]
  },
  {
   "cell_type": "code",
   "execution_count": 26,
   "id": "e92a7d55",
   "metadata": {},
   "outputs": [
    {
     "data": {
      "text/plain": [
       "Description\n",
       "PAPER CRAFT , LITTLE BIRDIE           80995\n",
       "MEDIUM CERAMIC TOP STORAGE JAR        77916\n",
       "WORLD WAR 2 GLIDERS ASSTD DESIGNS     54319\n",
       "JUMBO BAG RED RETROSPOT               46078\n",
       "WHITE HANGING HEART T-LIGHT HOLDER    36706\n",
       "ASSORTED COLOUR BIRD ORNAMENT         35263\n",
       "PACK OF 72 RETROSPOT CAKE CASES       33670\n",
       "POPCORN HOLDER                        30919\n",
       "RABBIT NIGHT LIGHT                    27153\n",
       "MINI PAINT SET VINTAGE                26076\n",
       "Name: Quantity, dtype: int64"
      ]
     },
     "execution_count": 26,
     "metadata": {},
     "output_type": "execute_result"
    }
   ],
   "source": [
    "# Total quantity sold for each product (top 10)\n",
    "df.groupby('Description')['Quantity'].sum().sort_values(ascending=False).head(10)"
   ]
  },
  {
   "cell_type": "code",
   "execution_count": 27,
   "id": "fed5d29c",
   "metadata": {},
   "outputs": [],
   "source": [
    "# LEts add a new column of total price\n",
    "df[\"TotalPrice\"] = df[\"Quantity\"] * df[\"UnitPrice\"]"
   ]
  },
  {
   "cell_type": "code",
   "execution_count": 28,
   "id": "270b3d29",
   "metadata": {},
   "outputs": [
    {
     "data": {
      "text/html": [
       "<div>\n",
       "<style scoped>\n",
       "    .dataframe tbody tr th:only-of-type {\n",
       "        vertical-align: middle;\n",
       "    }\n",
       "\n",
       "    .dataframe tbody tr th {\n",
       "        vertical-align: top;\n",
       "    }\n",
       "\n",
       "    .dataframe thead th {\n",
       "        text-align: right;\n",
       "    }\n",
       "</style>\n",
       "<table border=\"1\" class=\"dataframe\">\n",
       "  <thead>\n",
       "    <tr style=\"text-align: right;\">\n",
       "      <th></th>\n",
       "      <th>InvoiceNo</th>\n",
       "      <th>StockCode</th>\n",
       "      <th>Description</th>\n",
       "      <th>Quantity</th>\n",
       "      <th>InvoiceDate</th>\n",
       "      <th>UnitPrice</th>\n",
       "      <th>CustomerID</th>\n",
       "      <th>Country</th>\n",
       "      <th>TotalPrice</th>\n",
       "    </tr>\n",
       "  </thead>\n",
       "  <tbody>\n",
       "    <tr>\n",
       "      <th>0</th>\n",
       "      <td>536365</td>\n",
       "      <td>85123A</td>\n",
       "      <td>WHITE HANGING HEART T-LIGHT HOLDER</td>\n",
       "      <td>6</td>\n",
       "      <td>2010-12-01 08:26:00</td>\n",
       "      <td>2.55</td>\n",
       "      <td>17850.0</td>\n",
       "      <td>United Kingdom</td>\n",
       "      <td>15.30</td>\n",
       "    </tr>\n",
       "    <tr>\n",
       "      <th>1</th>\n",
       "      <td>536365</td>\n",
       "      <td>71053</td>\n",
       "      <td>WHITE METAL LANTERN</td>\n",
       "      <td>6</td>\n",
       "      <td>2010-12-01 08:26:00</td>\n",
       "      <td>3.39</td>\n",
       "      <td>17850.0</td>\n",
       "      <td>United Kingdom</td>\n",
       "      <td>20.34</td>\n",
       "    </tr>\n",
       "  </tbody>\n",
       "</table>\n",
       "</div>"
      ],
      "text/plain": [
       "  InvoiceNo StockCode                         Description  Quantity  \\\n",
       "0    536365    85123A  WHITE HANGING HEART T-LIGHT HOLDER         6   \n",
       "1    536365     71053                 WHITE METAL LANTERN         6   \n",
       "\n",
       "           InvoiceDate  UnitPrice  CustomerID         Country  TotalPrice  \n",
       "0  2010-12-01 08:26:00       2.55     17850.0  United Kingdom       15.30  \n",
       "1  2010-12-01 08:26:00       3.39     17850.0  United Kingdom       20.34  "
      ]
     },
     "execution_count": 28,
     "metadata": {},
     "output_type": "execute_result"
    }
   ],
   "source": [
    "df.head(2)"
   ]
  },
  {
   "cell_type": "markdown",
   "id": "1d7a1e73",
   "metadata": {},
   "source": []
  },
  {
   "cell_type": "code",
   "execution_count": 29,
   "id": "a2666bfc",
   "metadata": {},
   "outputs": [
    {
     "data": {
      "text/html": [
       "<div>\n",
       "<style scoped>\n",
       "    .dataframe tbody tr th:only-of-type {\n",
       "        vertical-align: middle;\n",
       "    }\n",
       "\n",
       "    .dataframe tbody tr th {\n",
       "        vertical-align: top;\n",
       "    }\n",
       "\n",
       "    .dataframe thead th {\n",
       "        text-align: right;\n",
       "    }\n",
       "</style>\n",
       "<table border=\"1\" class=\"dataframe\">\n",
       "  <thead>\n",
       "    <tr style=\"text-align: right;\">\n",
       "      <th></th>\n",
       "      <th>Total_Quantity</th>\n",
       "      <th>Num_Transactions</th>\n",
       "      <th>Avg_Price</th>\n",
       "    </tr>\n",
       "    <tr>\n",
       "      <th>Description</th>\n",
       "      <th></th>\n",
       "      <th></th>\n",
       "      <th></th>\n",
       "    </tr>\n",
       "  </thead>\n",
       "  <tbody>\n",
       "    <tr>\n",
       "      <th>PAPER CRAFT , LITTLE BIRDIE</th>\n",
       "      <td>80995</td>\n",
       "      <td>1</td>\n",
       "      <td>2.08</td>\n",
       "    </tr>\n",
       "    <tr>\n",
       "      <th>MEDIUM CERAMIC TOP STORAGE JAR</th>\n",
       "      <td>77916</td>\n",
       "      <td>198</td>\n",
       "      <td>1.22</td>\n",
       "    </tr>\n",
       "    <tr>\n",
       "      <th>WORLD WAR 2 GLIDERS ASSTD DESIGNS</th>\n",
       "      <td>54319</td>\n",
       "      <td>472</td>\n",
       "      <td>0.29</td>\n",
       "    </tr>\n",
       "    <tr>\n",
       "      <th>JUMBO BAG RED RETROSPOT</th>\n",
       "      <td>46078</td>\n",
       "      <td>1615</td>\n",
       "      <td>2.02</td>\n",
       "    </tr>\n",
       "    <tr>\n",
       "      <th>WHITE HANGING HEART T-LIGHT HOLDER</th>\n",
       "      <td>36706</td>\n",
       "      <td>2016</td>\n",
       "      <td>2.89</td>\n",
       "    </tr>\n",
       "    <tr>\n",
       "      <th>ASSORTED COLOUR BIRD ORNAMENT</th>\n",
       "      <td>35263</td>\n",
       "      <td>1395</td>\n",
       "      <td>1.68</td>\n",
       "    </tr>\n",
       "    <tr>\n",
       "      <th>PACK OF 72 RETROSPOT CAKE CASES</th>\n",
       "      <td>33670</td>\n",
       "      <td>1050</td>\n",
       "      <td>0.55</td>\n",
       "    </tr>\n",
       "    <tr>\n",
       "      <th>POPCORN HOLDER</th>\n",
       "      <td>30919</td>\n",
       "      <td>653</td>\n",
       "      <td>0.84</td>\n",
       "    </tr>\n",
       "    <tr>\n",
       "      <th>RABBIT NIGHT LIGHT</th>\n",
       "      <td>27153</td>\n",
       "      <td>823</td>\n",
       "      <td>2.01</td>\n",
       "    </tr>\n",
       "    <tr>\n",
       "      <th>MINI PAINT SET VINTAGE</th>\n",
       "      <td>26076</td>\n",
       "      <td>325</td>\n",
       "      <td>0.66</td>\n",
       "    </tr>\n",
       "  </tbody>\n",
       "</table>\n",
       "</div>"
      ],
      "text/plain": [
       "                                    Total_Quantity  Num_Transactions  \\\n",
       "Description                                                            \n",
       "PAPER CRAFT , LITTLE BIRDIE                  80995                 1   \n",
       "MEDIUM CERAMIC TOP STORAGE JAR               77916               198   \n",
       "WORLD WAR 2 GLIDERS ASSTD DESIGNS            54319               472   \n",
       "JUMBO BAG RED RETROSPOT                      46078              1615   \n",
       "WHITE HANGING HEART T-LIGHT HOLDER           36706              2016   \n",
       "ASSORTED COLOUR BIRD ORNAMENT                35263              1395   \n",
       "PACK OF 72 RETROSPOT CAKE CASES              33670              1050   \n",
       "POPCORN HOLDER                               30919               653   \n",
       "RABBIT NIGHT LIGHT                           27153               823   \n",
       "MINI PAINT SET VINTAGE                       26076               325   \n",
       "\n",
       "                                    Avg_Price  \n",
       "Description                                    \n",
       "PAPER CRAFT , LITTLE BIRDIE              2.08  \n",
       "MEDIUM CERAMIC TOP STORAGE JAR           1.22  \n",
       "WORLD WAR 2 GLIDERS ASSTD DESIGNS        0.29  \n",
       "JUMBO BAG RED RETROSPOT                  2.02  \n",
       "WHITE HANGING HEART T-LIGHT HOLDER       2.89  \n",
       "ASSORTED COLOUR BIRD ORNAMENT            1.68  \n",
       "PACK OF 72 RETROSPOT CAKE CASES          0.55  \n",
       "POPCORN HOLDER                           0.84  \n",
       "RABBIT NIGHT LIGHT                       2.01  \n",
       "MINI PAINT SET VINTAGE                   0.66  "
      ]
     },
     "execution_count": 29,
     "metadata": {},
     "output_type": "execute_result"
    }
   ],
   "source": [
    "product_analysis = df.groupby('Description').agg({\n",
    "    'Quantity': 'sum',           # Total quantity sold\n",
    "    'InvoiceNo': 'count',        # Number of transactions\n",
    "    'UnitPrice': 'mean'          # Average price\n",
    "}).round(2)\n",
    "\n",
    "product_analysis.columns = ['Total_Quantity', 'Num_Transactions', 'Avg_Price']\n",
    "product_analysis = product_analysis.sort_values('Total_Quantity', ascending=False)\n",
    "product_analysis.head(10)"
   ]
  },
  {
   "cell_type": "code",
   "execution_count": 30,
   "id": "7ded0dae",
   "metadata": {},
   "outputs": [
    {
     "data": {
      "text/plain": [
       "CustomerID\n",
       "12748.0    210\n",
       "14911.0    201\n",
       "17841.0    124\n",
       "13089.0     97\n",
       "14606.0     93\n",
       "15311.0     91\n",
       "12971.0     86\n",
       "14646.0     74\n",
       "16029.0     63\n",
       "13408.0     62\n",
       "Name: InvoiceNo, dtype: int64"
      ]
     },
     "execution_count": 30,
     "metadata": {},
     "output_type": "execute_result"
    }
   ],
   "source": [
    "top_frequency = df.groupby('CustomerID')['InvoiceNo'].nunique().sort_values(ascending=False).head(10)\n",
    "top_frequency"
   ]
  },
  {
   "cell_type": "code",
   "execution_count": 31,
   "id": "cf5d35cc",
   "metadata": {},
   "outputs": [
    {
     "data": {
      "text/plain": [
       "CustomerID\n",
       "14646.0    197491\n",
       "16446.0     80997\n",
       "14911.0     80490\n",
       "12415.0     77670\n",
       "12346.0     74215\n",
       "17450.0     69973\n",
       "17511.0     64549\n",
       "18102.0     64124\n",
       "13694.0     63312\n",
       "14298.0     58343\n",
       "Name: Quantity, dtype: int64"
      ]
     },
     "execution_count": 31,
     "metadata": {},
     "output_type": "execute_result"
    }
   ],
   "source": [
    "top_items = df.groupby('CustomerID')['Quantity'].sum().sort_values(ascending=False).head(10)\n",
    "top_items"
   ]
  },
  {
   "cell_type": "code",
   "execution_count": 32,
   "id": "6623f1ca",
   "metadata": {},
   "outputs": [
    {
     "data": {
      "text/html": [
       "<div>\n",
       "<style scoped>\n",
       "    .dataframe tbody tr th:only-of-type {\n",
       "        vertical-align: middle;\n",
       "    }\n",
       "\n",
       "    .dataframe tbody tr th {\n",
       "        vertical-align: top;\n",
       "    }\n",
       "\n",
       "    .dataframe thead th {\n",
       "        text-align: right;\n",
       "    }\n",
       "</style>\n",
       "<table border=\"1\" class=\"dataframe\">\n",
       "  <thead>\n",
       "    <tr style=\"text-align: right;\">\n",
       "      <th></th>\n",
       "      <th>Total_Spending</th>\n",
       "      <th>Num_Purchases</th>\n",
       "      <th>Total_Items</th>\n",
       "      <th>Last_Purchase</th>\n",
       "    </tr>\n",
       "    <tr>\n",
       "      <th>CustomerID</th>\n",
       "      <th></th>\n",
       "      <th></th>\n",
       "      <th></th>\n",
       "      <th></th>\n",
       "    </tr>\n",
       "  </thead>\n",
       "  <tbody>\n",
       "    <tr>\n",
       "      <th>14646.0</th>\n",
       "      <td>280206.02</td>\n",
       "      <td>74</td>\n",
       "      <td>197491</td>\n",
       "      <td>2011-12-08 12:12:00</td>\n",
       "    </tr>\n",
       "    <tr>\n",
       "      <th>18102.0</th>\n",
       "      <td>259657.30</td>\n",
       "      <td>60</td>\n",
       "      <td>64124</td>\n",
       "      <td>2011-12-09 11:50:00</td>\n",
       "    </tr>\n",
       "    <tr>\n",
       "      <th>17450.0</th>\n",
       "      <td>194390.79</td>\n",
       "      <td>46</td>\n",
       "      <td>69973</td>\n",
       "      <td>2011-12-01 13:29:00</td>\n",
       "    </tr>\n",
       "    <tr>\n",
       "      <th>16446.0</th>\n",
       "      <td>168472.50</td>\n",
       "      <td>2</td>\n",
       "      <td>80997</td>\n",
       "      <td>2011-12-09 09:15:00</td>\n",
       "    </tr>\n",
       "    <tr>\n",
       "      <th>14911.0</th>\n",
       "      <td>143711.17</td>\n",
       "      <td>201</td>\n",
       "      <td>80490</td>\n",
       "      <td>2011-12-08 15:54:00</td>\n",
       "    </tr>\n",
       "    <tr>\n",
       "      <th>12415.0</th>\n",
       "      <td>124914.53</td>\n",
       "      <td>21</td>\n",
       "      <td>77670</td>\n",
       "      <td>2011-11-15 14:22:00</td>\n",
       "    </tr>\n",
       "    <tr>\n",
       "      <th>14156.0</th>\n",
       "      <td>117210.08</td>\n",
       "      <td>55</td>\n",
       "      <td>57768</td>\n",
       "      <td>2011-11-30 10:54:00</td>\n",
       "    </tr>\n",
       "    <tr>\n",
       "      <th>17511.0</th>\n",
       "      <td>91062.38</td>\n",
       "      <td>31</td>\n",
       "      <td>64549</td>\n",
       "      <td>2011-12-07 10:12:00</td>\n",
       "    </tr>\n",
       "    <tr>\n",
       "      <th>16029.0</th>\n",
       "      <td>80850.84</td>\n",
       "      <td>63</td>\n",
       "      <td>40108</td>\n",
       "      <td>2011-11-01 10:27:00</td>\n",
       "    </tr>\n",
       "    <tr>\n",
       "      <th>12346.0</th>\n",
       "      <td>77183.60</td>\n",
       "      <td>1</td>\n",
       "      <td>74215</td>\n",
       "      <td>2011-01-18 10:01:00</td>\n",
       "    </tr>\n",
       "  </tbody>\n",
       "</table>\n",
       "</div>"
      ],
      "text/plain": [
       "            Total_Spending  Num_Purchases  Total_Items        Last_Purchase\n",
       "CustomerID                                                                 \n",
       "14646.0          280206.02             74       197491  2011-12-08 12:12:00\n",
       "18102.0          259657.30             60        64124  2011-12-09 11:50:00\n",
       "17450.0          194390.79             46        69973  2011-12-01 13:29:00\n",
       "16446.0          168472.50              2        80997  2011-12-09 09:15:00\n",
       "14911.0          143711.17            201        80490  2011-12-08 15:54:00\n",
       "12415.0          124914.53             21        77670  2011-11-15 14:22:00\n",
       "14156.0          117210.08             55        57768  2011-11-30 10:54:00\n",
       "17511.0           91062.38             31        64549  2011-12-07 10:12:00\n",
       "16029.0           80850.84             63        40108  2011-11-01 10:27:00\n",
       "12346.0           77183.60              1        74215  2011-01-18 10:01:00"
      ]
     },
     "execution_count": 32,
     "metadata": {},
     "output_type": "execute_result"
    }
   ],
   "source": [
    "customer_summary = df.groupby('CustomerID').agg({\n",
    "    'TotalPrice': 'sum',         # Total spending\n",
    "    'InvoiceNo': 'nunique',      # Number of purchases\n",
    "    'Quantity': 'sum',           # Total items bought\n",
    "    'InvoiceDate': 'max'         # Last purchase date\n",
    "}).round(2)\n",
    "\n",
    "customer_summary.columns = ['Total_Spending', 'Num_Purchases', 'Total_Items', 'Last_Purchase']\n",
    "customer_summary = customer_summary.sort_values('Total_Spending', ascending=False)\n",
    "customer_summary.head(10)"
   ]
  },
  {
   "cell_type": "code",
   "execution_count": 33,
   "id": "83acc5a0",
   "metadata": {},
   "outputs": [
    {
     "name": "stdout",
     "output_type": "stream",
     "text": [
      "Number of unique Quantity: 302\n",
      "Number of Quantity: 392732\n",
      "Data types: int64\n"
     ]
    }
   ],
   "source": [
    "# Quantity\n",
    "\n",
    "print(f\"Number of unique Quantity: {df.Quantity.nunique()}\")\n",
    "print(f\"Number of Quantity: {len(df.Quantity)}\")\n",
    "#print(f\"List of Quantity:{df.Quantity.unique()}\")\n",
    "print(f\"Data types: {df.Quantity.dtypes}\")"
   ]
  },
  {
   "cell_type": "code",
   "execution_count": 34,
   "id": "f644e39c",
   "metadata": {},
   "outputs": [
    {
     "name": "stdout",
     "output_type": "stream",
     "text": [
      "Number of unique InvoiceDate: 17286\n",
      "Number of InvoiceDate: 392732\n",
      "Data types: object\n"
     ]
    }
   ],
   "source": [
    "# InvoiceDate\n",
    "\n",
    "print(f\"Number of unique InvoiceDate: {df.InvoiceDate.nunique()}\")\n",
    "print(f\"Number of InvoiceDate: {len(df.InvoiceDate)}\")\n",
    "#print(f\"List of InvoiceDate:{df.InvoiceDate.unique()}\")\n",
    "print(f\"Data types: {df.InvoiceDate.dtypes}\")"
   ]
  },
  {
   "cell_type": "code",
   "execution_count": 35,
   "id": "51ca825d",
   "metadata": {},
   "outputs": [],
   "source": [
    "# Run this code if there is a need to convert to datetime\n",
    "\n",
    "# df['InvoiceDate'] = pd.to_datetime(df['InvoiceDate'])\n",
    "# print(df.InvoiceDate.dtypes)"
   ]
  },
  {
   "cell_type": "code",
   "execution_count": 36,
   "id": "036b069c",
   "metadata": {},
   "outputs": [
    {
     "data": {
      "text/html": [
       "<div>\n",
       "<style scoped>\n",
       "    .dataframe tbody tr th:only-of-type {\n",
       "        vertical-align: middle;\n",
       "    }\n",
       "\n",
       "    .dataframe tbody tr th {\n",
       "        vertical-align: top;\n",
       "    }\n",
       "\n",
       "    .dataframe thead th {\n",
       "        text-align: right;\n",
       "    }\n",
       "</style>\n",
       "<table border=\"1\" class=\"dataframe\">\n",
       "  <thead>\n",
       "    <tr style=\"text-align: right;\">\n",
       "      <th></th>\n",
       "      <th>InvoiceNo</th>\n",
       "      <th>StockCode</th>\n",
       "      <th>Description</th>\n",
       "      <th>Quantity</th>\n",
       "      <th>InvoiceDate</th>\n",
       "      <th>UnitPrice</th>\n",
       "      <th>CustomerID</th>\n",
       "      <th>Country</th>\n",
       "      <th>TotalPrice</th>\n",
       "    </tr>\n",
       "  </thead>\n",
       "  <tbody>\n",
       "    <tr>\n",
       "      <th>0</th>\n",
       "      <td>536365</td>\n",
       "      <td>85123A</td>\n",
       "      <td>WHITE HANGING HEART T-LIGHT HOLDER</td>\n",
       "      <td>6</td>\n",
       "      <td>2010-12-01 08:26:00</td>\n",
       "      <td>2.55</td>\n",
       "      <td>17850.0</td>\n",
       "      <td>United Kingdom</td>\n",
       "      <td>15.30</td>\n",
       "    </tr>\n",
       "    <tr>\n",
       "      <th>1</th>\n",
       "      <td>536365</td>\n",
       "      <td>71053</td>\n",
       "      <td>WHITE METAL LANTERN</td>\n",
       "      <td>6</td>\n",
       "      <td>2010-12-01 08:26:00</td>\n",
       "      <td>3.39</td>\n",
       "      <td>17850.0</td>\n",
       "      <td>United Kingdom</td>\n",
       "      <td>20.34</td>\n",
       "    </tr>\n",
       "  </tbody>\n",
       "</table>\n",
       "</div>"
      ],
      "text/plain": [
       "  InvoiceNo StockCode                         Description  Quantity  \\\n",
       "0    536365    85123A  WHITE HANGING HEART T-LIGHT HOLDER         6   \n",
       "1    536365     71053                 WHITE METAL LANTERN         6   \n",
       "\n",
       "           InvoiceDate  UnitPrice  CustomerID         Country  TotalPrice  \n",
       "0  2010-12-01 08:26:00       2.55     17850.0  United Kingdom       15.30  \n",
       "1  2010-12-01 08:26:00       3.39     17850.0  United Kingdom       20.34  "
      ]
     },
     "execution_count": 36,
     "metadata": {},
     "output_type": "execute_result"
    }
   ],
   "source": [
    "df['TotalPrice'] = df['Quantity'] * df['UnitPrice']\n",
    "df.head(2)"
   ]
  },
  {
   "cell_type": "code",
   "execution_count": 37,
   "id": "ea073774",
   "metadata": {},
   "outputs": [],
   "source": [
    "# Convert to pandas datetime format\n",
    "df[\"InvoiceDate\"] = pd.to_datetime(df[\"InvoiceDate\"])"
   ]
  },
  {
   "cell_type": "markdown",
   "id": "5cdba320",
   "metadata": {},
   "source": [
    "### **4. Preprocessing our data for clustering**\n"
   ]
  },
  {
   "cell_type": "markdown",
   "id": "c0863451",
   "metadata": {},
   "source": [
    "Please, follow closely.\n",
    "\n",
    "RFM stands for **Recency**, **Frequency**, **Monetary**. These are 3 behavioural dimensions we use to group or cluster customers based on their purchase behaviour\n",
    "\n",
    "It is often used in customer segmentation before clustering models like k-means or hierarchical clustering\n",
    "\n",
    "**Recency**\n",
    "\n",
    "This measures how rencently a customer made their last purchase. This matters a lot because the recent buyers usually more engaged.\n",
    "\n",
    "\n",
    "**Frequency**\n",
    "\n",
    "This measures how often a customer buys, the frequent buyers are more loyal.\n",
    "\n",
    "\n",
    "**Monetary**\n",
    "\n",
    "This measures how much money a customer spends on the average or in total. High spenders are the most valuable customers.\n",
    "\n",
    "\n",
    "Now with our data, how do we know which of the variables to use?\n",
    "\n",
    "lets interprete each of those concepts in terms of our data\n",
    "\n",
    "1. Recency: today - most recent purchase, meaning we would need the customerid, invoicedate\n",
    "\n",
    "2. Frequency: number of unique purchase(invoice) per customer, meaning we would need the customerid, invoicenumber\n",
    "3. Monetary: Total or average amount spent per customer, meaning we would need total amount, quantity and unit price\n",
    "\n",
    "\n"
   ]
  },
  {
   "cell_type": "markdown",
   "id": "a74b4475",
   "metadata": {},
   "source": [
    "If none of tthe above metrics are expliitly given\n",
    "\n",
    "- Look for proxy variables- ones that represent the ideas that we have defined above\n",
    "\n",
    "\n",
    "| RFM Metric | If “obvious” column missing | You could use...                                                                       |\n",
    "| ---------- | --------------------------- | -------------------------------------------------------------------------------------- |\n",
    "| Recency    | No InvoiceDate              | Any timestamp of interaction, like “last login”, “order_date”, “visit_date”            |\n",
    "| Frequency  | No InvoiceNo                | Count of interactions, logins, purchases, or sessions                                  |\n",
    "| Monetary   | No TotalAmount              | Quantity purchased, time spent, or even engagement score — anything that shows *value* |\n"
   ]
  },
  {
   "cell_type": "markdown",
   "id": "41d8b7ae",
   "metadata": {},
   "source": [
    "##### **Calculating Recency**"
   ]
  },
  {
   "cell_type": "code",
   "execution_count": 38,
   "id": "65065d0e",
   "metadata": {},
   "outputs": [
    {
     "name": "stdout",
     "output_type": "stream",
     "text": [
      "First transaction: 2010-12-01 08:26:00\n",
      "Last transaction: 2011-12-09 12:50:00\n",
      "Time span of transactions: 373 days 04:24:00 days\n",
      "Reference date (our 'today'): 2011-12-10 12:50:00\n"
     ]
    }
   ],
   "source": [
    "# lets check for the first and last transaction date\n",
    "\n",
    "print(f\"First transaction: {df['InvoiceDate'].min()}\")\n",
    "print(f\"Last transaction: {df['InvoiceDate'].max()}\")\n",
    "\n",
    "# lets check the span in days(total number of transation days)\n",
    "print(f\"Time span of transactions: {(df['InvoiceDate'].max() - df['InvoiceDate'].min())} days\")\n",
    "\n",
    "# Check documentation: https://pandas.pydata.org/docs/reference/api/pandas.Timedelta.html\n",
    "# to read about Timedelta\n",
    "\n",
    "reference_date = df['InvoiceDate'].max() + pd.Timedelta(days=1) # one day after the most recent purchase\n",
    "print(f\"Reference date (our 'today'): {reference_date}\")\n",
    "\n",
    "# Code above will help us to get, how long ago each customer made their last purchase\n"
   ]
  },
  {
   "cell_type": "code",
   "execution_count": 39,
   "id": "e5a6f7d5",
   "metadata": {},
   "outputs": [
    {
     "data": {
      "text/html": [
       "<div>\n",
       "<style scoped>\n",
       "    .dataframe tbody tr th:only-of-type {\n",
       "        vertical-align: middle;\n",
       "    }\n",
       "\n",
       "    .dataframe tbody tr th {\n",
       "        vertical-align: top;\n",
       "    }\n",
       "\n",
       "    .dataframe thead th {\n",
       "        text-align: right;\n",
       "    }\n",
       "</style>\n",
       "<table border=\"1\" class=\"dataframe\">\n",
       "  <thead>\n",
       "    <tr style=\"text-align: right;\">\n",
       "      <th></th>\n",
       "      <th>CustomerID</th>\n",
       "      <th>LastPurchaseDate</th>\n",
       "      <th>Recency</th>\n",
       "    </tr>\n",
       "  </thead>\n",
       "  <tbody>\n",
       "    <tr>\n",
       "      <th>0</th>\n",
       "      <td>12346.0</td>\n",
       "      <td>2011-01-18 10:01:00</td>\n",
       "      <td>326</td>\n",
       "    </tr>\n",
       "    <tr>\n",
       "      <th>1</th>\n",
       "      <td>12347.0</td>\n",
       "      <td>2011-12-07 15:52:00</td>\n",
       "      <td>2</td>\n",
       "    </tr>\n",
       "    <tr>\n",
       "      <th>2</th>\n",
       "      <td>12348.0</td>\n",
       "      <td>2011-09-25 13:13:00</td>\n",
       "      <td>75</td>\n",
       "    </tr>\n",
       "    <tr>\n",
       "      <th>3</th>\n",
       "      <td>12349.0</td>\n",
       "      <td>2011-11-21 09:51:00</td>\n",
       "      <td>19</td>\n",
       "    </tr>\n",
       "    <tr>\n",
       "      <th>4</th>\n",
       "      <td>12350.0</td>\n",
       "      <td>2011-02-02 16:01:00</td>\n",
       "      <td>310</td>\n",
       "    </tr>\n",
       "    <tr>\n",
       "      <th>5</th>\n",
       "      <td>12352.0</td>\n",
       "      <td>2011-11-03 14:37:00</td>\n",
       "      <td>36</td>\n",
       "    </tr>\n",
       "    <tr>\n",
       "      <th>6</th>\n",
       "      <td>12353.0</td>\n",
       "      <td>2011-05-19 17:47:00</td>\n",
       "      <td>204</td>\n",
       "    </tr>\n",
       "    <tr>\n",
       "      <th>7</th>\n",
       "      <td>12354.0</td>\n",
       "      <td>2011-04-21 13:11:00</td>\n",
       "      <td>232</td>\n",
       "    </tr>\n",
       "    <tr>\n",
       "      <th>8</th>\n",
       "      <td>12355.0</td>\n",
       "      <td>2011-05-09 13:49:00</td>\n",
       "      <td>214</td>\n",
       "    </tr>\n",
       "    <tr>\n",
       "      <th>9</th>\n",
       "      <td>12356.0</td>\n",
       "      <td>2011-11-17 08:40:00</td>\n",
       "      <td>23</td>\n",
       "    </tr>\n",
       "  </tbody>\n",
       "</table>\n",
       "</div>"
      ],
      "text/plain": [
       "   CustomerID    LastPurchaseDate  Recency\n",
       "0     12346.0 2011-01-18 10:01:00      326\n",
       "1     12347.0 2011-12-07 15:52:00        2\n",
       "2     12348.0 2011-09-25 13:13:00       75\n",
       "3     12349.0 2011-11-21 09:51:00       19\n",
       "4     12350.0 2011-02-02 16:01:00      310\n",
       "5     12352.0 2011-11-03 14:37:00       36\n",
       "6     12353.0 2011-05-19 17:47:00      204\n",
       "7     12354.0 2011-04-21 13:11:00      232\n",
       "8     12355.0 2011-05-09 13:49:00      214\n",
       "9     12356.0 2011-11-17 08:40:00       23"
      ]
     },
     "execution_count": 39,
     "metadata": {},
     "output_type": "execute_result"
    }
   ],
   "source": [
    "# For each customer, find their most recent purchase date\n",
    "recency = df.groupby('CustomerID')['InvoiceDate'].max().reset_index()\n",
    "recency.columns = ['CustomerID', 'LastPurchaseDate']\n",
    "\n",
    "# Calculate days since last purchase\n",
    "recency['Recency'] = (reference_date - recency['LastPurchaseDate']).dt.days\n",
    "recency.head(10)"
   ]
  },
  {
   "cell_type": "markdown",
   "id": "05035649",
   "metadata": {},
   "source": [
    "##### **Calculating Frequency**"
   ]
  },
  {
   "cell_type": "code",
   "execution_count": 40,
   "id": "e728ee86",
   "metadata": {},
   "outputs": [
    {
     "data": {
      "text/html": [
       "<div>\n",
       "<style scoped>\n",
       "    .dataframe tbody tr th:only-of-type {\n",
       "        vertical-align: middle;\n",
       "    }\n",
       "\n",
       "    .dataframe tbody tr th {\n",
       "        vertical-align: top;\n",
       "    }\n",
       "\n",
       "    .dataframe thead th {\n",
       "        text-align: right;\n",
       "    }\n",
       "</style>\n",
       "<table border=\"1\" class=\"dataframe\">\n",
       "  <thead>\n",
       "    <tr style=\"text-align: right;\">\n",
       "      <th></th>\n",
       "      <th>CustomerID</th>\n",
       "      <th>Frequency</th>\n",
       "    </tr>\n",
       "  </thead>\n",
       "  <tbody>\n",
       "    <tr>\n",
       "      <th>0</th>\n",
       "      <td>12346.0</td>\n",
       "      <td>1</td>\n",
       "    </tr>\n",
       "    <tr>\n",
       "      <th>1</th>\n",
       "      <td>12347.0</td>\n",
       "      <td>7</td>\n",
       "    </tr>\n",
       "    <tr>\n",
       "      <th>2</th>\n",
       "      <td>12348.0</td>\n",
       "      <td>4</td>\n",
       "    </tr>\n",
       "    <tr>\n",
       "      <th>3</th>\n",
       "      <td>12349.0</td>\n",
       "      <td>1</td>\n",
       "    </tr>\n",
       "    <tr>\n",
       "      <th>4</th>\n",
       "      <td>12350.0</td>\n",
       "      <td>1</td>\n",
       "    </tr>\n",
       "    <tr>\n",
       "      <th>5</th>\n",
       "      <td>12352.0</td>\n",
       "      <td>8</td>\n",
       "    </tr>\n",
       "    <tr>\n",
       "      <th>6</th>\n",
       "      <td>12353.0</td>\n",
       "      <td>1</td>\n",
       "    </tr>\n",
       "    <tr>\n",
       "      <th>7</th>\n",
       "      <td>12354.0</td>\n",
       "      <td>1</td>\n",
       "    </tr>\n",
       "    <tr>\n",
       "      <th>8</th>\n",
       "      <td>12355.0</td>\n",
       "      <td>1</td>\n",
       "    </tr>\n",
       "    <tr>\n",
       "      <th>9</th>\n",
       "      <td>12356.0</td>\n",
       "      <td>3</td>\n",
       "    </tr>\n",
       "  </tbody>\n",
       "</table>\n",
       "</div>"
      ],
      "text/plain": [
       "   CustomerID  Frequency\n",
       "0     12346.0          1\n",
       "1     12347.0          7\n",
       "2     12348.0          4\n",
       "3     12349.0          1\n",
       "4     12350.0          1\n",
       "5     12352.0          8\n",
       "6     12353.0          1\n",
       "7     12354.0          1\n",
       "8     12355.0          1\n",
       "9     12356.0          3"
      ]
     },
     "execution_count": 40,
     "metadata": {},
     "output_type": "execute_result"
    }
   ],
   "source": [
    "# Count unique invoices (purchases) for each customer\n",
    "frequency = df.groupby('CustomerID')['InvoiceNo'].nunique().reset_index()\n",
    "frequency.columns = ['CustomerID', 'Frequency']\n",
    "frequency.head(10)"
   ]
  },
  {
   "cell_type": "markdown",
   "id": "a2150571",
   "metadata": {},
   "source": [
    "##### **Calculating Monetary**"
   ]
  },
  {
   "cell_type": "code",
   "execution_count": 41,
   "id": "c85c9475",
   "metadata": {},
   "outputs": [
    {
     "data": {
      "text/html": [
       "<div>\n",
       "<style scoped>\n",
       "    .dataframe tbody tr th:only-of-type {\n",
       "        vertical-align: middle;\n",
       "    }\n",
       "\n",
       "    .dataframe tbody tr th {\n",
       "        vertical-align: top;\n",
       "    }\n",
       "\n",
       "    .dataframe thead th {\n",
       "        text-align: right;\n",
       "    }\n",
       "</style>\n",
       "<table border=\"1\" class=\"dataframe\">\n",
       "  <thead>\n",
       "    <tr style=\"text-align: right;\">\n",
       "      <th></th>\n",
       "      <th>CustomerID</th>\n",
       "      <th>Monetary</th>\n",
       "    </tr>\n",
       "  </thead>\n",
       "  <tbody>\n",
       "    <tr>\n",
       "      <th>0</th>\n",
       "      <td>12346.0</td>\n",
       "      <td>77183.60</td>\n",
       "    </tr>\n",
       "    <tr>\n",
       "      <th>1</th>\n",
       "      <td>12347.0</td>\n",
       "      <td>4310.00</td>\n",
       "    </tr>\n",
       "    <tr>\n",
       "      <th>2</th>\n",
       "      <td>12348.0</td>\n",
       "      <td>1797.24</td>\n",
       "    </tr>\n",
       "    <tr>\n",
       "      <th>3</th>\n",
       "      <td>12349.0</td>\n",
       "      <td>1757.55</td>\n",
       "    </tr>\n",
       "    <tr>\n",
       "      <th>4</th>\n",
       "      <td>12350.0</td>\n",
       "      <td>334.40</td>\n",
       "    </tr>\n",
       "    <tr>\n",
       "      <th>5</th>\n",
       "      <td>12352.0</td>\n",
       "      <td>2506.04</td>\n",
       "    </tr>\n",
       "    <tr>\n",
       "      <th>6</th>\n",
       "      <td>12353.0</td>\n",
       "      <td>89.00</td>\n",
       "    </tr>\n",
       "    <tr>\n",
       "      <th>7</th>\n",
       "      <td>12354.0</td>\n",
       "      <td>1079.40</td>\n",
       "    </tr>\n",
       "    <tr>\n",
       "      <th>8</th>\n",
       "      <td>12355.0</td>\n",
       "      <td>459.40</td>\n",
       "    </tr>\n",
       "    <tr>\n",
       "      <th>9</th>\n",
       "      <td>12356.0</td>\n",
       "      <td>2811.43</td>\n",
       "    </tr>\n",
       "  </tbody>\n",
       "</table>\n",
       "</div>"
      ],
      "text/plain": [
       "   CustomerID  Monetary\n",
       "0     12346.0  77183.60\n",
       "1     12347.0   4310.00\n",
       "2     12348.0   1797.24\n",
       "3     12349.0   1757.55\n",
       "4     12350.0    334.40\n",
       "5     12352.0   2506.04\n",
       "6     12353.0     89.00\n",
       "7     12354.0   1079.40\n",
       "8     12355.0    459.40\n",
       "9     12356.0   2811.43"
      ]
     },
     "execution_count": 41,
     "metadata": {},
     "output_type": "execute_result"
    }
   ],
   "source": [
    "\n",
    "# Sum total spending for each customer\n",
    "monetary = df.groupby('CustomerID')['TotalPrice'].sum().reset_index()\n",
    "monetary.columns = ['CustomerID', 'Monetary']\n",
    "monetary.head(10)\n"
   ]
  },
  {
   "cell_type": "markdown",
   "id": "e9d9fa75",
   "metadata": {},
   "source": [
    "##### **Merge Recency, Frequency, Monetary**"
   ]
  },
  {
   "cell_type": "code",
   "execution_count": 42,
   "id": "1c6a8e3a",
   "metadata": {},
   "outputs": [
    {
     "data": {
      "text/html": [
       "<div>\n",
       "<style scoped>\n",
       "    .dataframe tbody tr th:only-of-type {\n",
       "        vertical-align: middle;\n",
       "    }\n",
       "\n",
       "    .dataframe tbody tr th {\n",
       "        vertical-align: top;\n",
       "    }\n",
       "\n",
       "    .dataframe thead th {\n",
       "        text-align: right;\n",
       "    }\n",
       "</style>\n",
       "<table border=\"1\" class=\"dataframe\">\n",
       "  <thead>\n",
       "    <tr style=\"text-align: right;\">\n",
       "      <th></th>\n",
       "      <th>CustomerID</th>\n",
       "      <th>Recency</th>\n",
       "      <th>Frequency</th>\n",
       "      <th>Monetary</th>\n",
       "    </tr>\n",
       "  </thead>\n",
       "  <tbody>\n",
       "    <tr>\n",
       "      <th>0</th>\n",
       "      <td>12346.0</td>\n",
       "      <td>326</td>\n",
       "      <td>1</td>\n",
       "      <td>77183.60</td>\n",
       "    </tr>\n",
       "    <tr>\n",
       "      <th>1</th>\n",
       "      <td>12347.0</td>\n",
       "      <td>2</td>\n",
       "      <td>7</td>\n",
       "      <td>4310.00</td>\n",
       "    </tr>\n",
       "    <tr>\n",
       "      <th>2</th>\n",
       "      <td>12348.0</td>\n",
       "      <td>75</td>\n",
       "      <td>4</td>\n",
       "      <td>1797.24</td>\n",
       "    </tr>\n",
       "    <tr>\n",
       "      <th>3</th>\n",
       "      <td>12349.0</td>\n",
       "      <td>19</td>\n",
       "      <td>1</td>\n",
       "      <td>1757.55</td>\n",
       "    </tr>\n",
       "    <tr>\n",
       "      <th>4</th>\n",
       "      <td>12350.0</td>\n",
       "      <td>310</td>\n",
       "      <td>1</td>\n",
       "      <td>334.40</td>\n",
       "    </tr>\n",
       "    <tr>\n",
       "      <th>5</th>\n",
       "      <td>12352.0</td>\n",
       "      <td>36</td>\n",
       "      <td>8</td>\n",
       "      <td>2506.04</td>\n",
       "    </tr>\n",
       "    <tr>\n",
       "      <th>6</th>\n",
       "      <td>12353.0</td>\n",
       "      <td>204</td>\n",
       "      <td>1</td>\n",
       "      <td>89.00</td>\n",
       "    </tr>\n",
       "    <tr>\n",
       "      <th>7</th>\n",
       "      <td>12354.0</td>\n",
       "      <td>232</td>\n",
       "      <td>1</td>\n",
       "      <td>1079.40</td>\n",
       "    </tr>\n",
       "    <tr>\n",
       "      <th>8</th>\n",
       "      <td>12355.0</td>\n",
       "      <td>214</td>\n",
       "      <td>1</td>\n",
       "      <td>459.40</td>\n",
       "    </tr>\n",
       "    <tr>\n",
       "      <th>9</th>\n",
       "      <td>12356.0</td>\n",
       "      <td>23</td>\n",
       "      <td>3</td>\n",
       "      <td>2811.43</td>\n",
       "    </tr>\n",
       "  </tbody>\n",
       "</table>\n",
       "</div>"
      ],
      "text/plain": [
       "   CustomerID  Recency  Frequency  Monetary\n",
       "0     12346.0      326          1  77183.60\n",
       "1     12347.0        2          7   4310.00\n",
       "2     12348.0       75          4   1797.24\n",
       "3     12349.0       19          1   1757.55\n",
       "4     12350.0      310          1    334.40\n",
       "5     12352.0       36          8   2506.04\n",
       "6     12353.0      204          1     89.00\n",
       "7     12354.0      232          1   1079.40\n",
       "8     12355.0      214          1    459.40\n",
       "9     12356.0       23          3   2811.43"
      ]
     },
     "execution_count": 42,
     "metadata": {},
     "output_type": "execute_result"
    }
   ],
   "source": [
    "# Merge all three metrics\n",
    "rfm = recency[['CustomerID', 'Recency']].merge(\n",
    "    frequency, on='CustomerID'\n",
    ").merge(\n",
    "    monetary, on='CustomerID'\n",
    ")\n",
    "rfm.head(10)"
   ]
  },
  {
   "cell_type": "code",
   "execution_count": 43,
   "id": "32ff04e7",
   "metadata": {},
   "outputs": [],
   "source": [
    "# Alternative method\n",
    "\n",
    "\n",
    "# # Set reference date (the most recent date in the data)\n",
    "# reference_date = df['InvoiceDate'].max()\n",
    "\n",
    "# # Aggregate\n",
    "# rfm = df.groupby('CustomerID').agg({\n",
    "#     'InvoiceDate': lambda x: (reference_date - x.max()).days,  # Recency\n",
    "#     'InvoiceNo': 'nunique',                                    # Frequency\n",
    "#     'TotalPrice': 'sum'                                        # Monetary\n",
    "# }).reset_index()\n",
    "\n",
    "# # Rename columns\n",
    "# rfm.rename(columns={'InvoiceDate': 'Recency', \n",
    "#                     'InvoiceNo': 'Frequency', \n",
    "#                     'TotalPrice': 'Monetary'}, inplace=True)\n",
    "\n",
    "# rfm.head(10)"
   ]
  },
  {
   "cell_type": "code",
   "execution_count": 44,
   "id": "fdd7eaa8",
   "metadata": {},
   "outputs": [],
   "source": [
    "# Save RFM features as a CSV file\n",
    "rfm.to_csv('rfm_features.csv', index=False)"
   ]
  },
  {
   "cell_type": "code",
   "execution_count": 45,
   "id": "169d86d8",
   "metadata": {},
   "outputs": [
    {
     "data": {
      "text/html": [
       "<div>\n",
       "<style scoped>\n",
       "    .dataframe tbody tr th:only-of-type {\n",
       "        vertical-align: middle;\n",
       "    }\n",
       "\n",
       "    .dataframe tbody tr th {\n",
       "        vertical-align: top;\n",
       "    }\n",
       "\n",
       "    .dataframe thead th {\n",
       "        text-align: right;\n",
       "    }\n",
       "</style>\n",
       "<table border=\"1\" class=\"dataframe\">\n",
       "  <thead>\n",
       "    <tr style=\"text-align: right;\">\n",
       "      <th></th>\n",
       "      <th>CustomerID</th>\n",
       "      <th>Recency</th>\n",
       "      <th>Frequency</th>\n",
       "      <th>Monetary</th>\n",
       "    </tr>\n",
       "  </thead>\n",
       "  <tbody>\n",
       "    <tr>\n",
       "      <th>count</th>\n",
       "      <td>4339.000000</td>\n",
       "      <td>4339.000000</td>\n",
       "      <td>4339.000000</td>\n",
       "      <td>4339.000000</td>\n",
       "    </tr>\n",
       "    <tr>\n",
       "      <th>mean</th>\n",
       "      <td>15299.936852</td>\n",
       "      <td>92.518322</td>\n",
       "      <td>4.271952</td>\n",
       "      <td>2048.215924</td>\n",
       "    </tr>\n",
       "    <tr>\n",
       "      <th>std</th>\n",
       "      <td>1721.889758</td>\n",
       "      <td>100.009747</td>\n",
       "      <td>7.705493</td>\n",
       "      <td>8984.248352</td>\n",
       "    </tr>\n",
       "    <tr>\n",
       "      <th>min</th>\n",
       "      <td>12346.000000</td>\n",
       "      <td>1.000000</td>\n",
       "      <td>1.000000</td>\n",
       "      <td>0.000000</td>\n",
       "    </tr>\n",
       "    <tr>\n",
       "      <th>25%</th>\n",
       "      <td>13812.500000</td>\n",
       "      <td>18.000000</td>\n",
       "      <td>1.000000</td>\n",
       "      <td>306.455000</td>\n",
       "    </tr>\n",
       "    <tr>\n",
       "      <th>50%</th>\n",
       "      <td>15299.000000</td>\n",
       "      <td>51.000000</td>\n",
       "      <td>2.000000</td>\n",
       "      <td>668.560000</td>\n",
       "    </tr>\n",
       "    <tr>\n",
       "      <th>75%</th>\n",
       "      <td>16778.500000</td>\n",
       "      <td>142.000000</td>\n",
       "      <td>5.000000</td>\n",
       "      <td>1660.315000</td>\n",
       "    </tr>\n",
       "    <tr>\n",
       "      <th>max</th>\n",
       "      <td>18287.000000</td>\n",
       "      <td>374.000000</td>\n",
       "      <td>210.000000</td>\n",
       "      <td>280206.020000</td>\n",
       "    </tr>\n",
       "  </tbody>\n",
       "</table>\n",
       "</div>"
      ],
      "text/plain": [
       "         CustomerID      Recency    Frequency       Monetary\n",
       "count   4339.000000  4339.000000  4339.000000    4339.000000\n",
       "mean   15299.936852    92.518322     4.271952    2048.215924\n",
       "std     1721.889758   100.009747     7.705493    8984.248352\n",
       "min    12346.000000     1.000000     1.000000       0.000000\n",
       "25%    13812.500000    18.000000     1.000000     306.455000\n",
       "50%    15299.000000    51.000000     2.000000     668.560000\n",
       "75%    16778.500000   142.000000     5.000000    1660.315000\n",
       "max    18287.000000   374.000000   210.000000  280206.020000"
      ]
     },
     "execution_count": 45,
     "metadata": {},
     "output_type": "execute_result"
    }
   ],
   "source": [
    "rfm.describe()"
   ]
  },
  {
   "cell_type": "markdown",
   "id": "abea81ff",
   "metadata": {},
   "source": [
    "##### **Scale RFM Table**"
   ]
  },
  {
   "cell_type": "markdown",
   "id": "827cfd35",
   "metadata": {},
   "source": [
    "From the Description table above, we notice that the values of recency, frequency and monetary are on different ranges of values, so using it like that, the algorithm might give more credence to those with higher values.\n",
    "\n",
    "Note: Because of the factor above we will be standardizing using z-score.\n",
    "\n",
    "z_score = (x - mean) / standard_deviation\n",
    "\n",
    "This will transforms all features to:\n",
    "- Mean = 0\n",
    "- Standard Deviation = 1\n",
    "\n",
    "All the features will now have the same scale for fair comparison"
   ]
  },
  {
   "cell_type": "code",
   "execution_count": 46,
   "id": "ca602650",
   "metadata": {},
   "outputs": [
    {
     "data": {
      "text/html": [
       "<div>\n",
       "<style scoped>\n",
       "    .dataframe tbody tr th:only-of-type {\n",
       "        vertical-align: middle;\n",
       "    }\n",
       "\n",
       "    .dataframe tbody tr th {\n",
       "        vertical-align: top;\n",
       "    }\n",
       "\n",
       "    .dataframe thead th {\n",
       "        text-align: right;\n",
       "    }\n",
       "</style>\n",
       "<table border=\"1\" class=\"dataframe\">\n",
       "  <thead>\n",
       "    <tr style=\"text-align: right;\">\n",
       "      <th></th>\n",
       "      <th>Recency</th>\n",
       "      <th>Frequency</th>\n",
       "      <th>Monetary</th>\n",
       "    </tr>\n",
       "  </thead>\n",
       "  <tbody>\n",
       "    <tr>\n",
       "      <th>0</th>\n",
       "      <td>2.334858</td>\n",
       "      <td>-0.424675</td>\n",
       "      <td>8.363977</td>\n",
       "    </tr>\n",
       "    <tr>\n",
       "      <th>1</th>\n",
       "      <td>-0.905199</td>\n",
       "      <td>0.354080</td>\n",
       "      <td>0.251779</td>\n",
       "    </tr>\n",
       "    <tr>\n",
       "      <th>2</th>\n",
       "      <td>-0.175186</td>\n",
       "      <td>-0.035297</td>\n",
       "      <td>-0.027938</td>\n",
       "    </tr>\n",
       "    <tr>\n",
       "      <th>3</th>\n",
       "      <td>-0.735196</td>\n",
       "      <td>-0.424675</td>\n",
       "      <td>-0.032357</td>\n",
       "    </tr>\n",
       "    <tr>\n",
       "      <th>4</th>\n",
       "      <td>2.174855</td>\n",
       "      <td>-0.424675</td>\n",
       "      <td>-0.190780</td>\n",
       "    </tr>\n",
       "    <tr>\n",
       "      <th>5</th>\n",
       "      <td>-0.565193</td>\n",
       "      <td>0.483873</td>\n",
       "      <td>0.050964</td>\n",
       "    </tr>\n",
       "    <tr>\n",
       "      <th>6</th>\n",
       "      <td>1.114837</td>\n",
       "      <td>-0.424675</td>\n",
       "      <td>-0.218097</td>\n",
       "    </tr>\n",
       "    <tr>\n",
       "      <th>7</th>\n",
       "      <td>1.394842</td>\n",
       "      <td>-0.424675</td>\n",
       "      <td>-0.107847</td>\n",
       "    </tr>\n",
       "    <tr>\n",
       "      <th>8</th>\n",
       "      <td>1.214838</td>\n",
       "      <td>-0.424675</td>\n",
       "      <td>-0.176865</td>\n",
       "    </tr>\n",
       "    <tr>\n",
       "      <th>9</th>\n",
       "      <td>-0.695196</td>\n",
       "      <td>-0.165090</td>\n",
       "      <td>0.084960</td>\n",
       "    </tr>\n",
       "  </tbody>\n",
       "</table>\n",
       "</div>"
      ],
      "text/plain": [
       "    Recency  Frequency  Monetary\n",
       "0  2.334858  -0.424675  8.363977\n",
       "1 -0.905199   0.354080  0.251779\n",
       "2 -0.175186  -0.035297 -0.027938\n",
       "3 -0.735196  -0.424675 -0.032357\n",
       "4  2.174855  -0.424675 -0.190780\n",
       "5 -0.565193   0.483873  0.050964\n",
       "6  1.114837  -0.424675 -0.218097\n",
       "7  1.394842  -0.424675 -0.107847\n",
       "8  1.214838  -0.424675 -0.176865\n",
       "9 -0.695196  -0.165090  0.084960"
      ]
     },
     "execution_count": 46,
     "metadata": {},
     "output_type": "execute_result"
    }
   ],
   "source": [
    "scaler = StandardScaler()\n",
    "rfm_scaled = scaler.fit_transform(rfm[['Recency', 'Frequency', 'Monetary']])\n",
    "rfm_scaled = pd.DataFrame(rfm_scaled, columns=['Recency', 'Frequency', 'Monetary'])\n",
    "rfm_scaled.head(10)"
   ]
  },
  {
   "cell_type": "markdown",
   "id": "20fb06d1",
   "metadata": {},
   "source": [
    "### **5. Data Wrangling For Insights**"
   ]
  },
  {
   "cell_type": "markdown",
   "id": "004f5d1c",
   "metadata": {},
   "source": [
    "**1. feature engineering for wrangling**"
   ]
  },
  {
   "cell_type": "code",
   "execution_count": 47,
   "id": "903ada31",
   "metadata": {},
   "outputs": [],
   "source": [
    "# Lets extract day, month and year from InvoiceDate\n",
    "\n",
    "df['Day'] = df['InvoiceDate'].dt.day\n",
    "\n",
    "df['Year'] = df['InvoiceDate'].dt.year\n",
    "\n",
    "# LEts have the month  as words(like january, february etc)\n",
    "\n",
    "df['Month'] = df['InvoiceDate'].dt.month.map({1: 'January',\n",
    "                                              2: 'February',\n",
    "                                              3: 'March',\n",
    "                                              4: 'April',\n",
    "                                              5: 'May',\n",
    "                                              6: 'June',\n",
    "                                              7: 'July',\n",
    "                                              8: 'August',\n",
    "                                              9: 'September',\n",
    "                                              10: 'October',\n",
    "                                              11: 'November',\n",
    "                                              12: 'December'})\n",
    "\n",
    "\n",
    "# make the days into days of the week\n",
    "\n",
    "df['Day'] = df['Day'].map({1: 'Monday',\n",
    "                          2: 'Tuesday',\n",
    "                          3: 'Wednesday',\n",
    "                          4: 'Thursday',\n",
    "                          5: 'Friday',\n",
    "                          6: 'Saturday',\n",
    "                          7: 'Sunday'})"
   ]
  },
  {
   "cell_type": "code",
   "execution_count": 48,
   "id": "3dd539d2",
   "metadata": {},
   "outputs": [
    {
     "data": {
      "text/html": [
       "<div>\n",
       "<style scoped>\n",
       "    .dataframe tbody tr th:only-of-type {\n",
       "        vertical-align: middle;\n",
       "    }\n",
       "\n",
       "    .dataframe tbody tr th {\n",
       "        vertical-align: top;\n",
       "    }\n",
       "\n",
       "    .dataframe thead th {\n",
       "        text-align: right;\n",
       "    }\n",
       "</style>\n",
       "<table border=\"1\" class=\"dataframe\">\n",
       "  <thead>\n",
       "    <tr style=\"text-align: right;\">\n",
       "      <th></th>\n",
       "      <th>InvoiceNo</th>\n",
       "      <th>StockCode</th>\n",
       "      <th>Description</th>\n",
       "      <th>Quantity</th>\n",
       "      <th>InvoiceDate</th>\n",
       "      <th>UnitPrice</th>\n",
       "      <th>CustomerID</th>\n",
       "      <th>Country</th>\n",
       "      <th>TotalPrice</th>\n",
       "      <th>Day</th>\n",
       "      <th>Year</th>\n",
       "      <th>Month</th>\n",
       "    </tr>\n",
       "  </thead>\n",
       "  <tbody>\n",
       "    <tr>\n",
       "      <th>0</th>\n",
       "      <td>536365</td>\n",
       "      <td>85123A</td>\n",
       "      <td>WHITE HANGING HEART T-LIGHT HOLDER</td>\n",
       "      <td>6</td>\n",
       "      <td>2010-12-01 08:26:00</td>\n",
       "      <td>2.55</td>\n",
       "      <td>17850.0</td>\n",
       "      <td>United Kingdom</td>\n",
       "      <td>15.30</td>\n",
       "      <td>Monday</td>\n",
       "      <td>2010</td>\n",
       "      <td>December</td>\n",
       "    </tr>\n",
       "    <tr>\n",
       "      <th>1</th>\n",
       "      <td>536365</td>\n",
       "      <td>71053</td>\n",
       "      <td>WHITE METAL LANTERN</td>\n",
       "      <td>6</td>\n",
       "      <td>2010-12-01 08:26:00</td>\n",
       "      <td>3.39</td>\n",
       "      <td>17850.0</td>\n",
       "      <td>United Kingdom</td>\n",
       "      <td>20.34</td>\n",
       "      <td>Monday</td>\n",
       "      <td>2010</td>\n",
       "      <td>December</td>\n",
       "    </tr>\n",
       "  </tbody>\n",
       "</table>\n",
       "</div>"
      ],
      "text/plain": [
       "  InvoiceNo StockCode                         Description  Quantity  \\\n",
       "0    536365    85123A  WHITE HANGING HEART T-LIGHT HOLDER         6   \n",
       "1    536365     71053                 WHITE METAL LANTERN         6   \n",
       "\n",
       "          InvoiceDate  UnitPrice  CustomerID         Country  TotalPrice  \\\n",
       "0 2010-12-01 08:26:00       2.55     17850.0  United Kingdom       15.30   \n",
       "1 2010-12-01 08:26:00       3.39     17850.0  United Kingdom       20.34   \n",
       "\n",
       "      Day  Year     Month  \n",
       "0  Monday  2010  December  \n",
       "1  Monday  2010  December  "
      ]
     },
     "execution_count": 48,
     "metadata": {},
     "output_type": "execute_result"
    }
   ],
   "source": [
    "df.head(2)"
   ]
  },
  {
   "cell_type": "markdown",
   "id": "62b393af",
   "metadata": {},
   "source": [
    "**2. average transaction value per month**"
   ]
  },
  {
   "cell_type": "code",
   "execution_count": 49,
   "id": "5414778e",
   "metadata": {},
   "outputs": [
    {
     "data": {
      "text/plain": [
       "Month\n",
       "January       568101.310\n",
       "February      446084.920\n",
       "March         594081.760\n",
       "April         468374.331\n",
       "May           677355.150\n",
       "June          660046.050\n",
       "July          598962.901\n",
       "August        644051.040\n",
       "September     950690.202\n",
       "October      1035642.450\n",
       "November     1156205.610\n",
       "December     1087613.170\n",
       "Name: TotalPrice, dtype: float64"
      ]
     },
     "execution_count": 49,
     "metadata": {},
     "output_type": "execute_result"
    }
   ],
   "source": [
    "# Lets check for average transaction value per month\n",
    "\n",
    "average_transaction_per_month = df.groupby('Month')['TotalPrice'].sum().reindex(['January', 'February', 'March', 'April', 'May', 'June', 'July', 'August', 'September', 'October', 'November', 'December'])\n",
    "average_transaction_per_month"
   ]
  },
  {
   "cell_type": "code",
   "execution_count": 50,
   "id": "f9240ae9",
   "metadata": {},
   "outputs": [
    {
     "data": {
      "text/plain": [
       "<Axes: xlabel='Month'>"
      ]
     },
     "execution_count": 50,
     "metadata": {},
     "output_type": "execute_result"
    },
    {
     "data": {
      "image/png": "[encoded data removed]",
      "text/plain": [
       "<Figure size 1000x500 with 1 Axes>"
      ]
     },
     "metadata": {},
     "output_type": "display_data"
    }
   ],
   "source": [
    "# Lets plot for average transaction per month\n",
    "average_transaction_per_month.plot(kind = \"bar\", figsize=(10,5))"
   ]
  },
  {
   "cell_type": "markdown",
   "id": "481b53d2",
   "metadata": {},
   "source": [
    "This chart shows that sales increases gradually through the year."
   ]
  },
  {
   "cell_type": "markdown",
   "id": "3283dcfe",
   "metadata": {},
   "source": [
    "**3. average transaction value per year**"
   ]
  },
  {
   "cell_type": "code",
   "execution_count": 51,
   "id": "63e38ca0",
   "metadata": {},
   "outputs": [
    {
     "data": {
      "text/plain": [
       "Year\n",
       "2010     570422.730\n",
       "2011    8316786.164\n",
       "Name: TotalPrice, dtype: float64"
      ]
     },
     "execution_count": 51,
     "metadata": {},
     "output_type": "execute_result"
    }
   ],
   "source": [
    "# Lets check for average transaction value per year\n",
    "\n",
    "average_transaction_per_year = df.groupby('Year')['TotalPrice'].sum().reindex([2010, 2011])\n",
    "\n",
    "average_transaction_per_year"
   ]
  },
  {
   "cell_type": "code",
   "execution_count": 52,
   "id": "e3795814",
   "metadata": {},
   "outputs": [
    {
     "data": {
      "text/plain": [
       "<Axes: xlabel='Year'>"
      ]
     },
     "execution_count": 52,
     "metadata": {},
     "output_type": "execute_result"
    },
    {
     "data": {
      "image/png": "[encoded data removed]",
      "text/plain": [
       "<Figure size 1000x500 with 1 Axes>"
      ]
     },
     "metadata": {},
     "output_type": "display_data"
    }
   ],
   "source": [
    "# Lets plot for average transaction per year\n",
    "average_transaction_per_year.plot(kind = \"bar\", figsize = (10,5))"
   ]
  },
  {
   "cell_type": "markdown",
   "id": "867887b5",
   "metadata": {},
   "source": [
    "There are more sales in 2011 compared to 2010"
   ]
  },
  {
   "cell_type": "markdown",
   "id": "246ec5c7",
   "metadata": {},
   "source": [
    "**4. Work on product quantity**"
   ]
  },
  {
   "cell_type": "code",
   "execution_count": 53,
   "id": "8e93253f",
   "metadata": {},
   "outputs": [
    {
     "name": "stdout",
     "output_type": "stream",
     "text": [
      "count    392732.000000\n",
      "mean         13.153718\n",
      "std         181.588420\n",
      "min           1.000000\n",
      "25%           2.000000\n",
      "50%           6.000000\n",
      "75%          12.000000\n",
      "max       80995.000000\n",
      "Name: Quantity, dtype: float64\n"
     ]
    }
   ],
   "source": [
    "print(df['Quantity'].describe())"
   ]
  },
  {
   "cell_type": "code",
   "execution_count": 54,
   "id": "351026bf",
   "metadata": {},
   "outputs": [
    {
     "name": "stdout",
     "output_type": "stream",
     "text": [
      "\n",
      "Negative quantities: 0 (these are returns)\n",
      "\n",
      "Zero quantities: 0 (these are cancellations)\n",
      "\n",
      "Positive quantities: 392732\n"
     ]
    }
   ],
   "source": [
    "\n",
    "print(f\"\\nNegative quantities: {(df['Quantity'] < 0).sum()} (these are returns)\")\n",
    "print(f\"\\nZero quantities: {(df['Quantity'] == 0).sum()} (these are cancellations)\")\n",
    "print(f\"\\nPositive quantities: {(df['Quantity'] > 0).sum()}\")"
   ]
  },
  {
   "cell_type": "markdown",
   "id": "2327500a",
   "metadata": {},
   "source": [
    "All the product quantities are positive, meaning that there no return or cancelled purchases."
   ]
  },
  {
   "cell_type": "markdown",
   "id": "78d56f4b",
   "metadata": {},
   "source": [
    "**5. Work on Unit Price**"
   ]
  },
  {
   "cell_type": "code",
   "execution_count": 55,
   "id": "404a8698",
   "metadata": {},
   "outputs": [
    {
     "name": "stdout",
     "output_type": "stream",
     "text": [
      "count    392732.000000\n",
      "mean          3.125596\n",
      "std          22.240725\n",
      "min           0.000000\n",
      "25%           1.250000\n",
      "50%           1.950000\n",
      "75%           3.750000\n",
      "max        8142.750000\n",
      "Name: UnitPrice, dtype: float64\n"
     ]
    }
   ],
   "source": [
    "print(df['UnitPrice'].describe())"
   ]
  },
  {
   "cell_type": "code",
   "execution_count": 56,
   "id": "8dccb303",
   "metadata": {},
   "outputs": [
    {
     "name": "stdout",
     "output_type": "stream",
     "text": [
      "\n",
      "Zero prices: 40\n",
      "Negative prices: 0\n",
      "Positive prices: 392692\n"
     ]
    }
   ],
   "source": [
    "print(f\"\\nZero prices: {(df['UnitPrice'] == 0).sum()}\")\n",
    "print(f\"Negative prices: {(df['UnitPrice'] < 0).sum()}\")\n",
    "print(f\"Positive prices: {(df['UnitPrice'] > 0).sum()}\")"
   ]
  },
  {
   "cell_type": "markdown",
   "id": "f2a040d5",
   "metadata": {},
   "source": [
    "**6. Countries and transactions**"
   ]
  },
  {
   "cell_type": "code",
   "execution_count": 57,
   "id": "8e6628c3",
   "metadata": {},
   "outputs": [
    {
     "name": "stdout",
     "output_type": "stream",
     "text": [
      "\n",
      "Top 10 countries by number of transactions\n"
     ]
    },
    {
     "data": {
      "text/plain": [
       "Country\n",
       "United Kingdom    349227\n",
       "Germany             9027\n",
       "France              8327\n",
       "EIRE                7228\n",
       "Spain               2480\n",
       "Netherlands         2363\n",
       "Belgium             2031\n",
       "Switzerland         1842\n",
       "Portugal            1453\n",
       "Australia           1184\n",
       "Name: count, dtype: int64"
      ]
     },
     "execution_count": 57,
     "metadata": {},
     "output_type": "execute_result"
    }
   ],
   "source": [
    "print(f\"\\nTop 10 countries by number of transactions\")\n",
    "\n",
    "top_10_countries = df['Country'].value_counts().head(10)\n",
    "\n",
    "top_10_countries"
   ]
  },
  {
   "cell_type": "code",
   "execution_count": 58,
   "id": "820c1172",
   "metadata": {},
   "outputs": [
    {
     "name": "stdout",
     "output_type": "stream",
     "text": [
      "\n",
      "Top 10 countries by number of transactions\n"
     ]
    },
    {
     "data": {
      "text/plain": [
       "Country\n",
       "United Kingdom    88.92\n",
       "Germany            2.30\n",
       "France             2.12\n",
       "EIRE               1.84\n",
       "Spain              0.63\n",
       "Netherlands        0.60\n",
       "Belgium            0.52\n",
       "Switzerland        0.47\n",
       "Portugal           0.37\n",
       "Australia          0.30\n",
       "Name: count, dtype: float64"
      ]
     },
     "execution_count": 58,
     "metadata": {},
     "output_type": "execute_result"
    }
   ],
   "source": [
    "# Lets check the top 10 countries by percentage(%)\n",
    "print(f\"\\nTop 10 countries by number of transactions\")\n",
    "\n",
    "top_10_countries_by_percentage= round(df[\"Country\"].value_counts()/len(df)*100,2).head(10)\n",
    "\n",
    "#top_10_countries_percentage = df[\"Country\"].value_counts(normalize = True).head(10)\n",
    "top_10_countries_by_percentage"
   ]
  },
  {
   "cell_type": "code",
   "execution_count": 59,
   "id": "715d92e5",
   "metadata": {},
   "outputs": [
    {
     "data": {
      "text/plain": [
       "<Axes: xlabel='Country'>"
      ]
     },
     "execution_count": 59,
     "metadata": {},
     "output_type": "execute_result"
    },
    {
     "data": {
      "image/png": "[encoded data removed]",
      "text/plain": [
       "<Figure size 1000x500 with 1 Axes>"
      ]
     },
     "metadata": {},
     "output_type": "display_data"
    }
   ],
   "source": [
    "# lets plot for top 10 countries by number of transactions\n",
    "top_10_countries_by_percentage.plot(kind = \"bar\", figsize = (10,5))"
   ]
  },
  {
   "cell_type": "code",
   "execution_count": 60,
   "id": "7bf5bf41",
   "metadata": {},
   "outputs": [
    {
     "name": "stdout",
     "output_type": "stream",
     "text": [
      "\n",
      "Bottom 10 countries by number of transactions\n"
     ]
    },
    {
     "data": {
      "text/plain": [
       "Country\n",
       "Malta                   0.03\n",
       "United Arab Emirates    0.02\n",
       "European Community      0.02\n",
       "RSA                     0.01\n",
       "Lebanon                 0.01\n",
       "Lithuania               0.01\n",
       "Brazil                  0.01\n",
       "Czech Republic          0.01\n",
       "Bahrain                 0.00\n",
       "Saudi Arabia            0.00\n",
       "Name: count, dtype: float64"
      ]
     },
     "execution_count": 60,
     "metadata": {},
     "output_type": "execute_result"
    }
   ],
   "source": [
    "print(f\"\\nBottom 10 countries by number of transactions\")\n",
    "\n",
    "\n",
    "bottom_10_countries_by_percentage= round(df[\"Country\"].value_counts()/len(df)*100,2).tail(10)\n",
    "\n",
    "#bottom_10_countries = df['Country'].value_counts(normalize=True).tail(10)\n",
    "\n",
    "bottom_10_countries_by_percentage"
   ]
  },
  {
   "cell_type": "code",
   "execution_count": 61,
   "id": "6583cabe",
   "metadata": {},
   "outputs": [
    {
     "data": {
      "text/plain": [
       "<Axes: xlabel='Country'>"
      ]
     },
     "execution_count": 61,
     "metadata": {},
     "output_type": "execute_result"
    },
    {
     "data": {
      "image/png": "[encoded data removed]",
      "text/plain": [
       "<Figure size 1000x500 with 1 Axes>"
      ]
     },
     "metadata": {},
     "output_type": "display_data"
    }
   ],
   "source": [
    "# plot for bottom 10 countries by number of transactions\n",
    "bottom_10_countries_by_percentage.plot(kind = \"bar\", figsize = (10,5))"
   ]
  },
  {
   "cell_type": "markdown",
   "id": "de7b6b3c",
   "metadata": {},
   "source": [
    "**United Kingdom Customers**"
   ]
  },
  {
   "cell_type": "code",
   "execution_count": 62,
   "id": "a0915b2a",
   "metadata": {},
   "outputs": [
    {
     "name": "stdout",
     "output_type": "stream",
     "text": [
      "Total number of transactions from the UK: 89976\n"
     ]
    }
   ],
   "source": [
    "print(f\"Total number of transactions from the UK: {df[df['Country'] == 'United Kingdom'].value_counts().sum()}\")"
   ]
  },
  {
   "cell_type": "markdown",
   "id": "1244be11",
   "metadata": {},
   "source": [
    "Most of the customers are populated in United Kingdom, for form 89% of the customer base."
   ]
  },
  {
   "cell_type": "code",
   "execution_count": 63,
   "id": "b149772c",
   "metadata": {},
   "outputs": [
    {
     "data": {
      "text/html": [
       "<div>\n",
       "<style scoped>\n",
       "    .dataframe tbody tr th:only-of-type {\n",
       "        vertical-align: middle;\n",
       "    }\n",
       "\n",
       "    .dataframe tbody tr th {\n",
       "        vertical-align: top;\n",
       "    }\n",
       "\n",
       "    .dataframe thead th {\n",
       "        text-align: right;\n",
       "    }\n",
       "</style>\n",
       "<table border=\"1\" class=\"dataframe\">\n",
       "  <thead>\n",
       "    <tr style=\"text-align: right;\">\n",
       "      <th></th>\n",
       "      <th>InvoiceNo</th>\n",
       "      <th>StockCode</th>\n",
       "      <th>Description</th>\n",
       "      <th>Quantity</th>\n",
       "      <th>InvoiceDate</th>\n",
       "      <th>UnitPrice</th>\n",
       "      <th>CustomerID</th>\n",
       "      <th>Country</th>\n",
       "      <th>TotalPrice</th>\n",
       "      <th>Day</th>\n",
       "      <th>Year</th>\n",
       "      <th>Month</th>\n",
       "    </tr>\n",
       "  </thead>\n",
       "  <tbody>\n",
       "    <tr>\n",
       "      <th>0</th>\n",
       "      <td>536365</td>\n",
       "      <td>85123A</td>\n",
       "      <td>WHITE HANGING HEART T-LIGHT HOLDER</td>\n",
       "      <td>6</td>\n",
       "      <td>2010-12-01 08:26:00</td>\n",
       "      <td>2.55</td>\n",
       "      <td>17850.0</td>\n",
       "      <td>United Kingdom</td>\n",
       "      <td>15.30</td>\n",
       "      <td>Monday</td>\n",
       "      <td>2010</td>\n",
       "      <td>December</td>\n",
       "    </tr>\n",
       "    <tr>\n",
       "      <th>1</th>\n",
       "      <td>536365</td>\n",
       "      <td>71053</td>\n",
       "      <td>WHITE METAL LANTERN</td>\n",
       "      <td>6</td>\n",
       "      <td>2010-12-01 08:26:00</td>\n",
       "      <td>3.39</td>\n",
       "      <td>17850.0</td>\n",
       "      <td>United Kingdom</td>\n",
       "      <td>20.34</td>\n",
       "      <td>Monday</td>\n",
       "      <td>2010</td>\n",
       "      <td>December</td>\n",
       "    </tr>\n",
       "  </tbody>\n",
       "</table>\n",
       "</div>"
      ],
      "text/plain": [
       "  InvoiceNo StockCode                         Description  Quantity  \\\n",
       "0    536365    85123A  WHITE HANGING HEART T-LIGHT HOLDER         6   \n",
       "1    536365     71053                 WHITE METAL LANTERN         6   \n",
       "\n",
       "          InvoiceDate  UnitPrice  CustomerID         Country  TotalPrice  \\\n",
       "0 2010-12-01 08:26:00       2.55     17850.0  United Kingdom       15.30   \n",
       "1 2010-12-01 08:26:00       3.39     17850.0  United Kingdom       20.34   \n",
       "\n",
       "      Day  Year     Month  \n",
       "0  Monday  2010  December  \n",
       "1  Monday  2010  December  "
      ]
     },
     "execution_count": 63,
     "metadata": {},
     "output_type": "execute_result"
    }
   ],
   "source": [
    "#LEts check the percentage of those transaction from UK\n",
    "# print(df.Country.unique(),'\\n', df.Country.nunique())\n",
    "\n",
    "uk_customers = df[df['Country'] == 'United Kingdom']\n",
    "uk_customers.head(2)"
   ]
  },
  {
   "cell_type": "markdown",
   "id": "f315468c",
   "metadata": {},
   "source": [
    "**Total Revenue from United Kingdom**"
   ]
  },
  {
   "cell_type": "code",
   "execution_count": 64,
   "id": "c1c23e68",
   "metadata": {},
   "outputs": [
    {
     "name": "stdout",
     "output_type": "stream",
     "text": [
      "Total sales in UK is £7285024.644\n"
     ]
    }
   ],
   "source": [
    "\n",
    "print(f\"Total sales in UK is £{uk_customers['TotalPrice'].sum()}\")"
   ]
  },
  {
   "cell_type": "markdown",
   "id": "d96adbe1",
   "metadata": {},
   "source": [
    "**Most product Sold in the UK**"
   ]
  },
  {
   "cell_type": "code",
   "execution_count": 65,
   "id": "9c8e5e72",
   "metadata": {},
   "outputs": [
    {
     "name": "stdout",
     "output_type": "stream",
     "text": [
      "Most popular product in UK is 85123A\n"
     ]
    },
    {
     "data": {
      "text/plain": [
       "'WHITE HANGING HEART T-LIGHT HOLDER'"
      ]
     },
     "execution_count": 65,
     "metadata": {},
     "output_type": "execute_result"
    }
   ],
   "source": [
    "print(f\"Most popular product in UK is {uk_customers.StockCode.mode()[0]}\")\n",
    "\n",
    "# lets check product description of the most popular product\n",
    "uk_customers[uk_customers['StockCode'] == '85123A']['Description'].unique()[0]"
   ]
  },
  {
   "cell_type": "markdown",
   "id": "4c943835",
   "metadata": {},
   "source": [
    "**How much have been made from this products**"
   ]
  },
  {
   "cell_type": "code",
   "execution_count": 66,
   "id": "ba60146f",
   "metadata": {},
   "outputs": [
    {
     "name": "stdout",
     "output_type": "stream",
     "text": [
      "Total sales for product 85123A is £94960.85\n"
     ]
    }
   ],
   "source": [
    "print(f\"Total sales for product 85123A is £{uk_customers[uk_customers['StockCode'] == '85123A']['TotalPrice'].sum()}\")"
   ]
  },
  {
   "cell_type": "markdown",
   "id": "0adf14c0",
   "metadata": {},
   "source": [
    "**Most Frequent customer**"
   ]
  },
  {
   "cell_type": "code",
   "execution_count": 67,
   "id": "46c0640f",
   "metadata": {},
   "outputs": [
    {
     "name": "stdout",
     "output_type": "stream",
     "text": [
      "Most popular or frequenting customer in uk is 17841.0\n"
     ]
    }
   ],
   "source": [
    "print(f\"Most popular or frequenting customer in uk is {uk_customers['CustomerID'].mode()[0]}\")"
   ]
  },
  {
   "cell_type": "markdown",
   "id": "d314f327",
   "metadata": {},
   "source": [
    "**How many times this customer has visited**"
   ]
  },
  {
   "cell_type": "code",
   "execution_count": 68,
   "id": "bb6e7148",
   "metadata": {},
   "outputs": [
    {
     "name": "stdout",
     "output_type": "stream",
     "text": [
      "Number of transactions for customer ID 17841 is 1809\n"
     ]
    }
   ],
   "source": [
    "print(f\"Number of transactions for customer ID 17841 is {uk_customers[uk_customers['CustomerID'] == 17841.0].value_counts().sum()}\")"
   ]
  },
  {
   "cell_type": "markdown",
   "id": "c996cb6f",
   "metadata": {},
   "source": [
    "**How much has been made from this customer**"
   ]
  },
  {
   "cell_type": "code",
   "execution_count": 104,
   "id": "fc5e1a18",
   "metadata": {},
   "outputs": [
    {
     "name": "stdout",
     "output_type": "stream",
     "text": [
      "Total amount spent by customer ID 17841 is £40519.840000000004\n"
     ]
    }
   ],
   "source": [
    "print(f\"Total amount spent by customer ID 17841 is £{uk_customers[uk_customers['CustomerID'] == 17841.0]['TotalPrice'].sum()}\")"
   ]
  },
  {
   "cell_type": "code",
   "execution_count": 105,
   "id": "3c19132a",
   "metadata": {},
   "outputs": [
    {
     "data": {
      "text/plain": [
       "np.float64(0.5562073154189319)"
      ]
     },
     "execution_count": 105,
     "metadata": {},
     "output_type": "execute_result"
    }
   ],
   "source": [
    "uk_customers[uk_customers['CustomerID'] == 17841.0]['TotalPrice'].sum()/uk_customers['TotalPrice'].sum()*100"
   ]
  },
  {
   "cell_type": "markdown",
   "id": "c1e3a4d1",
   "metadata": {},
   "source": [
    "**Top 20 uk customers**"
   ]
  },
  {
   "cell_type": "code",
   "execution_count": 108,
   "id": "823249ed",
   "metadata": {},
   "outputs": [
    {
     "data": {
      "text/plain": [
       "CustomerID\n",
       "18102.0    259657.30\n",
       "17450.0    194390.79\n",
       "16446.0    168472.50\n",
       "17511.0     91062.38\n",
       "16029.0     80850.84\n",
       "12346.0     77183.60\n",
       "16684.0     66653.56\n",
       "14096.0     65164.79\n",
       "13694.0     65039.62\n",
       "15311.0     60632.75\n",
       "13089.0     58762.08\n",
       "17949.0     58510.48\n",
       "15769.0     56252.72\n",
       "15061.0     54534.14\n",
       "14298.0     51527.30\n",
       "14088.0     50491.81\n",
       "15749.0     44534.30\n",
       "12931.0     42055.96\n",
       "17841.0     40519.84\n",
       "15098.0     39916.50\n",
       "Name: TotalPrice, dtype: float64"
      ]
     },
     "execution_count": 108,
     "metadata": {},
     "output_type": "execute_result"
    }
   ],
   "source": [
    "# Top 20 Uk customers by total amount spent\n",
    "uk_customers.groupby('CustomerID')['TotalPrice'].sum().sort_values(ascending=False).head(20)"
   ]
  },
  {
   "cell_type": "code",
   "execution_count": 109,
   "id": "66b906a0",
   "metadata": {},
   "outputs": [
    {
     "data": {
      "text/plain": [
       "CustomerID\n",
       "12748.0    210\n",
       "17841.0    124\n",
       "13089.0     97\n",
       "14606.0     93\n",
       "15311.0     91\n",
       "12971.0     86\n",
       "16029.0     63\n",
       "13408.0     62\n",
       "18102.0     60\n",
       "13798.0     57\n",
       "14527.0     55\n",
       "16422.0     51\n",
       "13694.0     50\n",
       "15061.0     48\n",
       "15039.0     47\n",
       "16013.0     47\n",
       "17450.0     46\n",
       "17949.0     45\n",
       "14298.0     44\n",
       "15189.0     41\n",
       "Name: InvoiceNo, dtype: int64"
      ]
     },
     "execution_count": 109,
     "metadata": {},
     "output_type": "execute_result"
    }
   ],
   "source": [
    "# Top 20 Uk customers by frequency\n",
    "uk_customers.groupby('CustomerID')['InvoiceNo'].nunique().sort_values(ascending=False).head(20)"
   ]
  },
  {
   "cell_type": "code",
   "execution_count": 110,
   "id": "dec96992",
   "metadata": {},
   "outputs": [
    {
     "data": {
      "text/plain": [
       "CustomerID\n",
       "16446.0    80997\n",
       "12346.0    74215\n",
       "17450.0    69973\n",
       "17511.0    64549\n",
       "18102.0    64124\n",
       "13694.0    63312\n",
       "14298.0    58343\n",
       "16684.0    50255\n",
       "16029.0    40108\n",
       "15311.0    38147\n",
       "16422.0    33704\n",
       "16333.0    32184\n",
       "13089.0    31025\n",
       "17949.0    30546\n",
       "15769.0    29672\n",
       "15061.0    28920\n",
       "12931.0    28004\n",
       "17381.0    25649\n",
       "12748.0    25288\n",
       "13798.0    23948\n",
       "Name: Quantity, dtype: int64"
      ]
     },
     "execution_count": 110,
     "metadata": {},
     "output_type": "execute_result"
    }
   ],
   "source": [
    "# Top 20 bulk buyers \n",
    "uk_customers.groupby('CustomerID')['Quantity'].sum().sort_values(ascending=False).head(20)"
   ]
  },
  {
   "cell_type": "code",
   "execution_count": 111,
   "id": "21c7108b",
   "metadata": {},
   "outputs": [
    {
     "data": {
      "text/plain": [
       "CustomerID\n",
       "13113.0   2011-12-09 12:49:00\n",
       "15804.0   2011-12-09 12:31:00\n",
       "13777.0   2011-12-09 12:25:00\n",
       "17581.0   2011-12-09 12:21:00\n",
       "12748.0   2011-12-09 12:20:00\n",
       "16705.0   2011-12-09 12:08:00\n",
       "15311.0   2011-12-09 12:00:00\n",
       "16626.0   2011-12-09 11:56:00\n",
       "18102.0   2011-12-09 11:50:00\n",
       "14446.0   2011-12-09 11:34:00\n",
       "14422.0   2011-12-09 11:26:00\n",
       "17754.0   2011-12-09 11:20:00\n",
       "15910.0   2011-12-09 10:51:00\n",
       "12985.0   2011-12-09 10:46:00\n",
       "15344.0   2011-12-09 10:45:00\n",
       "14051.0   2011-12-09 10:20:00\n",
       "16558.0   2011-12-09 10:20:00\n",
       "16954.0   2011-12-09 09:46:00\n",
       "17428.0   2011-12-09 09:45:00\n",
       "15694.0   2011-12-09 09:44:00\n",
       "Name: InvoiceDate, dtype: datetime64[ns]"
      ]
     },
     "execution_count": 111,
     "metadata": {},
     "output_type": "execute_result"
    }
   ],
   "source": [
    "# Top 20 most recent customers\n",
    "uk_customers.groupby('CustomerID')['InvoiceDate'].max().sort_values( ascending = False).head(20)\n",
    "#uk_customers.sort_values('InvoiceDate', ascending = False).tail(20)"
   ]
  },
  {
   "cell_type": "code",
   "execution_count": 70,
   "id": "72470923",
   "metadata": {},
   "outputs": [
    {
     "data": {
      "text/html": [
       "<div>\n",
       "<style scoped>\n",
       "    .dataframe tbody tr th:only-of-type {\n",
       "        vertical-align: middle;\n",
       "    }\n",
       "\n",
       "    .dataframe tbody tr th {\n",
       "        vertical-align: top;\n",
       "    }\n",
       "\n",
       "    .dataframe thead th {\n",
       "        text-align: right;\n",
       "    }\n",
       "</style>\n",
       "<table border=\"1\" class=\"dataframe\">\n",
       "  <thead>\n",
       "    <tr style=\"text-align: right;\">\n",
       "      <th></th>\n",
       "      <th>InvoiceNo</th>\n",
       "      <th>StockCode</th>\n",
       "      <th>Description</th>\n",
       "      <th>Quantity</th>\n",
       "      <th>InvoiceDate</th>\n",
       "      <th>UnitPrice</th>\n",
       "      <th>CustomerID</th>\n",
       "      <th>Country</th>\n",
       "      <th>TotalPrice</th>\n",
       "      <th>Day</th>\n",
       "      <th>Year</th>\n",
       "      <th>Month</th>\n",
       "    </tr>\n",
       "  </thead>\n",
       "  <tbody>\n",
       "    <tr>\n",
       "      <th>0</th>\n",
       "      <td>536365</td>\n",
       "      <td>85123A</td>\n",
       "      <td>WHITE HANGING HEART T-LIGHT HOLDER</td>\n",
       "      <td>6</td>\n",
       "      <td>2010-12-01 08:26:00</td>\n",
       "      <td>2.55</td>\n",
       "      <td>17850.0</td>\n",
       "      <td>United Kingdom</td>\n",
       "      <td>15.30</td>\n",
       "      <td>Monday</td>\n",
       "      <td>2010</td>\n",
       "      <td>12</td>\n",
       "    </tr>\n",
       "    <tr>\n",
       "      <th>1</th>\n",
       "      <td>536365</td>\n",
       "      <td>71053</td>\n",
       "      <td>WHITE METAL LANTERN</td>\n",
       "      <td>6</td>\n",
       "      <td>2010-12-01 08:26:00</td>\n",
       "      <td>3.39</td>\n",
       "      <td>17850.0</td>\n",
       "      <td>United Kingdom</td>\n",
       "      <td>20.34</td>\n",
       "      <td>Monday</td>\n",
       "      <td>2010</td>\n",
       "      <td>12</td>\n",
       "    </tr>\n",
       "  </tbody>\n",
       "</table>\n",
       "</div>"
      ],
      "text/plain": [
       "  InvoiceNo StockCode                         Description  Quantity  \\\n",
       "0    536365    85123A  WHITE HANGING HEART T-LIGHT HOLDER         6   \n",
       "1    536365     71053                 WHITE METAL LANTERN         6   \n",
       "\n",
       "          InvoiceDate  UnitPrice  CustomerID         Country  TotalPrice  \\\n",
       "0 2010-12-01 08:26:00       2.55     17850.0  United Kingdom       15.30   \n",
       "1 2010-12-01 08:26:00       3.39     17850.0  United Kingdom       20.34   \n",
       "\n",
       "      Day  Year  Month  \n",
       "0  Monday  2010     12  \n",
       "1  Monday  2010     12  "
      ]
     },
     "execution_count": 70,
     "metadata": {},
     "output_type": "execute_result"
    }
   ],
   "source": [
    "# Extract month from datetime\n",
    "df['Month'] = df['InvoiceDate'].dt.month\n",
    "df.head(2)"
   ]
  },
  {
   "cell_type": "code",
   "execution_count": 71,
   "id": "8549e904",
   "metadata": {},
   "outputs": [
    {
     "data": {
      "text/plain": [
       "InvoiceDate\n",
       "2011-11    63182\n",
       "2011-10    48796\n",
       "2011-09    39671\n",
       "2011-05    28075\n",
       "2011-06    26926\n",
       "2011-03    26872\n",
       "2011-08    26796\n",
       "2011-07    26582\n",
       "2010-12    25673\n",
       "2011-04    22435\n",
       "2011-01    20991\n",
       "2011-02    19707\n",
       "2011-12    17026\n",
       "Freq: M, Name: count, dtype: int64"
      ]
     },
     "execution_count": 71,
     "metadata": {},
     "output_type": "execute_result"
    }
   ],
   "source": [
    "#####\n",
    "\n",
    "df.Month.value_counts()\n",
    "df['InvoiceDate'].dt.to_period('M').value_counts()"
   ]
  },
  {
   "cell_type": "code",
   "execution_count": 72,
   "id": "38856d47",
   "metadata": {},
   "outputs": [
    {
     "name": "stdout",
     "output_type": "stream",
     "text": [
      "\n",
      "RECENCY (Days since last purchase):\n",
      "  - Min: 1 days (bought very recently - GREAT)\n",
      "  - Max: 374 days (haven't bought in 374 days - AT RISK)\n",
      "  - Avg: 92.5 days\n",
      "\n",
      "FREQUENCY (Number of purchases):\n",
      "  - Min: 1 purchases (new/one-time customer)\n",
      "  - Max: 210 purchases (super loyal customer)\n",
      "  - Avg: 4.3 purchases\n",
      "\n",
      "MONETARY (Total spending):\n",
      "  - Min: £0.00\n",
      "  - Max: £280206.02 (VIP customer!)\n",
      "  - Avg: £2048.22\n",
      "\n"
     ]
    }
   ],
   "source": [
    "print(\"\"\"\n",
    "RECENCY (Days since last purchase):\n",
    "  - Min: {:.0f} days (bought very recently - GREAT)\n",
    "  - Max: {:.0f} days (haven't bought in {} days - AT RISK)\n",
    "  - Avg: {:.1f} days\n",
    "\n",
    "FREQUENCY (Number of purchases):\n",
    "  - Min: {:.0f} purchases (new/one-time customer)\n",
    "  - Max: {:.0f} purchases (super loyal customer)\n",
    "  - Avg: {:.1f} purchases\n",
    "\n",
    "MONETARY (Total spending):\n",
    "  - Min: £{:.2f}\n",
    "  - Max: £{:.2f} (VIP customer!)\n",
    "  - Avg: £{:.2f}\n",
    "\"\"\".format(\n",
    "    rfm['Recency'].min(),\n",
    "    rfm['Recency'].max(), rfm['Recency'].max(),\n",
    "    rfm['Recency'].mean(),\n",
    "    rfm['Frequency'].min(),\n",
    "    rfm['Frequency'].max(),\n",
    "    rfm['Frequency'].mean(),\n",
    "    rfm['Monetary'].min(),\n",
    "    rfm['Monetary'].max(),\n",
    "    rfm['Monetary'].mean()\n",
    "))"
   ]
  },
  {
   "cell_type": "code",
   "execution_count": 73,
   "id": "b87067c6",
   "metadata": {},
   "outputs": [
    {
     "name": "stdout",
     "output_type": "stream",
     "text": [
      "\n",
      "Top 5 by RECENCY (Most recent buyers):\n",
      "     CustomerID  Recency  Frequency  Monetary\n",
      "61      12423.0        1          8   1859.31\n",
      "71      12433.0        1          7  13375.87\n",
      "137     12518.0        1          5   2056.89\n",
      "144     12526.0        1          3   1316.66\n",
      "258     12662.0        1         11   3849.78\n",
      "\n",
      "Top 5 by FREQUENCY (Most loyal customers):\n",
      "      CustomerID  Recency  Frequency   Monetary\n",
      "326      12748.0        1        210   33053.19\n",
      "1880     14911.0        1        201  143711.17\n",
      "4011     17841.0        2        124   40519.84\n",
      "562      13089.0        3         97   58762.08\n",
      "1662     14606.0        1         93   12076.15\n",
      "\n",
      "Top 5 by MONETARY (Highest spenders):\n",
      "      CustomerID  Recency  Frequency   Monetary\n",
      "1690     14646.0        2         74  280206.02\n",
      "4202     18102.0        1         60  259657.30\n",
      "3729     17450.0        8         46  194390.79\n",
      "3009     16446.0        1          2  168472.50\n",
      "1880     14911.0        1        201  143711.17\n"
     ]
    }
   ],
   "source": [
    "print(\"\\nTop 5 by RECENCY (Most recent buyers):\")\n",
    "print(rfm.nsmallest(5, 'Recency'))\n",
    "\n",
    "print(\"\\nTop 5 by FREQUENCY (Most loyal customers):\")\n",
    "print(rfm.nlargest(5, 'Frequency'))\n",
    "\n",
    "print(\"\\nTop 5 by MONETARY (Highest spenders):\")\n",
    "print(rfm.nlargest(5, 'Monetary'))"
   ]
  },
  {
   "cell_type": "code",
   "execution_count": 74,
   "id": "a96601fa",
   "metadata": {},
   "outputs": [
    {
     "name": "stdout",
     "output_type": "stream",
     "text": [
      "\n",
      "VIP Customers (Recency < 30, Frequency > 10, Monetary > 5000):\n",
      "Found 175 VIP customers\n",
      "     CustomerID  Recency  Frequency   Monetary\n",
      "55      12415.0       24         21  124914.53\n",
      "100     12471.0        2         30   19788.65\n",
      "103     12474.0       17         18    7324.09\n",
      "105     12476.0       16         11    6816.42\n",
      "155     12540.0       20         17   13400.24\n"
     ]
    }
   ],
   "source": [
    "# VIP Customers (Recent + Frequent + High Spender)\n",
    "print(\"\\nVIP Customers (Recency < 30, Frequency > 10, Monetary > 5000):\")\n",
    "vip = rfm[(rfm['Recency'] < 30) & \n",
    "          (rfm['Frequency'] > 10) & \n",
    "          (rfm['Monetary'] > 5000)]\n",
    "print(f\"Found {len(vip)} VIP customers\")\n",
    "print(vip.head())"
   ]
  },
  {
   "cell_type": "code",
   "execution_count": 75,
   "id": "3ea65a60",
   "metadata": {},
   "outputs": [
    {
     "name": "stdout",
     "output_type": "stream",
     "text": [
      "\n",
      "At-Risk Customers (Recency > 180, Monetary > 5000):\n",
      "Found 6 at-risk customers\n",
      "      CustomerID  Recency  Frequency  Monetary\n",
      "0        12346.0      326          1  77183.60\n",
      "196      12590.0      211          2   9864.26\n",
      "566      13093.0      276          8   7832.47\n",
      "2012     15098.0      182          3  39916.50\n",
      "2503     15749.0      235          3  44534.30\n"
     ]
    }
   ],
   "source": [
    "# At-Risk Customers (Used to spend a lot but haven't bought recently)\n",
    "print(\"\\nAt-Risk Customers (Recency > 180, Monetary > 5000):\")\n",
    "at_risk = rfm[(rfm['Recency'] > 180) & (rfm['Monetary'] > 5000)]\n",
    "print(f\"Found {len(at_risk)} at-risk customers\")\n",
    "print(at_risk.head())"
   ]
  },
  {
   "cell_type": "code",
   "execution_count": 76,
   "id": "2ffd646d",
   "metadata": {},
   "outputs": [
    {
     "name": "stdout",
     "output_type": "stream",
     "text": [
      "\n",
      "New Customers (Frequency = 1, Recency < 30):\n",
      "Found 204 new customers\n",
      "    CustomerID  Recency  Frequency  Monetary\n",
      "3      12349.0       19          1   1757.55\n",
      "19     12367.0        4          1    168.90\n",
      "24     12374.0       25          1    742.93\n",
      "36     12391.0       22          1    439.66\n",
      "78     12442.0        3          1    172.06\n"
     ]
    }
   ],
   "source": [
    "#New Customers (Low frequency but recent)\n",
    "print(\"\\nNew Customers (Frequency = 1, Recency < 30):\")\n",
    "new_customers = rfm[(rfm['Frequency'] == 1) & (rfm['Recency'] < 30)]\n",
    "print(f\"Found {len(new_customers)} new customers\")\n",
    "print(new_customers.head())"
   ]
  },
  {
   "cell_type": "markdown",
   "id": "cef43315",
   "metadata": {},
   "source": [
    "###  **6. Clustering Algorithms & Interpretation**"
   ]
  },
  {
   "cell_type": "markdown",
   "id": "adf19dd9",
   "metadata": {},
   "source": [
    "##### **Method 1 -Clustering Without Elbow**"
   ]
  },
  {
   "cell_type": "code",
   "execution_count": 77,
   "id": "54d961a5",
   "metadata": {},
   "outputs": [
    {
     "data": {
      "text/html": [
       "<div>\n",
       "<style scoped>\n",
       "    .dataframe tbody tr th:only-of-type {\n",
       "        vertical-align: middle;\n",
       "    }\n",
       "\n",
       "    .dataframe tbody tr th {\n",
       "        vertical-align: top;\n",
       "    }\n",
       "\n",
       "    .dataframe thead th {\n",
       "        text-align: right;\n",
       "    }\n",
       "</style>\n",
       "<table border=\"1\" class=\"dataframe\">\n",
       "  <thead>\n",
       "    <tr style=\"text-align: right;\">\n",
       "      <th></th>\n",
       "      <th>CustomerID</th>\n",
       "      <th>Recency</th>\n",
       "      <th>Frequency</th>\n",
       "      <th>Monetary</th>\n",
       "      <th>Cluster</th>\n",
       "    </tr>\n",
       "  </thead>\n",
       "  <tbody>\n",
       "    <tr>\n",
       "      <th>0</th>\n",
       "      <td>12346.0</td>\n",
       "      <td>326</td>\n",
       "      <td>1</td>\n",
       "      <td>77183.60</td>\n",
       "      <td>0</td>\n",
       "    </tr>\n",
       "    <tr>\n",
       "      <th>1</th>\n",
       "      <td>12347.0</td>\n",
       "      <td>2</td>\n",
       "      <td>7</td>\n",
       "      <td>4310.00</td>\n",
       "      <td>1</td>\n",
       "    </tr>\n",
       "    <tr>\n",
       "      <th>2</th>\n",
       "      <td>12348.0</td>\n",
       "      <td>75</td>\n",
       "      <td>4</td>\n",
       "      <td>1797.24</td>\n",
       "      <td>1</td>\n",
       "    </tr>\n",
       "    <tr>\n",
       "      <th>3</th>\n",
       "      <td>12349.0</td>\n",
       "      <td>19</td>\n",
       "      <td>1</td>\n",
       "      <td>1757.55</td>\n",
       "      <td>1</td>\n",
       "    </tr>\n",
       "    <tr>\n",
       "      <th>4</th>\n",
       "      <td>12350.0</td>\n",
       "      <td>310</td>\n",
       "      <td>1</td>\n",
       "      <td>334.40</td>\n",
       "      <td>0</td>\n",
       "    </tr>\n",
       "    <tr>\n",
       "      <th>5</th>\n",
       "      <td>12352.0</td>\n",
       "      <td>36</td>\n",
       "      <td>8</td>\n",
       "      <td>2506.04</td>\n",
       "      <td>1</td>\n",
       "    </tr>\n",
       "    <tr>\n",
       "      <th>6</th>\n",
       "      <td>12353.0</td>\n",
       "      <td>204</td>\n",
       "      <td>1</td>\n",
       "      <td>89.00</td>\n",
       "      <td>0</td>\n",
       "    </tr>\n",
       "    <tr>\n",
       "      <th>7</th>\n",
       "      <td>12354.0</td>\n",
       "      <td>232</td>\n",
       "      <td>1</td>\n",
       "      <td>1079.40</td>\n",
       "      <td>0</td>\n",
       "    </tr>\n",
       "    <tr>\n",
       "      <th>8</th>\n",
       "      <td>12355.0</td>\n",
       "      <td>214</td>\n",
       "      <td>1</td>\n",
       "      <td>459.40</td>\n",
       "      <td>0</td>\n",
       "    </tr>\n",
       "    <tr>\n",
       "      <th>9</th>\n",
       "      <td>12356.0</td>\n",
       "      <td>23</td>\n",
       "      <td>3</td>\n",
       "      <td>2811.43</td>\n",
       "      <td>1</td>\n",
       "    </tr>\n",
       "  </tbody>\n",
       "</table>\n",
       "</div>"
      ],
      "text/plain": [
       "   CustomerID  Recency  Frequency  Monetary  Cluster\n",
       "0     12346.0      326          1  77183.60        0\n",
       "1     12347.0        2          7   4310.00        1\n",
       "2     12348.0       75          4   1797.24        1\n",
       "3     12349.0       19          1   1757.55        1\n",
       "4     12350.0      310          1    334.40        0\n",
       "5     12352.0       36          8   2506.04        1\n",
       "6     12353.0      204          1     89.00        0\n",
       "7     12354.0      232          1   1079.40        0\n",
       "8     12355.0      214          1    459.40        0\n",
       "9     12356.0       23          3   2811.43        1"
      ]
     },
     "execution_count": 77,
     "metadata": {},
     "output_type": "execute_result"
    }
   ],
   "source": [
    "# Lets build the cluster using k-means\n",
    "\n",
    "# Here we would intuitively choose numbers of clusters as 3\n",
    "\n",
    "kmeans = KMeans(n_clusters=3, random_state=234)\n",
    "rfm['Cluster'] = kmeans.fit_predict(rfm_scaled)\n",
    "rfm.head(10)"
   ]
  },
  {
   "cell_type": "code",
   "execution_count": 78,
   "id": "d1bdb45a",
   "metadata": {},
   "outputs": [
    {
     "data": {
      "text/html": [
       "<div>\n",
       "<style scoped>\n",
       "    .dataframe tbody tr th:only-of-type {\n",
       "        vertical-align: middle;\n",
       "    }\n",
       "\n",
       "    .dataframe tbody tr th {\n",
       "        vertical-align: top;\n",
       "    }\n",
       "\n",
       "    .dataframe thead th {\n",
       "        text-align: right;\n",
       "    }\n",
       "</style>\n",
       "<table border=\"1\" class=\"dataframe\">\n",
       "  <thead>\n",
       "    <tr style=\"text-align: right;\">\n",
       "      <th></th>\n",
       "      <th>Recency</th>\n",
       "      <th>Frequency</th>\n",
       "      <th>Monetary</th>\n",
       "    </tr>\n",
       "    <tr>\n",
       "      <th>Cluster</th>\n",
       "      <th></th>\n",
       "      <th></th>\n",
       "      <th></th>\n",
       "    </tr>\n",
       "  </thead>\n",
       "  <tbody>\n",
       "    <tr>\n",
       "      <th>0</th>\n",
       "      <td>246.2</td>\n",
       "      <td>1.6</td>\n",
       "      <td>629.3</td>\n",
       "    </tr>\n",
       "    <tr>\n",
       "      <th>1</th>\n",
       "      <td>41.0</td>\n",
       "      <td>4.9</td>\n",
       "      <td>2004.4</td>\n",
       "    </tr>\n",
       "    <tr>\n",
       "      <th>2</th>\n",
       "      <td>7.1</td>\n",
       "      <td>80.4</td>\n",
       "      <td>122748.8</td>\n",
       "    </tr>\n",
       "  </tbody>\n",
       "</table>\n",
       "</div>"
      ],
      "text/plain": [
       "         Recency  Frequency  Monetary\n",
       "Cluster                              \n",
       "0          246.2        1.6     629.3\n",
       "1           41.0        4.9    2004.4\n",
       "2            7.1       80.4  122748.8"
      ]
     },
     "execution_count": 78,
     "metadata": {},
     "output_type": "execute_result"
    }
   ],
   "source": [
    "# To understand what each cluster  means, lets take the mean of the Recency, Frequency and Monetary\n",
    "\n",
    "cluster_summary = rfm.groupby('Cluster')[['Recency', 'Frequency', 'Monetary']].mean().round(1)\n",
    "cluster_summary"
   ]
  },
  {
   "cell_type": "markdown",
   "id": "a875b4fa",
   "metadata": {},
   "source": [
    "Cluster 0 – Inactive / low-value customers (old purchases, rare buying)\n",
    "\n",
    "Cluster 1 – Recent moderate customers\n",
    "\n",
    "Cluster 2 – High-value loyal customers"
   ]
  },
  {
   "cell_type": "markdown",
   "id": "426371dc",
   "metadata": {},
   "source": [
    "##### **Method 2 -Clustering Using Rule Based Approach**"
   ]
  },
  {
   "cell_type": "markdown",
   "id": "d8e0d3bd",
   "metadata": {},
   "source": [
    "**now let’s turn our RFM numbers into clear labels using a rule-based approach using thresholds and quantiles.**"
   ]
  },
  {
   "cell_type": "markdown",
   "id": "75c7a0f4",
   "metadata": {},
   "source": [
    "**1. Threshold-based rules**\n",
    "\n",
    "We can define loyalty explicitly. Example:\n",
    "\n",
    "- Recency ≤ 30 days  (bought recently)\n",
    "\n",
    "- Frequency ≥ 10  (buys often)\n",
    "\n",
    "- Monetary ≥ 500 (spends a lot)"
   ]
  },
  {
   "cell_type": "code",
   "execution_count": 79,
   "id": "a1f7e7a9",
   "metadata": {},
   "outputs": [],
   "source": [
    "rfm_new = rfm.copy()"
   ]
  },
  {
   "cell_type": "code",
   "execution_count": 80,
   "id": "cc33a3c8",
   "metadata": {},
   "outputs": [],
   "source": [
    "def label_loyalty(row):\n",
    "    if (row[\"Recency\"] <=30) and (row[\"Frequency\"] >= 10) and (row[\"Monetary\"] >= 500):\n",
    "        return \"loyal\"\n",
    "    else:\n",
    "        return \"Not loyal\"\n",
    "    \n",
    "# lets apply the function to dataframe\n",
    "rfm_new[\"Loyalty\"] = rfm_new.apply(label_loyalty, axis =1)"
   ]
  },
  {
   "cell_type": "code",
   "execution_count": 81,
   "id": "1110a568",
   "metadata": {},
   "outputs": [
    {
     "data": {
      "text/html": [
       "<div>\n",
       "<style scoped>\n",
       "    .dataframe tbody tr th:only-of-type {\n",
       "        vertical-align: middle;\n",
       "    }\n",
       "\n",
       "    .dataframe tbody tr th {\n",
       "        vertical-align: top;\n",
       "    }\n",
       "\n",
       "    .dataframe thead th {\n",
       "        text-align: right;\n",
       "    }\n",
       "</style>\n",
       "<table border=\"1\" class=\"dataframe\">\n",
       "  <thead>\n",
       "    <tr style=\"text-align: right;\">\n",
       "      <th></th>\n",
       "      <th>CustomerID</th>\n",
       "      <th>Recency</th>\n",
       "      <th>Frequency</th>\n",
       "      <th>Monetary</th>\n",
       "      <th>Cluster</th>\n",
       "      <th>Loyalty</th>\n",
       "    </tr>\n",
       "  </thead>\n",
       "  <tbody>\n",
       "    <tr>\n",
       "      <th>0</th>\n",
       "      <td>12346.0</td>\n",
       "      <td>326</td>\n",
       "      <td>1</td>\n",
       "      <td>77183.6</td>\n",
       "      <td>0</td>\n",
       "      <td>Not loyal</td>\n",
       "    </tr>\n",
       "    <tr>\n",
       "      <th>1</th>\n",
       "      <td>12347.0</td>\n",
       "      <td>2</td>\n",
       "      <td>7</td>\n",
       "      <td>4310.0</td>\n",
       "      <td>1</td>\n",
       "      <td>Not loyal</td>\n",
       "    </tr>\n",
       "  </tbody>\n",
       "</table>\n",
       "</div>"
      ],
      "text/plain": [
       "   CustomerID  Recency  Frequency  Monetary  Cluster    Loyalty\n",
       "0     12346.0      326          1   77183.6        0  Not loyal\n",
       "1     12347.0        2          7    4310.0        1  Not loyal"
      ]
     },
     "execution_count": 81,
     "metadata": {},
     "output_type": "execute_result"
    }
   ],
   "source": [
    "rfm_new.head(2)"
   ]
  },
  {
   "cell_type": "markdown",
   "id": "c1742d05",
   "metadata": {},
   "source": [
    "**2. Quantile-based rules (data-driven)**\n",
    "\n",
    "Instead of hard thresholds, use percentiles\n",
    "\n",
    "- Top 25% in Frequency and Monetary\n",
    "\n",
    "- Bottom 25% in Recency (recent purchases are better)"
   ]
  },
  {
   "cell_type": "code",
   "execution_count": 82,
   "id": "0470419d",
   "metadata": {},
   "outputs": [],
   "source": [
    "rfm_quant = rfm.copy()"
   ]
  },
  {
   "cell_type": "code",
   "execution_count": 83,
   "id": "3ab514cb",
   "metadata": {},
   "outputs": [],
   "source": [
    "quantiles = rfm_quant.quantile(q=[0.25, 0.75])\n",
    "q_recency = quantiles[\"Recency\"]\n",
    "q_frequency = quantiles[\"Frequency\"]\n",
    "q_monetary = quantiles[\"Monetary\"]"
   ]
  },
  {
   "cell_type": "code",
   "execution_count": 84,
   "id": "acad702d",
   "metadata": {},
   "outputs": [
    {
     "data": {
      "text/plain": [
       "0.25     18.0\n",
       "0.75    142.0\n",
       "Name: Recency, dtype: float64"
      ]
     },
     "execution_count": 84,
     "metadata": {},
     "output_type": "execute_result"
    }
   ],
   "source": [
    "q_recency"
   ]
  },
  {
   "cell_type": "code",
   "execution_count": 85,
   "id": "a72f9430",
   "metadata": {},
   "outputs": [],
   "source": [
    "# LEts now define loyalty based on quantiles\n",
    "def label_loyal_quant(row):\n",
    "    if (row[\"Recency\"] <= q_recency[0.25]) and \\\n",
    "        (row[\"Frequency\"] >= q_frequency[0.75]) and\\\n",
    "        (row[\"Monetary\"] >= q_monetary[0.75]):\n",
    "        return \"Loyal\"\n",
    "    else:\n",
    "        return \"Not Loyal\"\n",
    "    \n",
    "# lets apply the function\n",
    "rfm_quant[\"Loyalty\"] = rfm_quant.apply(label_loyal_quant,axis =1)"
   ]
  },
  {
   "cell_type": "code",
   "execution_count": 86,
   "id": "a2b6662c",
   "metadata": {},
   "outputs": [
    {
     "data": {
      "text/html": [
       "<div>\n",
       "<style scoped>\n",
       "    .dataframe tbody tr th:only-of-type {\n",
       "        vertical-align: middle;\n",
       "    }\n",
       "\n",
       "    .dataframe tbody tr th {\n",
       "        vertical-align: top;\n",
       "    }\n",
       "\n",
       "    .dataframe thead th {\n",
       "        text-align: right;\n",
       "    }\n",
       "</style>\n",
       "<table border=\"1\" class=\"dataframe\">\n",
       "  <thead>\n",
       "    <tr style=\"text-align: right;\">\n",
       "      <th></th>\n",
       "      <th>CustomerID</th>\n",
       "      <th>Recency</th>\n",
       "      <th>Frequency</th>\n",
       "      <th>Monetary</th>\n",
       "      <th>Cluster</th>\n",
       "      <th>Loyalty</th>\n",
       "    </tr>\n",
       "  </thead>\n",
       "  <tbody>\n",
       "    <tr>\n",
       "      <th>0</th>\n",
       "      <td>12346.0</td>\n",
       "      <td>326</td>\n",
       "      <td>1</td>\n",
       "      <td>77183.60</td>\n",
       "      <td>0</td>\n",
       "      <td>Not Loyal</td>\n",
       "    </tr>\n",
       "    <tr>\n",
       "      <th>1</th>\n",
       "      <td>12347.0</td>\n",
       "      <td>2</td>\n",
       "      <td>7</td>\n",
       "      <td>4310.00</td>\n",
       "      <td>1</td>\n",
       "      <td>Loyal</td>\n",
       "    </tr>\n",
       "    <tr>\n",
       "      <th>2</th>\n",
       "      <td>12348.0</td>\n",
       "      <td>75</td>\n",
       "      <td>4</td>\n",
       "      <td>1797.24</td>\n",
       "      <td>1</td>\n",
       "      <td>Not Loyal</td>\n",
       "    </tr>\n",
       "    <tr>\n",
       "      <th>3</th>\n",
       "      <td>12349.0</td>\n",
       "      <td>19</td>\n",
       "      <td>1</td>\n",
       "      <td>1757.55</td>\n",
       "      <td>1</td>\n",
       "      <td>Not Loyal</td>\n",
       "    </tr>\n",
       "    <tr>\n",
       "      <th>4</th>\n",
       "      <td>12350.0</td>\n",
       "      <td>310</td>\n",
       "      <td>1</td>\n",
       "      <td>334.40</td>\n",
       "      <td>0</td>\n",
       "      <td>Not Loyal</td>\n",
       "    </tr>\n",
       "  </tbody>\n",
       "</table>\n",
       "</div>"
      ],
      "text/plain": [
       "   CustomerID  Recency  Frequency  Monetary  Cluster    Loyalty\n",
       "0     12346.0      326          1  77183.60        0  Not Loyal\n",
       "1     12347.0        2          7   4310.00        1      Loyal\n",
       "2     12348.0       75          4   1797.24        1  Not Loyal\n",
       "3     12349.0       19          1   1757.55        1  Not Loyal\n",
       "4     12350.0      310          1    334.40        0  Not Loyal"
      ]
     },
     "execution_count": 86,
     "metadata": {},
     "output_type": "execute_result"
    }
   ],
   "source": [
    "rfm_quant.head()"
   ]
  },
  {
   "cell_type": "markdown",
   "id": "15fbad00",
   "metadata": {},
   "source": [
    "##### **Method 3 -Clustering Using Elbow Method**"
   ]
  },
  {
   "cell_type": "markdown",
   "id": "1896fbe6",
   "metadata": {},
   "source": [
    "How it works:\n",
    "1. Try different numbers of clusters (k = 1 to 10)\n",
    "2. Calculate \"inertia\" (sum of squared distances to nearest cluster center)\n",
    "3. Plot the results\n",
    "4. Look for the \"elbow\" - where adding more clusters doesn't help much\n",
    "\n",
    "Think of it like, \"at what point are we over-segmenting?\""
   ]
  },
  {
   "cell_type": "code",
   "execution_count": 87,
   "id": "4cc2d4d0",
   "metadata": {},
   "outputs": [
    {
     "name": "stdout",
     "output_type": "stream",
     "text": [
      "k = 1: Inertia = 350192770636.05\n",
      "k = 2: Inertia = 117868026096.02\n",
      "k = 3: Inertia = 57112592882.48\n",
      "k = 4: Inertia = 37047382172.85\n",
      "k = 5: Inertia = 21076282426.53\n",
      "k = 6: Inertia = 14081019736.27\n",
      "k = 7: Inertia = 10289032566.90\n",
      "k = 8: Inertia = 6940562437.77\n",
      "k = 9: Inertia = 5581062629.22\n",
      "k = 10: Inertia = 4077463889.51\n"
     ]
    }
   ],
   "source": [
    "# lets find the optimal number of clusters\n",
    "inertia = []\n",
    "k_range = range(1,11)\n",
    "for k in k_range:\n",
    "    kmeans = KMeans(n_clusters=k, random_state = 234)\n",
    "    kmeans.fit(rfm[[\"Recency\", \"Frequency\", \"Monetary\"]])\n",
    "    inertia.append(kmeans.inertia_)\n",
    "    print(f\"k = {k}: Inertia = {kmeans.inertia_:.2f}\")"
   ]
  },
  {
   "cell_type": "code",
   "execution_count": 88,
   "id": "540e4cf9",
   "metadata": {},
   "outputs": [
    {
     "data": {
      "image/png": "[encoded data removed]",
      "text/plain": [
       "<Figure size 640x480 with 1 Axes>"
      ]
     },
     "metadata": {},
     "output_type": "display_data"
    }
   ],
   "source": [
    "# plot inertia vs k\n",
    "plt.plot(k_range, inertia, 'bo-', linewidth = 2,marker = 'o', markersize = 8)\n",
    "plt.xlabel(\"k\")\n",
    "plt.ylabel(\"Inertia\")\n",
    "plt.title(\"Inertia vs k\")\n",
    "plt.show()"
   ]
  },
  {
   "cell_type": "markdown",
   "id": "ad9faffe",
   "metadata": {},
   "source": [
    "The elbow point here is between 4 and 6, where adding more clusters(k) does not reduce the inertia much."
   ]
  },
  {
   "cell_type": "code",
   "execution_count": 89,
   "id": "886be8b8",
   "metadata": {},
   "outputs": [
    {
     "data": {
      "text/plain": [
       "Cluster\n",
       "3    2276\n",
       "0    2028\n",
       "2      30\n",
       "1       5\n",
       "Name: count, dtype: int64"
      ]
     },
     "execution_count": 89,
     "metadata": {},
     "output_type": "execute_result"
    }
   ],
   "source": [
    "# Lets fit k-mean and create cluster labels\n",
    "\n",
    "# SUppose we choose k =4\n",
    "\n",
    "kmeans = KMeans(n_clusters = 4, random_state = 234)\n",
    "rfm[\"Cluster\"] = kmeans.fit_predict(rfm)\n",
    "\n",
    "\n",
    "# lets look at the cluster counts\n",
    "\n",
    "rfm[\"Cluster\"].value_counts()"
   ]
  },
  {
   "cell_type": "code",
   "execution_count": 90,
   "id": "1889b067",
   "metadata": {},
   "outputs": [
    {
     "data": {
      "text/plain": [
       "array([2, 0, 3, 1], dtype=int32)"
      ]
     },
     "execution_count": 90,
     "metadata": {},
     "output_type": "execute_result"
    }
   ],
   "source": [
    "rfm.Cluster.unique()"
   ]
  },
  {
   "cell_type": "code",
   "execution_count": 91,
   "id": "66dd634b",
   "metadata": {},
   "outputs": [
    {
     "data": {
      "text/html": [
       "<div>\n",
       "<style scoped>\n",
       "    .dataframe tbody tr th:only-of-type {\n",
       "        vertical-align: middle;\n",
       "    }\n",
       "\n",
       "    .dataframe tbody tr th {\n",
       "        vertical-align: top;\n",
       "    }\n",
       "\n",
       "    .dataframe thead th {\n",
       "        text-align: right;\n",
       "    }\n",
       "</style>\n",
       "<table border=\"1\" class=\"dataframe\">\n",
       "  <thead>\n",
       "    <tr style=\"text-align: right;\">\n",
       "      <th></th>\n",
       "      <th>Recency</th>\n",
       "      <th>Frequency</th>\n",
       "      <th>Monetary</th>\n",
       "    </tr>\n",
       "    <tr>\n",
       "      <th>Cluster</th>\n",
       "      <th></th>\n",
       "      <th></th>\n",
       "      <th></th>\n",
       "    </tr>\n",
       "  </thead>\n",
       "  <tbody>\n",
       "    <tr>\n",
       "      <th>0</th>\n",
       "      <td>83.534024</td>\n",
       "      <td>4.898422</td>\n",
       "      <td>2099.775154</td>\n",
       "    </tr>\n",
       "    <tr>\n",
       "      <th>1</th>\n",
       "      <td>2.600000</td>\n",
       "      <td>76.600000</td>\n",
       "      <td>209287.556000</td>\n",
       "    </tr>\n",
       "    <tr>\n",
       "      <th>2</th>\n",
       "      <td>32.266667</td>\n",
       "      <td>44.166667</td>\n",
       "      <td>53310.462333</td>\n",
       "    </tr>\n",
       "    <tr>\n",
       "      <th>3</th>\n",
       "      <td>101.515378</td>\n",
       "      <td>3.028998</td>\n",
       "      <td>871.315128</td>\n",
       "    </tr>\n",
       "  </tbody>\n",
       "</table>\n",
       "</div>"
      ],
      "text/plain": [
       "            Recency  Frequency       Monetary\n",
       "Cluster                                      \n",
       "0         83.534024   4.898422    2099.775154\n",
       "1          2.600000  76.600000  209287.556000\n",
       "2         32.266667  44.166667   53310.462333\n",
       "3        101.515378   3.028998     871.315128"
      ]
     },
     "execution_count": 91,
     "metadata": {},
     "output_type": "execute_result"
    }
   ],
   "source": [
    "# Interpreting Clusters\n",
    "# lets compute average RFM values per cluster\n",
    "\n",
    "rfm.groupby(\"Cluster\")[[\"Recency\",\"Frequency\",\"Monetary\"]].mean()"
   ]
  },
  {
   "cell_type": "markdown",
   "id": "1f329e25",
   "metadata": {},
   "source": [
    "**WIth Annotated Elbow**"
   ]
  },
  {
   "cell_type": "code",
   "execution_count": 92,
   "id": "ace31148",
   "metadata": {},
   "outputs": [
    {
     "data": {
      "text/html": [
       "<div>\n",
       "<style scoped>\n",
       "    .dataframe tbody tr th:only-of-type {\n",
       "        vertical-align: middle;\n",
       "    }\n",
       "\n",
       "    .dataframe tbody tr th {\n",
       "        vertical-align: top;\n",
       "    }\n",
       "\n",
       "    .dataframe thead th {\n",
       "        text-align: right;\n",
       "    }\n",
       "</style>\n",
       "<table border=\"1\" class=\"dataframe\">\n",
       "  <thead>\n",
       "    <tr style=\"text-align: right;\">\n",
       "      <th></th>\n",
       "      <th>Recency_scaled</th>\n",
       "      <th>Frequency_scaled</th>\n",
       "      <th>Monetary_scaled</th>\n",
       "    </tr>\n",
       "  </thead>\n",
       "  <tbody>\n",
       "    <tr>\n",
       "      <th>0</th>\n",
       "      <td>2.334858</td>\n",
       "      <td>-0.424675</td>\n",
       "      <td>8.363977</td>\n",
       "    </tr>\n",
       "    <tr>\n",
       "      <th>1</th>\n",
       "      <td>-0.905199</td>\n",
       "      <td>0.354080</td>\n",
       "      <td>0.251779</td>\n",
       "    </tr>\n",
       "    <tr>\n",
       "      <th>2</th>\n",
       "      <td>-0.175186</td>\n",
       "      <td>-0.035297</td>\n",
       "      <td>-0.027938</td>\n",
       "    </tr>\n",
       "    <tr>\n",
       "      <th>3</th>\n",
       "      <td>-0.735196</td>\n",
       "      <td>-0.424675</td>\n",
       "      <td>-0.032357</td>\n",
       "    </tr>\n",
       "    <tr>\n",
       "      <th>4</th>\n",
       "      <td>2.174855</td>\n",
       "      <td>-0.424675</td>\n",
       "      <td>-0.190780</td>\n",
       "    </tr>\n",
       "  </tbody>\n",
       "</table>\n",
       "</div>"
      ],
      "text/plain": [
       "   Recency_scaled  Frequency_scaled  Monetary_scaled\n",
       "0        2.334858         -0.424675         8.363977\n",
       "1       -0.905199          0.354080         0.251779\n",
       "2       -0.175186         -0.035297        -0.027938\n",
       "3       -0.735196         -0.424675        -0.032357\n",
       "4        2.174855         -0.424675        -0.190780"
      ]
     },
     "execution_count": 92,
     "metadata": {},
     "output_type": "execute_result"
    }
   ],
   "source": [
    "# Lets create the feaure matrix(x)\n",
    "\n",
    "\n",
    "X = rfm[[\"Recency\",\"Frequency\",\"Monetary\"]].values\n",
    "\n",
    "# lets standardize using standard scaler to get it done \n",
    "\n",
    "\n",
    "# intialize scaler\n",
    "scaler = StandardScaler()\n",
    "X_scaled  = scaler.fit_transform(X)\n",
    "\n",
    "# Show the transformation\n",
    "\n",
    "rfm_scaled = pd.DataFrame(X_scaled, columns = [\"Recency_scaled\",\"Frequency_scaled\",\"Monetary_scaled\"])\n",
    "rfm_scaled.head()"
   ]
  },
  {
   "cell_type": "code",
   "execution_count": 93,
   "id": "fc78e8c0",
   "metadata": {},
   "outputs": [
    {
     "name": "stdout",
     "output_type": "stream",
     "text": [
      "k = 1: Inertia = 13017.00\n",
      "k = 2: Inertia = 9016.15\n",
      "k = 3: Inertia = 5442.38\n",
      "k = 4: Inertia = 4097.64\n",
      "k = 5: Inertia = 3122.11\n",
      "k = 6: Inertia = 2473.55\n",
      "k = 7: Inertia = 2023.37\n",
      "k = 8: Inertia = 1716.20\n",
      "k = 9: Inertia = 1443.95\n",
      "k = 10: Inertia = 1281.76\n"
     ]
    }
   ],
   "source": [
    "# Lets calculate inertia for different k-values\n",
    "\n",
    "inertias = []\n",
    "k_range = range(1,11)\n",
    "\n",
    "for k in k_range:\n",
    "    kmeans = KMeans( n_clusters = k, random_state = 234, n_init = 10)\n",
    "    kmeans.fit(X_scaled)\n",
    "    inertias.append(kmeans.inertia_)\n",
    "    print(f\"k = {k}: Inertia = {kmeans.inertia_:.2f}\")"
   ]
  },
  {
   "cell_type": "code",
   "execution_count": 94,
   "id": "ab0fbc46",
   "metadata": {},
   "outputs": [
    {
     "data": {
      "image/png": "[encoded data removed]",
      "text/plain": [
       "<Figure size 1200x500 with 1 Axes>"
      ]
     },
     "metadata": {},
     "output_type": "display_data"
    }
   ],
   "source": [
    "  # Plot Elbow Curve\n",
    "\n",
    "plt.figure(figsize = (12, 5))\n",
    "\n",
    "plt.subplot(1,2,1)\n",
    "plt.plot(k_range, inertias, 'bo-', linewidth = 2, markersize = 8)\n",
    "plt.xlabel(\"Number of Clusters (k)\",fontsize =12)\n",
    "plt.ylabel(\"Inertia (Within-Cluster Sum of Squares)\", fontsize =12)\n",
    "plt.title(\"Elbow Method For Optimal k\", fontsize = 12)\n",
    "plt.xticks(k_range)\n",
    "plt.grid(True, alpha = 0.3)\n",
    "\n",
    "\n",
    "# Lets add this to highlight potential elbows\n",
    "\n",
    "for k in [3,4,5]:\n",
    "    plt.axvline(x =k, color =\"red\", linestyle = \"--\",alpha =0.3)\n",
    "    plt.text(k, max(inertias)*0.9, f\"k = {k}\", ha = \"center\")"
   ]
  },
  {
   "cell_type": "code",
   "execution_count": 95,
   "id": "2c5b09b4",
   "metadata": {},
   "outputs": [],
   "source": [
    "# inverse transform the scaled RFM values to make interpreting the values quite easy\n",
    "\n",
    "rfm[[\"Recency\",\"Frequency\",\"Monetary\"]] = scaler.inverse_transform(rfm_scaled[[\"Recency_scaled\",\"Frequency_scaled\",\"Monetary_scaled\"]])"
   ]
  },
  {
   "cell_type": "code",
   "execution_count": 96,
   "id": "549d1f18",
   "metadata": {},
   "outputs": [
    {
     "data": {
      "text/html": [
       "<div>\n",
       "<style scoped>\n",
       "    .dataframe tbody tr th:only-of-type {\n",
       "        vertical-align: middle;\n",
       "    }\n",
       "\n",
       "    .dataframe tbody tr th {\n",
       "        vertical-align: top;\n",
       "    }\n",
       "\n",
       "    .dataframe thead th {\n",
       "        text-align: right;\n",
       "    }\n",
       "</style>\n",
       "<table border=\"1\" class=\"dataframe\">\n",
       "  <thead>\n",
       "    <tr style=\"text-align: right;\">\n",
       "      <th></th>\n",
       "      <th>CustomerID</th>\n",
       "      <th>Recency</th>\n",
       "      <th>Frequency</th>\n",
       "      <th>Monetary</th>\n",
       "      <th>Cluster</th>\n",
       "    </tr>\n",
       "  </thead>\n",
       "  <tbody>\n",
       "    <tr>\n",
       "      <th>0</th>\n",
       "      <td>12346.0</td>\n",
       "      <td>326.0</td>\n",
       "      <td>1.0</td>\n",
       "      <td>77183.6</td>\n",
       "      <td>2</td>\n",
       "    </tr>\n",
       "    <tr>\n",
       "      <th>1</th>\n",
       "      <td>12347.0</td>\n",
       "      <td>2.0</td>\n",
       "      <td>7.0</td>\n",
       "      <td>4310.0</td>\n",
       "      <td>0</td>\n",
       "    </tr>\n",
       "  </tbody>\n",
       "</table>\n",
       "</div>"
      ],
      "text/plain": [
       "   CustomerID  Recency  Frequency  Monetary  Cluster\n",
       "0     12346.0    326.0        1.0   77183.6        2\n",
       "1     12347.0      2.0        7.0    4310.0        0"
      ]
     },
     "execution_count": 96,
     "metadata": {},
     "output_type": "execute_result"
    }
   ],
   "source": [
    "rfm.head(2)"
   ]
  },
  {
   "cell_type": "markdown",
   "id": "75de4d70",
   "metadata": {},
   "source": [
    "To understand what each cluster means, compute the average R, F, M per cluster"
   ]
  },
  {
   "cell_type": "code",
   "execution_count": 97,
   "id": "3b0f2561",
   "metadata": {},
   "outputs": [
    {
     "name": "stdout",
     "output_type": "stream",
     "text": [
      "         Recency  Frequency  Monetary\n",
      "Cluster                              \n",
      "0           83.5        4.9    2099.8\n",
      "1            2.6       76.6  209287.6\n",
      "2           32.3       44.2   53310.5\n",
      "3          101.5        3.0     871.3\n"
     ]
    }
   ],
   "source": [
    "cluster_summary = rfm.groupby('Cluster')[['Recency', 'Frequency', 'Monetary']].mean().round(1)\n",
    "print(cluster_summary)\n"
   ]
  },
  {
   "cell_type": "markdown",
   "id": "99edb56e",
   "metadata": {},
   "source": [
    "**Insights From the Clusters**"
   ]
  },
  {
   "cell_type": "markdown",
   "id": "09e777ae",
   "metadata": {},
   "source": [
    "| Cluster | Recency      | Frequency | Monetary      | Interpretation                                                                                            |\n",
    "| :------ | :----------- | :-------- | :------------ | :-------------------------------------------------------------------------------------------------------- |\n",
    "| **1**   | **2.6 days** | **76.6**  | **209,287.6** |  **Best customers** – they bought very recently, buy often, and spend a lot.                            |\n",
    "| **2**   | 32.3 days    | 44.2      | 53,310.5      |  **Loyal mid-tier** – active customers, buy regularly, good spenders, but not as top-tier as Cluster 1. |\n",
    "| **0**   | 83.5 days    | 4.9       | 2,099.8       |  **At-risk or dormant** – haven’t purchased in a while, buy infrequently, and spend little.             |\n",
    "| **3**   | 101.5 days   | 3.0       | 871.3         |  **Lost customers** – longest since last purchase, lowest spending and purchase count.                  |\n"
   ]
  },
  {
   "cell_type": "markdown",
   "id": "1b466d69",
   "metadata": {},
   "source": [
    "**Putting the insights to use**\n",
    "\n",
    "\n",
    "Cluster 1 (Best Customers): Give VIP perks or early access to new products.\n",
    "\n",
    "Cluster 2 (Loyal Mid-tier): Encourage them to spend more — maybe through loyalty points or volume discounts.\n",
    "\n",
    "Cluster 0 (At Risk): Send “We miss you” emails or targeted reactivation offers.\n",
    "\n",
    "Cluster 3 (Lost): Analyze what caused churn (price, shipping, product availability, complaints etc). Check through customer complaint data and filter for these customers"
   ]
  },
  {
   "cell_type": "code",
   "execution_count": 98,
   "id": "0c7e488e",
   "metadata": {},
   "outputs": [],
   "source": [
    "%%capture\n",
    "%pip install nbformat\n",
    "%pip show nbformat"
   ]
  },
  {
   "cell_type": "code",
   "execution_count": 99,
   "id": "71513e00",
   "metadata": {},
   "outputs": [],
   "source": [
    "from sklearn.decomposition import PCA\n",
    "import matplotlib.pyplot as plt\n",
    "import plotly.io as px\n",
    "px.renderers.default = 'vscode'\n",
    "\n",
    "import nbformat\n",
    "\n",
    "\n",
    "# Reduce RFM (scaled) to 2 components\n",
    "pca = PCA(2)\n",
    "rfm_pca = pca.fit_transform(rfm_scaled)\n",
    "\n",
    "# Convert to DataFrame for easier plotting\n",
    "rfm_pca = pd.DataFrame(rfm_pca, columns=['PCA1', 'PCA2'])\n",
    "rfm_pca['Cluster'] = rfm['Cluster']"
   ]
  },
  {
   "cell_type": "code",
   "execution_count": 100,
   "id": "3d292aef",
   "metadata": {},
   "outputs": [
    {
     "ename": "NameError",
     "evalue": "name 'rfm_viz' is not defined",
     "output_type": "error",
     "traceback": [
      "\u001b[1;31m---------------------------------------------------------------------------\u001b[0m",
      "\u001b[1;31mNameError\u001b[0m                                 Traceback (most recent call last)",
      "Cell \u001b[1;32mIn[100], line 10\u001b[0m\n\u001b[0;32m      5\u001b[0m pio\u001b[38;5;241m.\u001b[39mrenderers\u001b[38;5;241m.\u001b[39mdefault \u001b[38;5;241m=\u001b[39m \u001b[38;5;124m'\u001b[39m\u001b[38;5;124mvscode\u001b[39m\u001b[38;5;124m'\u001b[39m\n\u001b[0;32m      6\u001b[0m \u001b[38;5;66;03m# pio.renderers.default = 'browser'\u001b[39;00m\n\u001b[0;32m      7\u001b[0m \n\u001b[0;32m      8\u001b[0m \u001b[38;5;66;03m# the plot\u001b[39;00m\n\u001b[0;32m      9\u001b[0m fig \u001b[38;5;241m=\u001b[39m px\u001b[38;5;241m.\u001b[39mscatter(\n\u001b[1;32m---> 10\u001b[0m     \u001b[43mrfm_viz\u001b[49m,\n\u001b[0;32m     11\u001b[0m     x\u001b[38;5;241m=\u001b[39m\u001b[38;5;124m'\u001b[39m\u001b[38;5;124mPCA1\u001b[39m\u001b[38;5;124m'\u001b[39m,\n\u001b[0;32m     12\u001b[0m     y\u001b[38;5;241m=\u001b[39m\u001b[38;5;124m'\u001b[39m\u001b[38;5;124mPCA2\u001b[39m\u001b[38;5;124m'\u001b[39m,\n\u001b[0;32m     13\u001b[0m     color\u001b[38;5;241m=\u001b[39m\u001b[38;5;124m'\u001b[39m\u001b[38;5;124mSegment\u001b[39m\u001b[38;5;124m'\u001b[39m,\n\u001b[0;32m     14\u001b[0m     hover_data\u001b[38;5;241m=\u001b[39m[\u001b[38;5;124m'\u001b[39m\u001b[38;5;124mCustomerID\u001b[39m\u001b[38;5;124m'\u001b[39m, \u001b[38;5;124m'\u001b[39m\u001b[38;5;124mRecency\u001b[39m\u001b[38;5;124m'\u001b[39m, \u001b[38;5;124m'\u001b[39m\u001b[38;5;124mFrequency\u001b[39m\u001b[38;5;124m'\u001b[39m, \u001b[38;5;124m'\u001b[39m\u001b[38;5;124mMonetary\u001b[39m\u001b[38;5;124m'\u001b[39m],\n\u001b[0;32m     15\u001b[0m     title\u001b[38;5;241m=\u001b[39m\u001b[38;5;124m'\u001b[39m\u001b[38;5;124mCustomer Segments based on RFM (Interactive PCA Visualization)\u001b[39m\u001b[38;5;124m'\u001b[39m,\n\u001b[0;32m     16\u001b[0m     color_discrete_map\u001b[38;5;241m=\u001b[39m{\n\u001b[0;32m     17\u001b[0m         \u001b[38;5;124m'\u001b[39m\u001b[38;5;124mBest Customers\u001b[39m\u001b[38;5;124m'\u001b[39m: \u001b[38;5;124m'\u001b[39m\u001b[38;5;124mgreen\u001b[39m\u001b[38;5;124m'\u001b[39m,\n\u001b[0;32m     18\u001b[0m         \u001b[38;5;124m'\u001b[39m\u001b[38;5;124mLoyal Mid-tier\u001b[39m\u001b[38;5;124m'\u001b[39m: \u001b[38;5;124m'\u001b[39m\u001b[38;5;124mblue\u001b[39m\u001b[38;5;124m'\u001b[39m,\n\u001b[0;32m     19\u001b[0m         \u001b[38;5;124m'\u001b[39m\u001b[38;5;124mAt Risk\u001b[39m\u001b[38;5;124m'\u001b[39m: \u001b[38;5;124m'\u001b[39m\u001b[38;5;124morange\u001b[39m\u001b[38;5;124m'\u001b[39m,\n\u001b[0;32m     20\u001b[0m         \u001b[38;5;124m'\u001b[39m\u001b[38;5;124mLost Customers\u001b[39m\u001b[38;5;124m'\u001b[39m: \u001b[38;5;124m'\u001b[39m\u001b[38;5;124mred\u001b[39m\u001b[38;5;124m'\u001b[39m\n\u001b[0;32m     21\u001b[0m     }\n\u001b[0;32m     22\u001b[0m )\n\u001b[0;32m     24\u001b[0m fig\u001b[38;5;241m.\u001b[39mupdate_traces(marker\u001b[38;5;241m=\u001b[39m\u001b[38;5;28mdict\u001b[39m(size\u001b[38;5;241m=\u001b[39m\u001b[38;5;241m8\u001b[39m, opacity\u001b[38;5;241m=\u001b[39m\u001b[38;5;241m0.7\u001b[39m))\n\u001b[0;32m     25\u001b[0m fig\u001b[38;5;241m.\u001b[39mshow()\n",
      "\u001b[1;31mNameError\u001b[0m: name 'rfm_viz' is not defined"
     ]
    }
   ],
   "source": [
    "import plotly.express as px\n",
    "import plotly.io as pio\n",
    "\n",
    "# Set renderer for VS Code (use 'browser' if you prefer an external tab)\n",
    "pio.renderers.default = 'vscode'\n",
    "# pio.renderers.default = 'browser'\n",
    "\n",
    "# the plot\n",
    "fig = px.scatter(\n",
    "    rfm_viz,\n",
    "    x='PCA1',\n",
    "    y='PCA2',\n",
    "    color='Segment',\n",
    "    hover_data=['CustomerID', 'Recency', 'Frequency', 'Monetary'],\n",
    "    title='Customer Segments based on RFM (Interactive PCA Visualization)',\n",
    "    color_discrete_map={\n",
    "        'Best Customers': 'green',\n",
    "        'Loyal Mid-tier': 'blue',\n",
    "        'At Risk': 'orange',\n",
    "        'Lost Customers': 'red'\n",
    "    }\n",
    ")\n",
    "\n",
    "fig.update_traces(marker=dict(size=8, opacity=0.7))\n",
    "fig.show()\n"
   ]
  },
  {
   "cell_type": "code",
   "execution_count": null,
   "id": "f4ddcbaf",
   "metadata": {},
   "outputs": [
    {
     "name": "stdout",
     "output_type": "stream",
     "text": [
      "Silhouette Score: 0.479\n"
     ]
    }
   ],
   "source": [
    "from sklearn.metrics import silhouette_score, silhouette_samples\n",
    "\n",
    "\n",
    "labels = kmeans.labels_\n",
    "sil_score = silhouette_score(rfm_scaled, labels)\n",
    "\n",
    "print(f\"Silhouette Score: {sil_score:.3f}\")\n"
   ]
  },
  {
   "cell_type": "markdown",
   "id": "40f089ff",
   "metadata": {},
   "source": [
    "Scores between 0.4 and 0.6 suggest reasonably distinct clusters, though not perfectly separated.\n",
    "\n",
    "There might have been some overlap between clusters, but overall K-Means did a fair job grouping your data."
   ]
  },
  {
   "cell_type": "code",
   "execution_count": null,
   "id": "3f1cd12b",
   "metadata": {},
   "outputs": [
    {
     "name": "stdout",
     "output_type": "stream",
     "text": [
      "For n_clusters = 2, the average silhouette score is 0.561\n"
     ]
    },
    {
     "data": {
      "image/png": "[encoded data removed]",
      "text/plain": [
       "<Figure size 700x500 with 1 Axes>"
      ]
     },
     "metadata": {},
     "output_type": "display_data"
    },
    {
     "name": "stdout",
     "output_type": "stream",
     "text": [
      "For n_clusters = 3, the average silhouette score is 0.594\n"
     ]
    },
    {
     "data": {
      "image/png": "[encoded data removed]",
      "text/plain": [
       "<Figure size 700x500 with 1 Axes>"
      ]
     },
     "metadata": {},
     "output_type": "display_data"
    },
    {
     "name": "stdout",
     "output_type": "stream",
     "text": [
      "For n_clusters = 4, the average silhouette score is 0.616\n"
     ]
    },
    {
     "data": {
      "image/png": "[encoded data removed]",
      "text/plain": [
       "<Figure size 700x500 with 1 Axes>"
      ]
     },
     "metadata": {},
     "output_type": "display_data"
    },
    {
     "name": "stdout",
     "output_type": "stream",
     "text": [
      "For n_clusters = 5, the average silhouette score is 0.436\n"
     ]
    },
    {
     "data": {
      "image/png": "[encoded data removed]",
      "text/plain": [
       "<Figure size 700x500 with 1 Axes>"
      ]
     },
     "metadata": {},
     "output_type": "display_data"
    },
    {
     "name": "stdout",
     "output_type": "stream",
     "text": [
      "For n_clusters = 6, the average silhouette score is 0.483\n"
     ]
    },
    {
     "data": {
      "image/png": "[encoded data removed]",
      "text/plain": [
       "<Figure size 700x500 with 1 Axes>"
      ]
     },
     "metadata": {},
     "output_type": "display_data"
    }
   ],
   "source": [
    "import matplotlib.pyplot as plt\n",
    "from sklearn.metrics import silhouette_samples, silhouette_score\n",
    "import numpy as np\n",
    "import matplotlib.cm as cm\n",
    "\n",
    "range_n_clusters = [2, 3, 4, 5, 6]\n",
    "\n",
    "for n_clusters in range_n_clusters:\n",
    "    fig, ax1 = plt.subplots(1, 1)\n",
    "    fig.set_size_inches(7, 5)\n",
    "\n",
    "    # Initialize KMeans\n",
    "    from sklearn.cluster import KMeans\n",
    "    clusterer = KMeans(n_clusters=n_clusters, random_state=42)\n",
    "    cluster_labels = clusterer.fit_predict(rfm_scaled)\n",
    "\n",
    "    silhouette_avg = silhouette_score(rfm_scaled, cluster_labels)\n",
    "    print(f\"For n_clusters = {n_clusters}, the average silhouette score is {silhouette_avg:.3f}\")\n",
    "\n",
    "    # Compute silhouette scores for each sample\n",
    "    sample_silhouette_values = silhouette_samples(rfm_scaled, cluster_labels)\n",
    "\n",
    "    y_lower = 10\n",
    "    for i in range(n_clusters):\n",
    "        ith_cluster_silhouette_values = sample_silhouette_values[cluster_labels == i]\n",
    "        ith_cluster_silhouette_values.sort()\n",
    "\n",
    "        size_cluster_i = ith_cluster_silhouette_values.shape[0]\n",
    "        y_upper = y_lower + size_cluster_i\n",
    "\n",
    "        color = cm.nipy_spectral(float(i) / n_clusters)\n",
    "        ax1.fill_betweenx(np.arange(y_lower, y_upper),\n",
    "                          0, ith_cluster_silhouette_values,\n",
    "                          facecolor=color, edgecolor=color, alpha=0.7)\n",
    "\n",
    "        ax1.text(-0.05, y_lower + 0.5 * size_cluster_i, str(i))\n",
    "        y_lower = y_upper + 10  # 10 for spacing\n",
    "\n",
    "    ax1.set_title(f\"Silhouette plot for {n_clusters} clusters\")\n",
    "    ax1.set_xlabel(\"Silhouette coefficient values\")\n",
    "    ax1.set_ylabel(\"Cluster label\")\n",
    "\n",
    "    ax1.axvline(x=silhouette_avg, color=\"red\", linestyle=\"--\")\n",
    "    ax1.set_yticks([])\n",
    "    ax1.set_xticks(np.arange(-0.1, 1.1, 0.2))\n",
    "    plt.show()\n"
   ]
  },
  {
   "cell_type": "markdown",
   "id": "2d969a66",
   "metadata": {},
   "source": [
    "k = 4 gives the highest silhouette score (0.616) — meaning that’s likely the best balance between cluster cohesion and separation."
   ]
  },
  {
   "cell_type": "markdown",
   "id": "4df28775",
   "metadata": {},
   "source": [
    "##### **Method 4-DBSCAN (Density-Based Spatial Clustering of Applications with Noise)**"
   ]
  },
  {
   "cell_type": "markdown",
   "id": "8ecafcab",
   "metadata": {},
   "source": [
    "- DBSCAN groups together points that are close to each other based on a density measure, and marks points in low-density regions as outliers (noise).\n",
    "\n",
    "Unlike K-Means, we don’t specify k (number of clusters).It can find clusters of arbitrary shape. It doesn’t perform well when clusters have very different densities."
   ]
  },
  {
   "cell_type": "markdown",
   "id": "2be0f393",
   "metadata": {},
   "source": [
    "**Key parameters**\n",
    "\n",
    "`eps` (epsilon) — maximum distance between two samples for them to be considered in the same neighborhood. Think of it as how “close” points must be to belong to a cluster.\n",
    "\n",
    "`min_samples` — the minimum number of points needed to form a dense region (a cluster). Think of it as how “thick” a region must be before it’s a cluster"
   ]
  },
  {
   "cell_type": "code",
   "execution_count": null,
   "id": "57b01f29",
   "metadata": {},
   "outputs": [
    {
     "name": "stdout",
     "output_type": "stream",
     "text": [
      "eps=2.0 → clusters=4\n",
      "eps=3.0 → clusters=4\n"
     ]
    }
   ],
   "source": [
    "from sklearn.cluster import DBSCAN\n",
    "\n",
    "for eps in [2.0, 3.0]:\n",
    "    dbscan = DBSCAN(eps=eps, min_samples=2)\n",
    "    labels = dbscan.fit_predict(rfm_scaled)\n",
    "    n_clusters = len(set(labels)) - (1 if -1 in labels else 0)\n",
    "    print(f\"eps={eps} → clusters={n_clusters}\")\n",
    "    \n"
   ]
  },
  {
   "cell_type": "code",
   "execution_count": null,
   "id": "713dc9ec",
   "metadata": {},
   "outputs": [
    {
     "name": "stdout",
     "output_type": "stream",
     "text": [
      "Silhouette Score: 0.8993383579848409\n"
     ]
    }
   ],
   "source": [
    "# Evaluate if there are clusters\n",
    "if n_clusters > 1:\n",
    "    print(\"Silhouette Score:\", silhouette_score(rfm_scaled, dbscan_labels))\n",
    "else:\n",
    "    print(\"Silhouette score cannot be computed (only one cluster found).\")\n"
   ]
  },
  {
   "cell_type": "markdown",
   "id": "39ae7287",
   "metadata": {},
   "source": [
    "Clusters are extremely tight, customers in the same group are highly similar in RFM behavior.\n",
    "\n",
    "Cluster boundaries are very clear, points rarely fall between clusters (low overlap).\n",
    "\n",
    "DBSCAN has perfectly captured natural density regions in your scaled space.\n",
    "\n",
    "This likely means our RFM features have strong, distinct behavioral patterns (e.g., groups of high-value customers, frequent buyers, or occasional visitors)."
   ]
  },
  {
   "cell_type": "code",
   "execution_count": null,
   "id": "0f772f0a",
   "metadata": {},
   "outputs": [
    {
     "data": {
      "text/html": [
       "<div>\n",
       "<style scoped>\n",
       "    .dataframe tbody tr th:only-of-type {\n",
       "        vertical-align: middle;\n",
       "    }\n",
       "\n",
       "    .dataframe tbody tr th {\n",
       "        vertical-align: top;\n",
       "    }\n",
       "\n",
       "    .dataframe thead th {\n",
       "        text-align: right;\n",
       "    }\n",
       "</style>\n",
       "<table border=\"1\" class=\"dataframe\">\n",
       "  <thead>\n",
       "    <tr style=\"text-align: right;\">\n",
       "      <th></th>\n",
       "      <th>Recency</th>\n",
       "      <th>Frequency</th>\n",
       "      <th>Monetary</th>\n",
       "    </tr>\n",
       "    <tr>\n",
       "      <th>Cluster</th>\n",
       "      <th></th>\n",
       "      <th></th>\n",
       "      <th></th>\n",
       "    </tr>\n",
       "  </thead>\n",
       "  <tbody>\n",
       "    <tr>\n",
       "      <th>-1</th>\n",
       "      <td>82.777778</td>\n",
       "      <td>77.111111</td>\n",
       "      <td>100538.545556</td>\n",
       "    </tr>\n",
       "    <tr>\n",
       "      <th>0</th>\n",
       "      <td>92.664200</td>\n",
       "      <td>4.010407</td>\n",
       "      <td>1688.214101</td>\n",
       "    </tr>\n",
       "    <tr>\n",
       "      <th>1</th>\n",
       "      <td>2.500000</td>\n",
       "      <td>89.500000</td>\n",
       "      <td>11633.030000</td>\n",
       "    </tr>\n",
       "    <tr>\n",
       "      <th>2</th>\n",
       "      <td>2.000000</td>\n",
       "      <td>94.000000</td>\n",
       "      <td>59697.415000</td>\n",
       "    </tr>\n",
       "    <tr>\n",
       "      <th>3</th>\n",
       "      <td>1.500000</td>\n",
       "      <td>67.000000</td>\n",
       "      <td>269931.660000</td>\n",
       "    </tr>\n",
       "  </tbody>\n",
       "</table>\n",
       "</div>"
      ],
      "text/plain": [
       "           Recency  Frequency       Monetary\n",
       "Cluster                                     \n",
       "-1       82.777778  77.111111  100538.545556\n",
       " 0       92.664200   4.010407    1688.214101\n",
       " 1        2.500000  89.500000   11633.030000\n",
       " 2        2.000000  94.000000   59697.415000\n",
       " 3        1.500000  67.000000  269931.660000"
      ]
     },
     "execution_count": 205,
     "metadata": {},
     "output_type": "execute_result"
    }
   ],
   "source": [
    "rfm['Cluster'] = labels\n",
    "rfm.groupby('Cluster')[['Recency','Frequency','Monetary']].mean()\n"
   ]
  },
  {
   "cell_type": "markdown",
   "id": "93081b67",
   "metadata": {},
   "source": [
    "| Cluster | Recency ↓ (lower = recent) | Frequency ↑ | Monetary ↑ | Interpretation                                                                                                                                                                                       |\n",
    "| ------- | -------------------------- | ----------- | ---------- | ---------------------------------------------------------------------------------------------------------------------------------------------------------------------------------------------------- |\n",
    "| **-1**  | 82.8                       | 77.1        | 100,538    | These are **noise points** (label = -1), meaning DBSCAN couldn’t confidently place them in any cluster. Still, they look like **mid-value, moderately active customers** — not extreme in any sense. |\n",
    "| **0**   | 92.7                       | 4.0         | 1,688      | **Dormant / one-time customers.** Haven’t bought in a long time, rarely shop, and spend little.                                                                                                      |\n",
    "| **1**   | 2.5                        | 89.5        | 11,633     | **Frequent but low-value buyers.** Recent activity, high purchase count, but relatively modest total spending.                                                                                       |\n",
    "| **2**   | 2.0                        | 94.0        | 59,697     | **High-value loyal customers.** Buy often and recently, spend a lot — your core segment!                                                                                                             |\n",
    "| **3**   | 1.5                        | 67.0        | 269,932    | **VIP / top spenders.** Extremely recent, fairly frequent, and huge spenders — likely corporate or wholesale customers.                                                                              |\n"
   ]
  },
  {
   "cell_type": "code",
   "execution_count": null,
   "id": "a9225f73",
   "metadata": {},
   "outputs": [],
   "source": []
  },
  {
   "cell_type": "markdown",
   "id": "3039f9ae",
   "metadata": {},
   "source": [
    "##### **Method 5-Agglomerative (Hierarchical) Clustering**"
   ]
  },
  {
   "cell_type": "markdown",
   "id": "64b811f3",
   "metadata": {},
   "source": [
    "Hierarchical Clustering works quite differently from K-Means or DBSCAN, instead of “guessing” clusters, it builds them step by step, merging the two most similar points or clusters until everything joins into one big tree — **a dendrogram**."
   ]
  },
  {
   "cell_type": "code",
   "execution_count": null,
   "id": "d8d2d7e8",
   "metadata": {},
   "outputs": [
    {
     "data": {
      "image/png": "[encoded data removed]",
      "text/plain": [
       "<Figure size 1200x600 with 1 Axes>"
      ]
     },
     "metadata": {},
     "output_type": "display_data"
    }
   ],
   "source": [
    "from scipy.cluster.hierarchy import linkage, dendrogram\n",
    "\n",
    "# Create the linkage matrix (Ward’s method minimizes variance within clusters)\n",
    "linked = linkage(rfm_scaled, method='ward')\n",
    "\n",
    "# Plot the dendrogram\n",
    "plt.figure(figsize=(12, 6))\n",
    "dendrogram(linked, truncate_mode='level', p=5)\n",
    "plt.title(\"Customer Dendrogram (Hierarchical Clustering)\")\n",
    "plt.xlabel(\"Customers\")\n",
    "plt.ylabel(\"Euclidean Distance\")\n",
    "plt.show()\n"
   ]
  },
  {
   "cell_type": "code",
   "execution_count": null,
   "id": "7e5dd1e0",
   "metadata": {},
   "outputs": [
    {
     "data": {
      "text/html": [
       "<div>\n",
       "<style scoped>\n",
       "    .dataframe tbody tr th:only-of-type {\n",
       "        vertical-align: middle;\n",
       "    }\n",
       "\n",
       "    .dataframe tbody tr th {\n",
       "        vertical-align: top;\n",
       "    }\n",
       "\n",
       "    .dataframe thead th {\n",
       "        text-align: right;\n",
       "    }\n",
       "</style>\n",
       "<table border=\"1\" class=\"dataframe\">\n",
       "  <thead>\n",
       "    <tr style=\"text-align: right;\">\n",
       "      <th></th>\n",
       "      <th>Recency</th>\n",
       "      <th>Frequency</th>\n",
       "      <th>Monetary</th>\n",
       "    </tr>\n",
       "    <tr>\n",
       "      <th>Cluster</th>\n",
       "      <th></th>\n",
       "      <th></th>\n",
       "      <th></th>\n",
       "    </tr>\n",
       "  </thead>\n",
       "  <tbody>\n",
       "    <tr>\n",
       "      <th>0</th>\n",
       "      <td>42.673687</td>\n",
       "      <td>4.801282</td>\n",
       "      <td>2054.093762</td>\n",
       "    </tr>\n",
       "    <tr>\n",
       "      <th>1</th>\n",
       "      <td>6.733333</td>\n",
       "      <td>83.600000</td>\n",
       "      <td>111780.635333</td>\n",
       "    </tr>\n",
       "    <tr>\n",
       "      <th>2</th>\n",
       "      <td>249.558206</td>\n",
       "      <td>1.481870</td>\n",
       "      <td>459.244467</td>\n",
       "    </tr>\n",
       "  </tbody>\n",
       "</table>\n",
       "</div>"
      ],
      "text/plain": [
       "            Recency  Frequency       Monetary\n",
       "Cluster                                      \n",
       "0         42.673687   4.801282    2054.093762\n",
       "1          6.733333  83.600000  111780.635333\n",
       "2        249.558206   1.481870     459.244467"
      ]
     },
     "execution_count": 207,
     "metadata": {},
     "output_type": "execute_result"
    }
   ],
   "source": [
    "from sklearn.cluster import AgglomerativeClustering\n",
    "\n",
    "agg = AgglomerativeClustering(n_clusters=3, linkage='ward')\n",
    "rfm['Cluster'] = agg.fit_predict(rfm_scaled)\n",
    "\n",
    "rfm.groupby('Cluster')[['Recency','Frequency','Monetary']].mean()\n"
   ]
  },
  {
   "cell_type": "code",
   "execution_count": null,
   "id": "9bcd1181",
   "metadata": {},
   "outputs": [
    {
     "data": {
      "text/html": [
       "<div>\n",
       "<style scoped>\n",
       "    .dataframe tbody tr th:only-of-type {\n",
       "        vertical-align: middle;\n",
       "    }\n",
       "\n",
       "    .dataframe tbody tr th {\n",
       "        vertical-align: top;\n",
       "    }\n",
       "\n",
       "    .dataframe thead th {\n",
       "        text-align: right;\n",
       "    }\n",
       "</style>\n",
       "<table border=\"1\" class=\"dataframe\">\n",
       "  <thead>\n",
       "    <tr style=\"text-align: right;\">\n",
       "      <th></th>\n",
       "      <th>Recency</th>\n",
       "      <th>Frequency</th>\n",
       "      <th>Monetary</th>\n",
       "    </tr>\n",
       "    <tr>\n",
       "      <th>Cluster</th>\n",
       "      <th></th>\n",
       "      <th></th>\n",
       "      <th></th>\n",
       "    </tr>\n",
       "  </thead>\n",
       "  <tbody>\n",
       "    <tr>\n",
       "      <th>0</th>\n",
       "      <td>42.7</td>\n",
       "      <td>4.8</td>\n",
       "      <td>2054.1</td>\n",
       "    </tr>\n",
       "    <tr>\n",
       "      <th>1</th>\n",
       "      <td>6.7</td>\n",
       "      <td>83.6</td>\n",
       "      <td>111780.6</td>\n",
       "    </tr>\n",
       "    <tr>\n",
       "      <th>2</th>\n",
       "      <td>249.6</td>\n",
       "      <td>1.5</td>\n",
       "      <td>459.2</td>\n",
       "    </tr>\n",
       "  </tbody>\n",
       "</table>\n",
       "</div>"
      ],
      "text/plain": [
       "         Recency  Frequency  Monetary\n",
       "Cluster                              \n",
       "0           42.7        4.8    2054.1\n",
       "1            6.7       83.6  111780.6\n",
       "2          249.6        1.5     459.2"
      ]
     },
     "execution_count": 209,
     "metadata": {},
     "output_type": "execute_result"
    }
   ],
   "source": [
    "# inverse transform the scaled RFM values to make interpreting the values quite easy\n",
    "\n",
    "rfm[[\"Recency\",\"Frequency\",\"Monetary\"]] = scaler.inverse_transform(rfm_scaled[[\"Recency_scaled\",\"Frequency_scaled\",\"Monetary_scaled\"]])\n",
    "\n",
    "\n",
    "rfm.groupby('Cluster')[['Recency','Frequency','Monetary']].mean().round(1)"
   ]
  },
  {
   "cell_type": "markdown",
   "id": "ac191a9c",
   "metadata": {},
   "source": [
    "| Cluster | Recency | Frequency | Monetary  | Interpretation                                                                                        |\n",
    "| ------- | ------- | --------- | --------- | ----------------------------------------------------------------------------------------------------- |\n",
    "| **0**   | 42.7    | 4.8       | 2,054.1   | Customers purchase occasionally, not too recent — mid-value customers.                                |\n",
    "| **1**   | 6.7     | 83.6      | 111,780.6 | Very recent, very frequent, and spend a lot — your **best customers**.                                |\n",
    "| **2**   | 249.6   | 1.5       | 459.2     | Haven’t purchased in a long time, buy rarely, and spend little — your **lost or inactive** customers. |\n"
   ]
  },
  {
   "cell_type": "code",
   "execution_count": null,
   "id": "86feead6",
   "metadata": {},
   "outputs": [
    {
     "data": {
      "text/html": [
       "<div>\n",
       "<style scoped>\n",
       "    .dataframe tbody tr th:only-of-type {\n",
       "        vertical-align: middle;\n",
       "    }\n",
       "\n",
       "    .dataframe tbody tr th {\n",
       "        vertical-align: top;\n",
       "    }\n",
       "\n",
       "    .dataframe thead th {\n",
       "        text-align: right;\n",
       "    }\n",
       "</style>\n",
       "<table border=\"1\" class=\"dataframe\">\n",
       "  <thead>\n",
       "    <tr style=\"text-align: right;\">\n",
       "      <th></th>\n",
       "      <th>CustomerID</th>\n",
       "      <th>Recency</th>\n",
       "      <th>Frequency</th>\n",
       "      <th>Monetary</th>\n",
       "      <th>Cluster</th>\n",
       "    </tr>\n",
       "  </thead>\n",
       "  <tbody>\n",
       "    <tr>\n",
       "      <th>0</th>\n",
       "      <td>12346.0</td>\n",
       "      <td>326.0</td>\n",
       "      <td>1.0</td>\n",
       "      <td>77183.60</td>\n",
       "      <td>0</td>\n",
       "    </tr>\n",
       "    <tr>\n",
       "      <th>1</th>\n",
       "      <td>12347.0</td>\n",
       "      <td>2.0</td>\n",
       "      <td>7.0</td>\n",
       "      <td>4310.00</td>\n",
       "      <td>0</td>\n",
       "    </tr>\n",
       "    <tr>\n",
       "      <th>2</th>\n",
       "      <td>12348.0</td>\n",
       "      <td>75.0</td>\n",
       "      <td>4.0</td>\n",
       "      <td>1797.24</td>\n",
       "      <td>0</td>\n",
       "    </tr>\n",
       "    <tr>\n",
       "      <th>3</th>\n",
       "      <td>12349.0</td>\n",
       "      <td>19.0</td>\n",
       "      <td>1.0</td>\n",
       "      <td>1757.55</td>\n",
       "      <td>0</td>\n",
       "    </tr>\n",
       "    <tr>\n",
       "      <th>4</th>\n",
       "      <td>12350.0</td>\n",
       "      <td>310.0</td>\n",
       "      <td>1.0</td>\n",
       "      <td>334.40</td>\n",
       "      <td>2</td>\n",
       "    </tr>\n",
       "    <tr>\n",
       "      <th>...</th>\n",
       "      <td>...</td>\n",
       "      <td>...</td>\n",
       "      <td>...</td>\n",
       "      <td>...</td>\n",
       "      <td>...</td>\n",
       "    </tr>\n",
       "    <tr>\n",
       "      <th>4334</th>\n",
       "      <td>18280.0</td>\n",
       "      <td>278.0</td>\n",
       "      <td>1.0</td>\n",
       "      <td>180.60</td>\n",
       "      <td>2</td>\n",
       "    </tr>\n",
       "    <tr>\n",
       "      <th>4335</th>\n",
       "      <td>18281.0</td>\n",
       "      <td>181.0</td>\n",
       "      <td>1.0</td>\n",
       "      <td>80.82</td>\n",
       "      <td>2</td>\n",
       "    </tr>\n",
       "    <tr>\n",
       "      <th>4336</th>\n",
       "      <td>18282.0</td>\n",
       "      <td>8.0</td>\n",
       "      <td>2.0</td>\n",
       "      <td>178.05</td>\n",
       "      <td>0</td>\n",
       "    </tr>\n",
       "    <tr>\n",
       "      <th>4337</th>\n",
       "      <td>18283.0</td>\n",
       "      <td>4.0</td>\n",
       "      <td>16.0</td>\n",
       "      <td>2045.53</td>\n",
       "      <td>0</td>\n",
       "    </tr>\n",
       "    <tr>\n",
       "      <th>4338</th>\n",
       "      <td>18287.0</td>\n",
       "      <td>43.0</td>\n",
       "      <td>3.0</td>\n",
       "      <td>1837.28</td>\n",
       "      <td>0</td>\n",
       "    </tr>\n",
       "  </tbody>\n",
       "</table>\n",
       "<p>4339 rows × 5 columns</p>\n",
       "</div>"
      ],
      "text/plain": [
       "      CustomerID  Recency  Frequency  Monetary  Cluster\n",
       "0        12346.0    326.0        1.0  77183.60        0\n",
       "1        12347.0      2.0        7.0   4310.00        0\n",
       "2        12348.0     75.0        4.0   1797.24        0\n",
       "3        12349.0     19.0        1.0   1757.55        0\n",
       "4        12350.0    310.0        1.0    334.40        2\n",
       "...          ...      ...        ...       ...      ...\n",
       "4334     18280.0    278.0        1.0    180.60        2\n",
       "4335     18281.0    181.0        1.0     80.82        2\n",
       "4336     18282.0      8.0        2.0    178.05        0\n",
       "4337     18283.0      4.0       16.0   2045.53        0\n",
       "4338     18287.0     43.0        3.0   1837.28        0\n",
       "\n",
       "[4339 rows x 5 columns]"
      ]
     },
     "execution_count": 210,
     "metadata": {},
     "output_type": "execute_result"
    }
   ],
   "source": [
    "rfm_summary = pd.DataFrame(rfm)\n",
    "rfm_summary"
   ]
  },
  {
   "cell_type": "code",
   "execution_count": null,
   "id": "4e386e6e",
   "metadata": {},
   "outputs": [
    {
     "data": {
      "text/html": [
       "<div>\n",
       "<style scoped>\n",
       "    .dataframe tbody tr th:only-of-type {\n",
       "        vertical-align: middle;\n",
       "    }\n",
       "\n",
       "    .dataframe tbody tr th {\n",
       "        vertical-align: top;\n",
       "    }\n",
       "\n",
       "    .dataframe thead th {\n",
       "        text-align: right;\n",
       "    }\n",
       "</style>\n",
       "<table border=\"1\" class=\"dataframe\">\n",
       "  <thead>\n",
       "    <tr style=\"text-align: right;\">\n",
       "      <th></th>\n",
       "      <th>CustomerID</th>\n",
       "      <th>Recency</th>\n",
       "      <th>Frequency</th>\n",
       "      <th>Monetary</th>\n",
       "      <th>Cluster</th>\n",
       "      <th>Color</th>\n",
       "    </tr>\n",
       "  </thead>\n",
       "  <tbody>\n",
       "    <tr>\n",
       "      <th>0</th>\n",
       "      <td>12346.0</td>\n",
       "      <td>326.0</td>\n",
       "      <td>1.0</td>\n",
       "      <td>77183.60</td>\n",
       "      <td>0</td>\n",
       "      <td>orange</td>\n",
       "    </tr>\n",
       "    <tr>\n",
       "      <th>1</th>\n",
       "      <td>12347.0</td>\n",
       "      <td>2.0</td>\n",
       "      <td>7.0</td>\n",
       "      <td>4310.00</td>\n",
       "      <td>0</td>\n",
       "      <td>orange</td>\n",
       "    </tr>\n",
       "    <tr>\n",
       "      <th>2</th>\n",
       "      <td>12348.0</td>\n",
       "      <td>75.0</td>\n",
       "      <td>4.0</td>\n",
       "      <td>1797.24</td>\n",
       "      <td>0</td>\n",
       "      <td>orange</td>\n",
       "    </tr>\n",
       "    <tr>\n",
       "      <th>3</th>\n",
       "      <td>12349.0</td>\n",
       "      <td>19.0</td>\n",
       "      <td>1.0</td>\n",
       "      <td>1757.55</td>\n",
       "      <td>0</td>\n",
       "      <td>orange</td>\n",
       "    </tr>\n",
       "    <tr>\n",
       "      <th>4</th>\n",
       "      <td>12350.0</td>\n",
       "      <td>310.0</td>\n",
       "      <td>1.0</td>\n",
       "      <td>334.40</td>\n",
       "      <td>2</td>\n",
       "      <td>red</td>\n",
       "    </tr>\n",
       "    <tr>\n",
       "      <th>...</th>\n",
       "      <td>...</td>\n",
       "      <td>...</td>\n",
       "      <td>...</td>\n",
       "      <td>...</td>\n",
       "      <td>...</td>\n",
       "      <td>...</td>\n",
       "    </tr>\n",
       "    <tr>\n",
       "      <th>4334</th>\n",
       "      <td>18280.0</td>\n",
       "      <td>278.0</td>\n",
       "      <td>1.0</td>\n",
       "      <td>180.60</td>\n",
       "      <td>2</td>\n",
       "      <td>red</td>\n",
       "    </tr>\n",
       "    <tr>\n",
       "      <th>4335</th>\n",
       "      <td>18281.0</td>\n",
       "      <td>181.0</td>\n",
       "      <td>1.0</td>\n",
       "      <td>80.82</td>\n",
       "      <td>2</td>\n",
       "      <td>red</td>\n",
       "    </tr>\n",
       "    <tr>\n",
       "      <th>4336</th>\n",
       "      <td>18282.0</td>\n",
       "      <td>8.0</td>\n",
       "      <td>2.0</td>\n",
       "      <td>178.05</td>\n",
       "      <td>0</td>\n",
       "      <td>orange</td>\n",
       "    </tr>\n",
       "    <tr>\n",
       "      <th>4337</th>\n",
       "      <td>18283.0</td>\n",
       "      <td>4.0</td>\n",
       "      <td>16.0</td>\n",
       "      <td>2045.53</td>\n",
       "      <td>0</td>\n",
       "      <td>orange</td>\n",
       "    </tr>\n",
       "    <tr>\n",
       "      <th>4338</th>\n",
       "      <td>18287.0</td>\n",
       "      <td>43.0</td>\n",
       "      <td>3.0</td>\n",
       "      <td>1837.28</td>\n",
       "      <td>0</td>\n",
       "      <td>orange</td>\n",
       "    </tr>\n",
       "  </tbody>\n",
       "</table>\n",
       "<p>4339 rows × 6 columns</p>\n",
       "</div>"
      ],
      "text/plain": [
       "      CustomerID  Recency  Frequency  Monetary  Cluster   Color\n",
       "0        12346.0    326.0        1.0  77183.60        0  orange\n",
       "1        12347.0      2.0        7.0   4310.00        0  orange\n",
       "2        12348.0     75.0        4.0   1797.24        0  orange\n",
       "3        12349.0     19.0        1.0   1757.55        0  orange\n",
       "4        12350.0    310.0        1.0    334.40        2     red\n",
       "...          ...      ...        ...       ...      ...     ...\n",
       "4334     18280.0    278.0        1.0    180.60        2     red\n",
       "4335     18281.0    181.0        1.0     80.82        2     red\n",
       "4336     18282.0      8.0        2.0    178.05        0  orange\n",
       "4337     18283.0      4.0       16.0   2045.53        0  orange\n",
       "4338     18287.0     43.0        3.0   1837.28        0  orange\n",
       "\n",
       "[4339 rows x 6 columns]"
      ]
     },
     "execution_count": 212,
     "metadata": {},
     "output_type": "execute_result"
    }
   ],
   "source": [
    "colors = {0: 'orange', 1: 'green', 2: 'red'}\n",
    "rfm_summary['Color'] = rfm_summary['Cluster'].map(colors)\n",
    "rfm_summary"
   ]
  },
  {
   "cell_type": "code",
   "execution_count": null,
   "id": "bcf85784",
   "metadata": {},
   "outputs": [
    {
     "data": {
      "image/png": "[encoded data removed]",
      "text/plain": [
       "<Figure size 800x600 with 1 Axes>"
      ]
     },
     "metadata": {},
     "output_type": "display_data"
    }
   ],
   "source": [
    "plt.figure(figsize=(8,6))\n",
    "for _, row in rfm_summary.iterrows():\n",
    "    plt.scatter(row['Recency'], row['Frequency'], \n",
    "                color=row['Color'], s=row['Monetary']/500,  # bubble size scaled by money\n",
    "                label=f\"Cluster {int(row['Cluster'])}\")\n",
    "\n",
    "plt.xlabel('Recency (days)')\n",
    "plt.ylabel('Frequency')\n",
    "plt.title('Customer Segmentation: RFM Clusters')\n",
    "#plt.legend(title='Clusters')\n",
    "plt.grid(True)\n",
    "plt.show()\n"
   ]
  },
  {
   "cell_type": "code",
   "execution_count": null,
   "id": "d186770a",
   "metadata": {},
   "outputs": [
    {
     "data": {
      "application/vnd.plotly.v1+json": {
       "config": {
        "plotlyServerURL": "https://plot.ly"
       },
       "data": [
        {
         "customdata": {
          "bdata": "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",
          "dtype": "f8",
          "shape": "3276, 1"
         },
         "hovertemplate": "Segment=Potential Loyalists<br>Recency=%{x}<br>Frequency=%{y}<br>Monetary=%{customdata[0]}<extra></extra>",
         "legendgroup": "Potential Loyalists",
         "marker": {
          "color": "#ab63fa",
          "size": {
           "bdata": "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",
           "dtype": "f8"
          },
          "sizemode": "area",
          "sizeref": 700.5150500000001,
          "symbol": "circle"
         },
         "mode": "markers",
         "name": "Potential Loyalists",
         "showlegend": true,
         "textposition": "top center",
         "type": "scattergl",
         "x": {
          "bdata": "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",
          "dtype": "f8"
         },
         "xaxis": "x",
         "y": {
          "bdata": "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",
          "dtype": "f8"
         },
         "yaxis": "y"
        },
        {
         "customdata": {
          "bdata": "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",
          "dtype": "f8",
          "shape": "1048, 1"
         },
         "hovertemplate": "Segment=At Risk / Lost Customers<br>Recency=%{x}<br>Frequency=%{y}<br>Monetary=%{customdata[0]}<extra></extra>",
         "legendgroup": "At Risk / Lost Customers",
         "marker": {
          "color": "#FFA15A",
          "size": {
           "bdata": "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",
           "dtype": "f8"
          },
          "sizemode": "area",
          "sizeref": 700.5150500000001,
          "symbol": "circle"
         },
         "mode": "markers",
         "name": "At Risk / Lost Customers",
         "showlegend": true,
         "textposition": "top center",
         "type": "scattergl",
         "x": {
          "bdata": "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",
          "dtype": "f8"
         },
         "xaxis": "x",
         "y": {
          "bdata": "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",
          "dtype": "f8"
         },
         "yaxis": "y"
        },
        {
         "customdata": {
          "bdata": "rkfheih//kBI4XoUpiPgQK5H4Xr02sVA9ihcj0Kx7EB7FK5HoZ38QDMzMzMTlsdASOF6FDgaEUHD9Shc+YoBQQAAAAAYm+1ACtejcC2980AAAAAAxJAEQR+F61G2ugdBSOF6FGY79kAUrkfh+sjjQGZmZmZKsg9B",
          "dtype": "f8",
          "shape": "15, 1"
         },
         "hovertemplate": "Segment=Champions<br>Recency=%{x}<br>Frequency=%{y}<br>Monetary=%{customdata[0]}<extra></extra>",
         "legendgroup": "Champions",
         "marker": {
          "color": "#19d3f3",
          "size": {
           "bdata": "rkfheih//kBI4XoUpiPgQK5H4Xr02sVA9ihcj0Kx7EB7FK5HoZ38QDMzMzMTlsdASOF6FDgaEUHD9Shc+YoBQQAAAAAYm+1ACtejcC2980AAAAAAxJAEQR+F61G2ugdBSOF6FGY79kAUrkfh+sjjQGZmZmZKsg9B",
           "dtype": "f8"
          },
          "sizemode": "area",
          "sizeref": 700.5150500000001,
          "symbol": "circle"
         },
         "mode": "markers",
         "name": "Champions",
         "showlegend": true,
         "textposition": "top center",
         "type": "scattergl",
         "x": {
          "bdata": "AAAAAAAAOEAAAAAAAADwPwAAAAAAABBAAAAAAAAACEAAAAAAAAAkQAAAAAAAAPA/AAAAAAAAAEAAAAAAAADwPwAAAAAAAPA/AQAAAACAQ0AAAAAAAADwPwAAAAAAACBAAAAAAAAACEAAAAAAAAAAQAAAAAAAAPA/",
          "dtype": "f8"
         },
         "xaxis": "x",
         "y": {
          "bdata": "AAAAAAAANUAAAAAAAEBqQAAAAAAAgFVAAAAAAABAWEAAAAAAAIBLQAAAAAAAQFdAAAAAAACAUkAAAAAAACBpQAAAAAAAwFZAAAAAAACAT0AAAAAAAAAAQAAAAAAAAEdAAAAAAAAAP0AAAAAAAABfQAAAAAAAAE5A",
          "dtype": "f8"
         },
         "yaxis": "y"
        }
       ],
       "layout": {
        "legend": {
         "itemsizing": "constant",
         "title": {
          "text": "Customer Segments"
         },
         "tracegroupgap": 0
        },
        "template": {
         "data": {
          "bar": [
           {
            "error_x": {
             "color": "#2a3f5f"
            },
            "error_y": {
             "color": "#2a3f5f"
            },
            "marker": {
             "line": {
              "color": "white",
              "width": 0.5
             },
             "pattern": {
              "fillmode": "overlay",
              "size": 10,
              "solidity": 0.2
             }
            },
            "type": "bar"
           }
          ],
          "barpolar": [
           {
            "marker": {
             "line": {
              "color": "white",
              "width": 0.5
             },
             "pattern": {
              "fillmode": "overlay",
              "size": 10,
              "solidity": 0.2
             }
            },
            "type": "barpolar"
           }
          ],
          "carpet": [
           {
            "aaxis": {
             "endlinecolor": "#2a3f5f",
             "gridcolor": "#C8D4E3",
             "linecolor": "#C8D4E3",
             "minorgridcolor": "#C8D4E3",
             "startlinecolor": "#2a3f5f"
            },
            "baxis": {
             "endlinecolor": "#2a3f5f",
             "gridcolor": "#C8D4E3",
             "linecolor": "#C8D4E3",
             "minorgridcolor": "#C8D4E3",
             "startlinecolor": "#2a3f5f"
            },
            "type": "carpet"
           }
          ],
          "choropleth": [
           {
            "colorbar": {
             "outlinewidth": 0,
             "ticks": ""
            },
            "type": "choropleth"
           }
          ],
          "contour": [
           {
            "colorbar": {
             "outlinewidth": 0,
             "ticks": ""
            },
            "colorscale": [
             [
              0,
              "#0d0887"
             ],
             [
              0.1111111111111111,
              "#46039f"
             ],
             [
              0.2222222222222222,
              "#7201a8"
             ],
             [
              0.3333333333333333,
              "#9c179e"
             ],
             [
              0.4444444444444444,
              "#bd3786"
             ],
             [
              0.5555555555555556,
              "#d8576b"
             ],
             [
              0.6666666666666666,
              "#ed7953"
             ],
             [
              0.7777777777777778,
              "#fb9f3a"
             ],
             [
              0.8888888888888888,
              "#fdca26"
             ],
             [
              1,
              "#f0f921"
             ]
            ],
            "type": "contour"
           }
          ],
          "contourcarpet": [
           {
            "colorbar": {
             "outlinewidth": 0,
             "ticks": ""
            },
            "type": "contourcarpet"
           }
          ],
          "heatmap": [
           {
            "colorbar": {
             "outlinewidth": 0,
             "ticks": ""
            },
            "colorscale": [
             [
              0,
              "#0d0887"
             ],
             [
              0.1111111111111111,
              "#46039f"
             ],
             [
              0.2222222222222222,
              "#7201a8"
             ],
             [
              0.3333333333333333,
              "#9c179e"
             ],
             [
              0.4444444444444444,
              "#bd3786"
             ],
             [
              0.5555555555555556,
              "#d8576b"
             ],
             [
              0.6666666666666666,
              "#ed7953"
             ],
             [
              0.7777777777777778,
              "#fb9f3a"
             ],
             [
              0.8888888888888888,
              "#fdca26"
             ],
             [
              1,
              "#f0f921"
             ]
            ],
            "type": "heatmap"
           }
          ],
          "histogram": [
           {
            "marker": {
             "pattern": {
              "fillmode": "overlay",
              "size": 10,
              "solidity": 0.2
             }
            },
            "type": "histogram"
           }
          ],
          "histogram2d": [
           {
            "colorbar": {
             "outlinewidth": 0,
             "ticks": ""
            },
            "colorscale": [
             [
              0,
              "#0d0887"
             ],
             [
              0.1111111111111111,
              "#46039f"
             ],
             [
              0.2222222222222222,
              "#7201a8"
             ],
             [
              0.3333333333333333,
              "#9c179e"
             ],
             [
              0.4444444444444444,
              "#bd3786"
             ],
             [
              0.5555555555555556,
              "#d8576b"
             ],
             [
              0.6666666666666666,
              "#ed7953"
             ],
             [
              0.7777777777777778,
              "#fb9f3a"
             ],
             [
              0.8888888888888888,
              "#fdca26"
             ],
             [
              1,
              "#f0f921"
             ]
            ],
            "type": "histogram2d"
           }
          ],
          "histogram2dcontour": [
           {
            "colorbar": {
             "outlinewidth": 0,
             "ticks": ""
            },
            "colorscale": [
             [
              0,
              "#0d0887"
             ],
             [
              0.1111111111111111,
              "#46039f"
             ],
             [
              0.2222222222222222,
              "#7201a8"
             ],
             [
              0.3333333333333333,
              "#9c179e"
             ],
             [
              0.4444444444444444,
              "#bd3786"
             ],
             [
              0.5555555555555556,
              "#d8576b"
             ],
             [
              0.6666666666666666,
              "#ed7953"
             ],
             [
              0.7777777777777778,
              "#fb9f3a"
             ],
             [
              0.8888888888888888,
              "#fdca26"
             ],
             [
              1,
              "#f0f921"
             ]
            ],
            "type": "histogram2dcontour"
           }
          ],
          "mesh3d": [
           {
            "colorbar": {
             "outlinewidth": 0,
             "ticks": ""
            },
            "type": "mesh3d"
           }
          ],
          "parcoords": [
           {
            "line": {
             "colorbar": {
              "outlinewidth": 0,
              "ticks": ""
             }
            },
            "type": "parcoords"
           }
          ],
          "pie": [
           {
            "automargin": true,
            "type": "pie"
           }
          ],
          "scatter": [
           {
            "fillpattern": {
             "fillmode": "overlay",
             "size": 10,
             "solidity": 0.2
            },
            "type": "scatter"
           }
          ],
          "scatter3d": [
           {
            "line": {
             "colorbar": {
              "outlinewidth": 0,
              "ticks": ""
             }
            },
            "marker": {
             "colorbar": {
              "outlinewidth": 0,
              "ticks": ""
             }
            },
            "type": "scatter3d"
           }
          ],
          "scattercarpet": [
           {
            "marker": {
             "colorbar": {
              "outlinewidth": 0,
              "ticks": ""
             }
            },
            "type": "scattercarpet"
           }
          ],
          "scattergeo": [
           {
            "marker": {
             "colorbar": {
              "outlinewidth": 0,
              "ticks": ""
             }
            },
            "type": "scattergeo"
           }
          ],
          "scattergl": [
           {
            "marker": {
             "colorbar": {
              "outlinewidth": 0,
              "ticks": ""
             }
            },
            "type": "scattergl"
           }
          ],
          "scattermap": [
           {
            "marker": {
             "colorbar": {
              "outlinewidth": 0,
              "ticks": ""
             }
            },
            "type": "scattermap"
           }
          ],
          "scattermapbox": [
           {
            "marker": {
             "colorbar": {
              "outlinewidth": 0,
              "ticks": ""
             }
            },
            "type": "scattermapbox"
           }
          ],
          "scatterpolar": [
           {
            "marker": {
             "colorbar": {
              "outlinewidth": 0,
              "ticks": ""
             }
            },
            "type": "scatterpolar"
           }
          ],
          "scatterpolargl": [
           {
            "marker": {
             "colorbar": {
              "outlinewidth": 0,
              "ticks": ""
             }
            },
            "type": "scatterpolargl"
           }
          ],
          "scatterternary": [
           {
            "marker": {
             "colorbar": {
              "outlinewidth": 0,
              "ticks": ""
             }
            },
            "type": "scatterternary"
           }
          ],
          "surface": [
           {
            "colorbar": {
             "outlinewidth": 0,
             "ticks": ""
            },
            "colorscale": [
             [
              0,
              "#0d0887"
             ],
             [
              0.1111111111111111,
              "#46039f"
             ],
             [
              0.2222222222222222,
              "#7201a8"
             ],
             [
              0.3333333333333333,
              "#9c179e"
             ],
             [
              0.4444444444444444,
              "#bd3786"
             ],
             [
              0.5555555555555556,
              "#d8576b"
             ],
             [
              0.6666666666666666,
              "#ed7953"
             ],
             [
              0.7777777777777778,
              "#fb9f3a"
             ],
             [
              0.8888888888888888,
              "#fdca26"
             ],
             [
              1,
              "#f0f921"
             ]
            ],
            "type": "surface"
           }
          ],
          "table": [
           {
            "cells": {
             "fill": {
              "color": "#EBF0F8"
             },
             "line": {
              "color": "white"
             }
            },
            "header": {
             "fill": {
              "color": "#C8D4E3"
             },
             "line": {
              "color": "white"
             }
            },
            "type": "table"
           }
          ]
         },
         "layout": {
          "annotationdefaults": {
           "arrowcolor": "#2a3f5f",
           "arrowhead": 0,
           "arrowwidth": 1
          },
          "autotypenumbers": "strict",
          "coloraxis": {
           "colorbar": {
            "outlinewidth": 0,
            "ticks": ""
           }
          },
          "colorscale": {
           "diverging": [
            [
             0,
             "#8e0152"
            ],
            [
             0.1,
             "#c51b7d"
            ],
            [
             0.2,
             "#de77ae"
            ],
            [
             0.3,
             "#f1b6da"
            ],
            [
             0.4,
             "#fde0ef"
            ],
            [
             0.5,
             "#f7f7f7"
            ],
            [
             0.6,
             "#e6f5d0"
            ],
            [
             0.7,
             "#b8e186"
            ],
            [
             0.8,
             "#7fbc41"
            ],
            [
             0.9,
             "#4d9221"
            ],
            [
             1,
             "#276419"
            ]
           ],
           "sequential": [
            [
             0,
             "#0d0887"
            ],
            [
             0.1111111111111111,
             "#46039f"
            ],
            [
             0.2222222222222222,
             "#7201a8"
            ],
            [
             0.3333333333333333,
             "#9c179e"
            ],
            [
             0.4444444444444444,
             "#bd3786"
            ],
            [
             0.5555555555555556,
             "#d8576b"
            ],
            [
             0.6666666666666666,
             "#ed7953"
            ],
            [
             0.7777777777777778,
             "#fb9f3a"
            ],
            [
             0.8888888888888888,
             "#fdca26"
            ],
            [
             1,
             "#f0f921"
            ]
           ],
           "sequentialminus": [
            [
             0,
             "#0d0887"
            ],
            [
             0.1111111111111111,
             "#46039f"
            ],
            [
             0.2222222222222222,
             "#7201a8"
            ],
            [
             0.3333333333333333,
             "#9c179e"
            ],
            [
             0.4444444444444444,
             "#bd3786"
            ],
            [
             0.5555555555555556,
             "#d8576b"
            ],
            [
             0.6666666666666666,
             "#ed7953"
            ],
            [
             0.7777777777777778,
             "#fb9f3a"
            ],
            [
             0.8888888888888888,
             "#fdca26"
            ],
            [
             1,
             "#f0f921"
            ]
           ]
          },
          "colorway": [
           "#636efa",
           "#EF553B",
           "#00cc96",
           "#ab63fa",
           "#FFA15A",
           "#19d3f3",
           "#FF6692",
           "#B6E880",
           "#FF97FF",
           "#FECB52"
          ],
          "font": {
           "color": "#2a3f5f"
          },
          "geo": {
           "bgcolor": "white",
           "lakecolor": "white",
           "landcolor": "white",
           "showlakes": true,
           "showland": true,
           "subunitcolor": "#C8D4E3"
          },
          "hoverlabel": {
           "align": "left"
          },
          "hovermode": "closest",
          "mapbox": {
           "style": "light"
          },
          "paper_bgcolor": "white",
          "plot_bgcolor": "white",
          "polar": {
           "angularaxis": {
            "gridcolor": "#EBF0F8",
            "linecolor": "#EBF0F8",
            "ticks": ""
           },
           "bgcolor": "white",
           "radialaxis": {
            "gridcolor": "#EBF0F8",
            "linecolor": "#EBF0F8",
            "ticks": ""
           }
          },
          "scene": {
           "xaxis": {
            "backgroundcolor": "white",
            "gridcolor": "#DFE8F3",
            "gridwidth": 2,
            "linecolor": "#EBF0F8",
            "showbackground": true,
            "ticks": "",
            "zerolinecolor": "#EBF0F8"
           },
           "yaxis": {
            "backgroundcolor": "white",
            "gridcolor": "#DFE8F3",
            "gridwidth": 2,
            "linecolor": "#EBF0F8",
            "showbackground": true,
            "ticks": "",
            "zerolinecolor": "#EBF0F8"
           },
           "zaxis": {
            "backgroundcolor": "white",
            "gridcolor": "#DFE8F3",
            "gridwidth": 2,
            "linecolor": "#EBF0F8",
            "showbackground": true,
            "ticks": "",
            "zerolinecolor": "#EBF0F8"
           }
          },
          "shapedefaults": {
           "line": {
            "color": "#2a3f5f"
           }
          },
          "ternary": {
           "aaxis": {
            "gridcolor": "#DFE8F3",
            "linecolor": "#A2B1C6",
            "ticks": ""
           },
           "baxis": {
            "gridcolor": "#DFE8F3",
            "linecolor": "#A2B1C6",
            "ticks": ""
           },
           "bgcolor": "white",
           "caxis": {
            "gridcolor": "#DFE8F3",
            "linecolor": "#A2B1C6",
            "ticks": ""
           }
          },
          "title": {
           "x": 0.05
          },
          "xaxis": {
           "automargin": true,
           "gridcolor": "#EBF0F8",
           "linecolor": "#EBF0F8",
           "ticks": "",
           "title": {
            "standoff": 15
           },
           "zerolinecolor": "#EBF0F8",
           "zerolinewidth": 2
          },
          "yaxis": {
           "automargin": true,
           "gridcolor": "#EBF0F8",
           "linecolor": "#EBF0F8",
           "ticks": "",
           "title": {
            "standoff": 15
           },
           "zerolinecolor": "#EBF0F8",
           "zerolinewidth": 2
          }
         }
        },
        "title": {
         "font": {
          "size": 18
         },
         "text": "Interactive RFM Customer Segmentation"
        },
        "xaxis": {
         "anchor": "y",
         "domain": [
          0,
          1
         ],
         "title": {
          "text": "Recency (days since last purchase)"
         }
        },
        "yaxis": {
         "anchor": "x",
         "domain": [
          0,
          1
         ],
         "title": {
          "text": "Frequency (number of purchases)"
         }
        }
       }
      }
     },
     "metadata": {},
     "output_type": "display_data"
    }
   ],
   "source": [
    "import plotly.express as px\n",
    "import pandas as pd\n",
    "\n",
    "colors = {\n",
    "    0: 'orange',\n",
    "    1: 'green',\n",
    "    2: 'red'\n",
    "}\n",
    "rfm_summary['Color'] = rfm_summary['Cluster'].map(colors)\n",
    "\n",
    "# --- Plotly interactive scatter plot ---\n",
    "fig = px.scatter(\n",
    "    rfm_summary,\n",
    "    x='Recency',\n",
    "    y='Frequency',\n",
    "    size='Monetary',\n",
    "    color='Segment',\n",
    "    color_discrete_map=colors,\n",
    "    hover_data=['Monetary', 'Recency', 'Frequency'],\n",
    "    title='Interactive RFM Customer Segmentation',\n",
    ")\n",
    "\n",
    "# --- Styling tweaks ---\n",
    "fig.update_traces(textposition='top center')\n",
    "fig.update_layout(\n",
    "    xaxis_title='Recency (days since last purchase)',\n",
    "    yaxis_title='Frequency (number of purchases)',\n",
    "    title_font=dict(size=18),\n",
    "    legend_title='Customer Segments',\n",
    "    template='plotly_white'\n",
    ")\n",
    "\n",
    "fig.show()\n"
   ]
  },
  {
   "cell_type": "markdown",
   "id": "fe07e2b6",
   "metadata": {},
   "source": [
    "### **7. Profiling and labeling clusters**"
   ]
  },
  {
   "cell_type": "code",
   "execution_count": null,
   "id": "4758e032",
   "metadata": {},
   "outputs": [],
   "source": [
    "cluster_labels = {\n",
    "    0: \"Regular Buyers\",\n",
    "    1: \"Champions / Loyal VIPs\",\n",
    "    2: \"Lost / Inactive Customers\"\n",
    "}\n",
    "\n",
    "rfm['Customer_Segment'] = rfm['Cluster'].map(cluster_labels)\n"
   ]
  },
  {
   "cell_type": "code",
   "execution_count": null,
   "id": "5099ff8e",
   "metadata": {},
   "outputs": [
    {
     "data": {
      "text/html": [
       "<div>\n",
       "<style scoped>\n",
       "    .dataframe tbody tr th:only-of-type {\n",
       "        vertical-align: middle;\n",
       "    }\n",
       "\n",
       "    .dataframe tbody tr th {\n",
       "        vertical-align: top;\n",
       "    }\n",
       "\n",
       "    .dataframe thead th {\n",
       "        text-align: right;\n",
       "    }\n",
       "</style>\n",
       "<table border=\"1\" class=\"dataframe\">\n",
       "  <thead>\n",
       "    <tr style=\"text-align: right;\">\n",
       "      <th></th>\n",
       "      <th>CustomerID</th>\n",
       "      <th>Recency</th>\n",
       "      <th>Frequency</th>\n",
       "      <th>Monetary</th>\n",
       "      <th>Cluster</th>\n",
       "      <th>Customer_Segment</th>\n",
       "    </tr>\n",
       "  </thead>\n",
       "  <tbody>\n",
       "    <tr>\n",
       "      <th>0</th>\n",
       "      <td>12346.0</td>\n",
       "      <td>326.0</td>\n",
       "      <td>1.0</td>\n",
       "      <td>77183.60</td>\n",
       "      <td>0</td>\n",
       "      <td>Regular Buyers</td>\n",
       "    </tr>\n",
       "    <tr>\n",
       "      <th>1</th>\n",
       "      <td>12347.0</td>\n",
       "      <td>2.0</td>\n",
       "      <td>7.0</td>\n",
       "      <td>4310.00</td>\n",
       "      <td>0</td>\n",
       "      <td>Regular Buyers</td>\n",
       "    </tr>\n",
       "    <tr>\n",
       "      <th>2</th>\n",
       "      <td>12348.0</td>\n",
       "      <td>75.0</td>\n",
       "      <td>4.0</td>\n",
       "      <td>1797.24</td>\n",
       "      <td>0</td>\n",
       "      <td>Regular Buyers</td>\n",
       "    </tr>\n",
       "    <tr>\n",
       "      <th>3</th>\n",
       "      <td>12349.0</td>\n",
       "      <td>19.0</td>\n",
       "      <td>1.0</td>\n",
       "      <td>1757.55</td>\n",
       "      <td>0</td>\n",
       "      <td>Regular Buyers</td>\n",
       "    </tr>\n",
       "    <tr>\n",
       "      <th>4</th>\n",
       "      <td>12350.0</td>\n",
       "      <td>310.0</td>\n",
       "      <td>1.0</td>\n",
       "      <td>334.40</td>\n",
       "      <td>2</td>\n",
       "      <td>Lost / Inactive Customers</td>\n",
       "    </tr>\n",
       "  </tbody>\n",
       "</table>\n",
       "</div>"
      ],
      "text/plain": [
       "   CustomerID  Recency  Frequency  Monetary  Cluster  \\\n",
       "0     12346.0    326.0        1.0  77183.60        0   \n",
       "1     12347.0      2.0        7.0   4310.00        0   \n",
       "2     12348.0     75.0        4.0   1797.24        0   \n",
       "3     12349.0     19.0        1.0   1757.55        0   \n",
       "4     12350.0    310.0        1.0    334.40        2   \n",
       "\n",
       "            Customer_Segment  \n",
       "0             Regular Buyers  \n",
       "1             Regular Buyers  \n",
       "2             Regular Buyers  \n",
       "3             Regular Buyers  \n",
       "4  Lost / Inactive Customers  "
      ]
     },
     "execution_count": 222,
     "metadata": {},
     "output_type": "execute_result"
    }
   ],
   "source": [
    "rfm.head()"
   ]
  },
  {
   "cell_type": "markdown",
   "id": "41028ed1",
   "metadata": {},
   "source": [
    "Quantify Business Impact"
   ]
  },
  {
   "cell_type": "markdown",
   "id": "a6c23571",
   "metadata": {},
   "source": [
    "We’ll calculate:\n",
    "- Each segment’s share of customers, and\n",
    "- Each segment’s share of total revenue."
   ]
  },
  {
   "cell_type": "code",
   "execution_count": null,
   "id": "1332bb95",
   "metadata": {},
   "outputs": [
    {
     "data": {
      "text/html": [
       "<div>\n",
       "<style scoped>\n",
       "    .dataframe tbody tr th:only-of-type {\n",
       "        vertical-align: middle;\n",
       "    }\n",
       "\n",
       "    .dataframe tbody tr th {\n",
       "        vertical-align: top;\n",
       "    }\n",
       "\n",
       "    .dataframe thead th {\n",
       "        text-align: right;\n",
       "    }\n",
       "</style>\n",
       "<table border=\"1\" class=\"dataframe\">\n",
       "  <thead>\n",
       "    <tr style=\"text-align: right;\">\n",
       "      <th></th>\n",
       "      <th>Customer_Segment</th>\n",
       "      <th>Customer_Share</th>\n",
       "    </tr>\n",
       "  </thead>\n",
       "  <tbody>\n",
       "    <tr>\n",
       "      <th>0</th>\n",
       "      <td>Regular Buyers</td>\n",
       "      <td>0.755013</td>\n",
       "    </tr>\n",
       "    <tr>\n",
       "      <th>1</th>\n",
       "      <td>Lost / Inactive Customers</td>\n",
       "      <td>0.241530</td>\n",
       "    </tr>\n",
       "    <tr>\n",
       "      <th>2</th>\n",
       "      <td>Champions / Loyal VIPs</td>\n",
       "      <td>0.003457</td>\n",
       "    </tr>\n",
       "  </tbody>\n",
       "</table>\n",
       "</div>"
      ],
      "text/plain": [
       "            Customer_Segment  Customer_Share\n",
       "0             Regular Buyers        0.755013\n",
       "1  Lost / Inactive Customers        0.241530\n",
       "2     Champions / Loyal VIPs        0.003457"
      ]
     },
     "execution_count": 230,
     "metadata": {},
     "output_type": "execute_result"
    }
   ],
   "source": [
    "# 1. Proportion of customers in each cluster\n",
    "customer_share = (\n",
    "    rfm['Customer_Segment']\n",
    "    .value_counts(normalize=True)\n",
    "    .rename_axis('Customer_Segment')\n",
    "    .reset_index(name='Customer_Share')\n",
    ")\n",
    "\n",
    "customer_share"
   ]
  },
  {
   "cell_type": "markdown",
   "id": "1d8acaf4",
   "metadata": {},
   "source": [
    "| **Customer Segment**          | **Customer Share (%)** | **Insight**                                                                                                                                                                              |\n",
    "| ----------------------------- | ---------------------- | ---------------------------------------------------------------------------------------------------------------------------------------------------------------------------------------- |\n",
    "| **Regular Buyers**            | **75.5%**              | The majority of your customer base. They buy occasionally and sustain steady sales volume. Focus on increasing purchase frequency through product recommendations or loyalty incentives. |\n",
    "| **Lost / Inactive Customers** | **24.2%**              | A sizable portion that has disengaged. These are potential targets for reactivation or re-engagement campaigns.                                                                          |\n",
    "| **Champions / Loyal VIPs**    | **0.3%**               | A very small but highly loyal group. Though few in number, they’re critical for long-term value — keep them satisfied with personalized experiences and early access to offers.          |\n"
   ]
  },
  {
   "cell_type": "code",
   "execution_count": null,
   "id": "a6083406",
   "metadata": {},
   "outputs": [
    {
     "data": {
      "text/html": [
       "<div>\n",
       "<style scoped>\n",
       "    .dataframe tbody tr th:only-of-type {\n",
       "        vertical-align: middle;\n",
       "    }\n",
       "\n",
       "    .dataframe tbody tr th {\n",
       "        vertical-align: top;\n",
       "    }\n",
       "\n",
       "    .dataframe thead th {\n",
       "        text-align: right;\n",
       "    }\n",
       "</style>\n",
       "<table border=\"1\" class=\"dataframe\">\n",
       "  <thead>\n",
       "    <tr style=\"text-align: right;\">\n",
       "      <th></th>\n",
       "      <th>Customer_Segment</th>\n",
       "      <th>Total_Revenue</th>\n",
       "    </tr>\n",
       "  </thead>\n",
       "  <tbody>\n",
       "    <tr>\n",
       "      <th>0</th>\n",
       "      <td>Champions / Loyal VIPs</td>\n",
       "      <td>1676709.530</td>\n",
       "    </tr>\n",
       "    <tr>\n",
       "      <th>1</th>\n",
       "      <td>Lost / Inactive Customers</td>\n",
       "      <td>481288.201</td>\n",
       "    </tr>\n",
       "    <tr>\n",
       "      <th>2</th>\n",
       "      <td>Regular Buyers</td>\n",
       "      <td>6729211.163</td>\n",
       "    </tr>\n",
       "  </tbody>\n",
       "</table>\n",
       "</div>"
      ],
      "text/plain": [
       "            Customer_Segment  Total_Revenue\n",
       "0     Champions / Loyal VIPs    1676709.530\n",
       "1  Lost / Inactive Customers     481288.201\n",
       "2             Regular Buyers    6729211.163"
      ]
     },
     "execution_count": 231,
     "metadata": {},
     "output_type": "execute_result"
    }
   ],
   "source": [
    "# 2. Share of total revenue (Monetary)\n",
    "revenue_share = (\n",
    "    rfm.groupby('Customer_Segment')['Monetary']\n",
    "    .sum()\n",
    "    .reset_index(name='Total_Revenue')\n",
    ")\n",
    "revenue_share"
   ]
  },
  {
   "cell_type": "code",
   "execution_count": null,
   "id": "0f99068d",
   "metadata": {},
   "outputs": [
    {
     "data": {
      "text/html": [
       "<div>\n",
       "<style scoped>\n",
       "    .dataframe tbody tr th:only-of-type {\n",
       "        vertical-align: middle;\n",
       "    }\n",
       "\n",
       "    .dataframe tbody tr th {\n",
       "        vertical-align: top;\n",
       "    }\n",
       "\n",
       "    .dataframe thead th {\n",
       "        text-align: right;\n",
       "    }\n",
       "</style>\n",
       "<table border=\"1\" class=\"dataframe\">\n",
       "  <thead>\n",
       "    <tr style=\"text-align: right;\">\n",
       "      <th></th>\n",
       "      <th>Customer_Segment</th>\n",
       "      <th>Customer_Share</th>\n",
       "      <th>Total_Revenue</th>\n",
       "      <th>Revenue_Share (%)</th>\n",
       "    </tr>\n",
       "  </thead>\n",
       "  <tbody>\n",
       "    <tr>\n",
       "      <th>0</th>\n",
       "      <td>Regular Buyers</td>\n",
       "      <td>0.755013</td>\n",
       "      <td>6729211.163</td>\n",
       "      <td>75.717936</td>\n",
       "    </tr>\n",
       "    <tr>\n",
       "      <th>1</th>\n",
       "      <td>Lost / Inactive Customers</td>\n",
       "      <td>0.241530</td>\n",
       "      <td>481288.201</td>\n",
       "      <td>5.415516</td>\n",
       "    </tr>\n",
       "    <tr>\n",
       "      <th>2</th>\n",
       "      <td>Champions / Loyal VIPs</td>\n",
       "      <td>0.003457</td>\n",
       "      <td>1676709.530</td>\n",
       "      <td>18.866548</td>\n",
       "    </tr>\n",
       "  </tbody>\n",
       "</table>\n",
       "</div>"
      ],
      "text/plain": [
       "            Customer_Segment  Customer_Share  Total_Revenue  Revenue_Share (%)\n",
       "0             Regular Buyers        0.755013    6729211.163          75.717936\n",
       "1  Lost / Inactive Customers        0.241530     481288.201           5.415516\n",
       "2     Champions / Loyal VIPs        0.003457    1676709.530          18.866548"
      ]
     },
     "execution_count": 233,
     "metadata": {},
     "output_type": "execute_result"
    }
   ],
   "source": [
    "\n",
    "# 3. Merge both\n",
    "segment_summary = customer_share.merge(revenue_share, on='Customer_Segment')\n",
    "segment_summary['Revenue_Share (%)'] = (\n",
    "    segment_summary['Total_Revenue'] / segment_summary['Total_Revenue'].sum()\n",
    ") * 100\n",
    "\n",
    "segment_summary"
   ]
  },
  {
   "cell_type": "markdown",
   "id": "5e3b3a98",
   "metadata": {},
   "source": [
    "| **Customer Segment**          | **Total Revenue** | **Revenue Share (%)** | **Insight**                                                                                                    |\n",
    "| ----------------------------- | ----------------- | --------------------- | -------------------------------------------------------------------------------------------------------------- |\n",
    "| **Regular Buyers**            | 6,729,211         | 75.7%                 | Largest contributor to total revenue; stable base. Focus on retention and gentle upselling.                    |\n",
    "| **Champions / Loyal VIPs**    | 1,676,709         | 18.9%                 | Small group with high value. Keep engaged with loyalty programs, personalized offers, and premium experiences. |\n",
    "| **Lost / Inactive Customers** | 481,288           | 5.4%                  | Low contribution to revenue; target for reactivation campaigns or special incentives.                          |\n"
   ]
  },
  {
   "cell_type": "markdown",
   "id": "553fe202",
   "metadata": {},
   "source": [
    "interpreting"
   ]
  },
  {
   "cell_type": "markdown",
   "id": "438e5440",
   "metadata": {},
   "source": [
    "| Segment                    | What It Means                                             | What To Do                                                                        |\n",
    "| -------------------------- | --------------------------------------------------------- | --------------------------------------------------------------------------------- |\n",
    "| **Champions / Loyal VIPs** | Less than 1% of customers generate nearly 19% of revenue. | Personalize retention campaigns: early access, premium services, loyalty rewards. |\n",
    "| **Regular Buyers**         | Core base; bring stability and consistent sales.          | Encourage upselling: recommend products based on past behavior.                   |\n",
    "| **Lost / Inactive**        | Weak engagement but potential growth area.                | Run reactivation or win-back campaigns (email, discounts).                        |\n"
   ]
  },
  {
   "cell_type": "code",
   "execution_count": null,
   "id": "32610f2e",
   "metadata": {},
   "outputs": [
    {
     "data": {
      "image/png": "[encoded data removed]",
      "text/plain": [
       "<Figure size 1000x700 with 1 Axes>"
      ]
     },
     "metadata": {},
     "output_type": "display_data"
    }
   ],
   "source": [
    "# --- Step 2: Assign colors & labels ---\n",
    "colors = {0: 'orange', 1: 'green', 2: 'red'}\n",
    "\n",
    "rfm_summary['Color'] = rfm_summary['Cluster'].map(colors)\n",
    "\n",
    "\n",
    "# --- Step 3: Plot setup ---\n",
    "plt.figure(figsize=(10, 7))\n",
    "plt.style.use('seaborn-v0_8-darkgrid')\n",
    "\n",
    "# --- Step 4: Bubble plot ---\n",
    "for _, row in rfm_summary.iterrows():\n",
    "    plt.scatter(row['Recency'], row['Frequency'],\n",
    "                s=row['Monetary']/400,  # scale bubbles by money\n",
    "                color=row['Color'],\n",
    "                alpha=0.8,\n",
    "                edgecolor='black',\n",
    "                linewidth=1.2)\n",
    "  \n",
    "# --- Step 5: Axis and title ---\n",
    "plt.xlabel('Recency (days since last purchase)', fontsize=12, labelpad=10)\n",
    "plt.ylabel('Frequency (number of purchases)', fontsize=12, labelpad=10)\n",
    "plt.title('RFM Customer Segmentation Clusters', fontsize=14, weight='bold', pad=15)\n",
    "\n",
    "# --- Step 6: Add legend manually ---\n",
    "handles = [plt.Line2D([], [], marker='o', color='w', label=labels[c],\n",
    "                      markerfacecolor=colors[c], markersize=10, markeredgecolor='black')\n",
    "           for c in colors]\n",
    "plt.legend(handles=handles, title='Customer Segments', loc='upper right', fontsize=10)\n",
    "\n",
    "# --- Step 7: Show plot ---\n",
    "plt.tight_layout()\n",
    "plt.show()"
   ]
  }
 ],
 "metadata": {
  "kernelspec": {
   "display_name": "Python 3",
   "language": "python",
   "name": "python3"
  },
  "language_info": {
   "codemirror_mode": {
    "name": "ipython",
    "version": 3
   },
   "file_extension": ".py",
   "mimetype": "text/x-python",
   "name": "python",
   "nbconvert_exporter": "python",
   "pygments_lexer": "ipython3",
   "version": "3.10.11"
  }
 },
 "nbformat": 4,
 "nbformat_minor": 5
}
