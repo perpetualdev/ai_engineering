{
 "cells": [
  {
   "cell_type": "code",
   "execution_count": 4,
   "id": "38627bca",
   "metadata": {},
   "outputs": [
    {
     "data": {
      "text/plain": [
       "BookID               0\n",
       "Title                0\n",
       "AuthorID             0\n",
       "Genre                0\n",
       "DateOfPublication    0\n",
       "Publisher            0\n",
       "ISBN                 0\n",
       "Language             0\n",
       "AvailableCopies      0\n",
       "AgeRating            0\n",
       "dtype: int64"
      ]
     },
     "execution_count": 4,
     "metadata": {},
     "output_type": "execute_result"
    }
   ],
   "source": [
    "import pandas as pd\n",
    "\n",
    "books = pd.read_csv(r'library_data\\books.csv')\n",
    "\n",
    "books.isnull().sum()"
   ]
  },
  {
   "cell_type": "code",
   "execution_count": 7,
   "id": "c8fb0a43",
   "metadata": {},
   "outputs": [
    {
     "data": {
      "text/plain": [
       "Index(['OrderID', 'OrderDate', 'BookID', 'Cost', 'Quantity', 'SupplyDate',\n",
       "       'FulfillmentStatus', 'NameOfSupplier'],\n",
       "      dtype='object')"
      ]
     },
     "execution_count": 7,
     "metadata": {},
     "output_type": "execute_result"
    }
   ],
   "source": [
    "bookorders = pd.read_csv(r'library_data\\bookorders.csv')\n",
    "\n",
    "bookorders.isnull().sum()\n",
    "bookorders.FulfillmentStatus.value_counts()\n",
    "bookorders.columns"
   ]
  },
  {
   "cell_type": "code",
   "execution_count": 8,
   "id": "f2ba0758",
   "metadata": {},
   "outputs": [
    {
     "data": {
      "text/plain": [
       "BorrowHistoryID     0\n",
       "BookID              0\n",
       "MemberID            0\n",
       "BorrowDate          0\n",
       "ReturnDate         30\n",
       "dtype: int64"
      ]
     },
     "execution_count": 8,
     "metadata": {},
     "output_type": "execute_result"
    }
   ],
   "source": [
    "borrowed_history = pd.read_csv(r'library_data\\borrowhistory.csv')\n",
    "\n",
    "borrowed_history.isnull().sum()"
   ]
  },
  {
   "cell_type": "code",
   "execution_count": 10,
   "id": "f825106a",
   "metadata": {},
   "outputs": [
    {
     "data": {
      "text/html": [
       "<div>\n",
       "<style scoped>\n",
       "    .dataframe tbody tr th:only-of-type {\n",
       "        vertical-align: middle;\n",
       "    }\n",
       "\n",
       "    .dataframe tbody tr th {\n",
       "        vertical-align: top;\n",
       "    }\n",
       "\n",
       "    .dataframe thead th {\n",
       "        text-align: right;\n",
       "    }\n",
       "</style>\n",
       "<table border=\"1\" class=\"dataframe\">\n",
       "  <thead>\n",
       "    <tr style=\"text-align: right;\">\n",
       "      <th></th>\n",
       "      <th>StaffID</th>\n",
       "      <th>Name</th>\n",
       "      <th>JobTitle</th>\n",
       "      <th>DepartmentID</th>\n",
       "      <th>Gender</th>\n",
       "      <th>Address</th>\n",
       "      <th>PhoneNumber</th>\n",
       "      <th>HireDate</th>\n",
       "      <th>ManagerID</th>\n",
       "    </tr>\n",
       "  </thead>\n",
       "  <tbody>\n",
       "    <tr>\n",
       "      <th>0</th>\n",
       "      <td>1</td>\n",
       "      <td>Jennifer Walsh</td>\n",
       "      <td>Head Librarian</td>\n",
       "      <td>1</td>\n",
       "      <td>Female</td>\n",
       "      <td>892 Library Lane Springfield IL</td>\n",
       "      <td>+1-555-2001</td>\n",
       "      <td>2018-01-15</td>\n",
       "      <td>NaN</td>\n",
       "    </tr>\n",
       "    <tr>\n",
       "      <th>1</th>\n",
       "      <td>2</td>\n",
       "      <td>Mark Patterson</td>\n",
       "      <td>Assistant Librarian</td>\n",
       "      <td>1</td>\n",
       "      <td>Male</td>\n",
       "      <td>445 Book Street Chicago IL</td>\n",
       "      <td>+1-555-2002</td>\n",
       "      <td>2019-03-10</td>\n",
       "      <td>1.0</td>\n",
       "    </tr>\n",
       "    <tr>\n",
       "      <th>2</th>\n",
       "      <td>3</td>\n",
       "      <td>Rebecca Foster</td>\n",
       "      <td>Children's Librarian</td>\n",
       "      <td>2</td>\n",
       "      <td>Female</td>\n",
       "      <td>678 Story Avenue Evanston IL</td>\n",
       "      <td>+1-555-2003</td>\n",
       "      <td>2020-06-22</td>\n",
       "      <td>1.0</td>\n",
       "    </tr>\n",
       "    <tr>\n",
       "      <th>3</th>\n",
       "      <td>4</td>\n",
       "      <td>Thomas Anderson</td>\n",
       "      <td>Reference Librarian</td>\n",
       "      <td>3</td>\n",
       "      <td>Male</td>\n",
       "      <td>234 Research Drive Naperville IL</td>\n",
       "      <td>+1-555-2004</td>\n",
       "      <td>2021-01-08</td>\n",
       "      <td>1.0</td>\n",
       "    </tr>\n",
       "    <tr>\n",
       "      <th>4</th>\n",
       "      <td>5</td>\n",
       "      <td>Maria Gonzalez</td>\n",
       "      <td>Circulation Manager</td>\n",
       "      <td>4</td>\n",
       "      <td>Female</td>\n",
       "      <td>567 Checkout Lane Aurora IL</td>\n",
       "      <td>+1-555-2005</td>\n",
       "      <td>2019-09-15</td>\n",
       "      <td>1.0</td>\n",
       "    </tr>\n",
       "  </tbody>\n",
       "</table>\n",
       "</div>"
      ],
      "text/plain": [
       "   StaffID             Name              JobTitle  DepartmentID  Gender  \\\n",
       "0        1   Jennifer Walsh        Head Librarian             1  Female   \n",
       "1        2   Mark Patterson   Assistant Librarian             1    Male   \n",
       "2        3   Rebecca Foster  Children's Librarian             2  Female   \n",
       "3        4  Thomas Anderson   Reference Librarian             3    Male   \n",
       "4        5   Maria Gonzalez   Circulation Manager             4  Female   \n",
       "\n",
       "                            Address  PhoneNumber    HireDate  ManagerID  \n",
       "0   892 Library Lane Springfield IL  +1-555-2001  2018-01-15        NaN  \n",
       "1        445 Book Street Chicago IL  +1-555-2002  2019-03-10        1.0  \n",
       "2      678 Story Avenue Evanston IL  +1-555-2003  2020-06-22        1.0  \n",
       "3  234 Research Drive Naperville IL  +1-555-2004  2021-01-08        1.0  \n",
       "4       567 Checkout Lane Aurora IL  +1-555-2005  2019-09-15        1.0  "
      ]
     },
     "execution_count": 10,
     "metadata": {},
     "output_type": "execute_result"
    }
   ],
   "source": [
    "library_staff = pd.read_csv(r'library_data\\librarystaff.csv')\n",
    "\n",
    "library_staff.isnull().sum()\n",
    "library_staff.head()"
   ]
  }
 ],
 "metadata": {
  "kernelspec": {
   "display_name": "Python 3",
   "language": "python",
   "name": "python3"
  },
  "language_info": {
   "codemirror_mode": {
    "name": "ipython",
    "version": 3
   },
   "file_extension": ".py",
   "mimetype": "text/x-python",
   "name": "python",
   "nbconvert_exporter": "python",
   "pygments_lexer": "ipython3",
   "version": "3.13.5"
  }
 },
 "nbformat": 4,
 "nbformat_minor": 5
}
