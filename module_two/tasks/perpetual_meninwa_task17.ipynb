{
 "cells": [
  {
   "cell_type": "markdown",
   "id": "48217a21",
   "metadata": {},
   "source": [
    "## Problem Setup\n",
    "\n",
    "We have the scores of 4 students in 3 subjects (Mathematics, English, Science):\n",
    "\n",
    "Represented as \n",
    "\n",
    "\\begin{bmatrix}\n",
    "Students & Maths & English & Science \\\\\n",
    "1 & 80 & 70 & 90 \\\\\n",
    "2 & 60 & 85 & 75 \\\\\n",
    "3 & 95 & 88 & 92 \\\\\n",
    "4 & 70 & 60 & 65 \\\\\n",
    "\\end{bmatrix} \n",
    "\n",
    "with Students represented as the rows and Subjects (Maths, English and Science) represented as columns respectively"
   ]
  },
  {
   "cell_type": "markdown",
   "id": "5b973262",
   "metadata": {},
   "source": [
    "**Total Scores per Student (Vector Addition)**"
   ]
  },
  {
   "cell_type": "markdown",
   "id": "81c4d9de",
   "metadata": {},
   "source": [
    "\\begin{bmatrix}\n",
    "Students  & Calc(Total)  & Total  \\\\\n",
    "1 & 80 + 70 + 90 & 240 \\\\\n",
    "2 & 60 + 85 + 75 & 220 \\\\\n",
    "3 & 95 + 88 + 95 & 275 \\\\\n",
    "4 & 70 + 60 + 65 & 195 \\\\\n",
    "\\end{bmatrix} \n"
   ]
  },
  {
   "cell_type": "code",
   "execution_count": 2,
   "id": "5b4c4bb3",
   "metadata": {},
   "outputs": [
    {
     "name": "stdout",
     "output_type": "stream",
     "text": [
      "Student 1 Total Score: 240\n",
      "Student 2 Total Score: 220\n",
      "Student 3 Total Score: 275\n",
      "Student 4 Total Score: 195\n"
     ]
    }
   ],
   "source": [
    "import numpy as np \n",
    "\n",
    "# Represent the students scores as an array of rows of students and columns of subjects\n",
    "students_scores = np.array([[80, 70, 90], \n",
    "                            [60, 85, 75], \n",
    "                            [95, 88, 92], \n",
    "                            [70, 60, 65]])\n",
    "\n",
    "# Calculating the first student's total scores\n",
    "student1_total_scores = students_scores[0, :].sum()\n",
    "print(f\"Student 1 Total Score: {student1_total_scores}\")\n",
    "\n",
    "# Calculating student 2 total scores\n",
    "student2_total_scores = students_scores[1, :].sum()\n",
    "print(f\"Student 2 Total Score: {student2_total_scores}\")\n",
    "\n",
    "# Calculating student 3 total scores\n",
    "student3_total_scores = students_scores[2, :].sum()\n",
    "print(f\"Student 3 Total Score: {student3_total_scores}\")\n",
    "\n",
    "# Calculating student 2 total scores\n",
    "student4_total_scores = students_scores[3, :].sum()\n",
    "print(f\"Student 4 Total Score: {student4_total_scores}\")"
   ]
  },
  {
   "cell_type": "markdown",
   "id": "05c3b06d",
   "metadata": {},
   "source": [
    "**Applying Weights (Scalar Multiplication)**\n",
    "Using Maths being twice as important"
   ]
  },
  {
   "cell_type": "markdown",
   "id": "ceb3d62b",
   "metadata": {},
   "source": [
    "    Maths =  2 x [80, 60, 95, 70]\n",
    "\n",
    "\\begin{bmatrix}\n",
    "160  \\\\\n",
    "120 \\\\\n",
    "190  \\\\\n",
    "140  \\\\\n",
    "\\end{bmatrix} "
   ]
  },
  {
   "cell_type": "code",
   "execution_count": 3,
   "id": "ed016c1f",
   "metadata": {},
   "outputs": [
    {
     "name": "stdout",
     "output_type": "stream",
     "text": [
      "The sum of twice the sum of all the students scores in Maths:  [160 120 190 140]\n"
     ]
    }
   ],
   "source": [
    "scalar = 2\n",
    "scores_transpose = students_scores.T\n",
    "scores_transpose\n",
    "\n",
    "# The first row in this case represents the subject Maths\n",
    "maths_2_scores = scalar * scores_transpose[0, :]\n",
    "print(\"The sum of twice the sum of all the students scores in Maths: \", maths_2_scores)"
   ]
  },
  {
   "cell_type": "markdown",
   "id": "54c20418",
   "metadata": {},
   "source": [
    "**Average Score per Subject (Matrix Operations)**"
   ]
  },
  {
   "cell_type": "markdown",
   "id": "c16f108c",
   "metadata": {},
   "source": [
    "Since the number of students are 4\n",
    "\n",
    "To get the average of each student we multiple each row by 1/4\n",
    "\n",
    "<!-- 80 & 70 & 90 \\\\\n",
    "60 & 85 & 75 \\\\\n",
    "95 & 88 & 92 \\\\\n",
    "70 & 60 & 65 \\\\ -->\n",
    "    Average = 1/4 x  [[80, 70, 90]\n",
    "                      [60, 85, 75]\n",
    "                      [95, 88, 92]\n",
    "                      [70, 60, 65]]\n",
    "\n",
    "\\begin{bmatrix}\n",
    "Subject & Calc(Average) & Average \\\\\n",
    "Maths & (80 + 60 + 95 + 70) * 1/4 & 76.25 \\\\\n",
    "English & (70 + 85 + 88 + 60) * 1/4 & 75.75 \\\\\n",
    "Science & (90 + 75 + 92 + 65) * 1/4 & 80.5 \\\\\n",
    "\\end{bmatrix} \n"
   ]
  },
  {
   "cell_type": "code",
   "execution_count": 4,
   "id": "cee71c04",
   "metadata": {},
   "outputs": [
    {
     "name": "stdout",
     "output_type": "stream",
     "text": [
      "The Average of Maths: 76.25\n",
      "The Average of English: 75.75\n",
      "The Average of English: 80.5\n"
     ]
    }
   ],
   "source": [
    "# Average Score of Mathematics\n",
    "maths_average = students_scores[:, 0].mean()\n",
    "print(f\"The Average of Maths: {maths_average}\")\n",
    "\n",
    "english_average = students_scores[:, 1].mean()\n",
    "print(f\"The Average of English: {english_average}\")\n",
    "\n",
    "science_average = students_scores[:, 2].mean()\n",
    "print(f\"The Average of English: {science_average}\")"
   ]
  },
  {
   "cell_type": "markdown",
   "id": "f60b050a",
   "metadata": {},
   "source": [
    "**Final Grades using Matrix Multiplication with a weight vector (e.g., [0.5, 0.3, 0.2]) to calculate final grades**"
   ]
  },
  {
   "cell_type": "markdown",
   "id": "18b0ed32",
   "metadata": {},
   "source": [
    "To attempt the scalar multiplication, we need the number of columns of the data to be equal to the number of rows of the weight vector (The weight will be an array of 3x1) and since the student data is a 4x3, it is compatible for scalar multiplication\n",
    "\n",
    "\\begin{bmatrix}\n",
    "80 & 70 & 90 \\\\\n",
    "60 & 85 & 75 \\\\\n",
    "95 & 88 & 92 \\\\\n",
    "70 & 60 & 65 \\\\\n",
    "\\end{bmatrix}\n",
    "\n",
    "\\begin{bmatrix}         \n",
    "0.5  \\\\                 \n",
    "0.3 \\\\                  \n",
    "0.2  \\\\                 \n",
    "\\end{bmatrix}\n",
    "\n",
    "\\begin{bmatrix}         \n",
    "(0.5 * 80) + (0.3 * 70) + (0.2 * 90) \\\\                 \n",
    "(0.5 * 60) + (0.3 * 85) + (0.2 * 75) \\\\                 \n",
    "(0.5 * 95) + (0.3 * 88) + (0.2 * 92) \\\\                 \n",
    "(0.5 * 70) + (0.3 * 60) + (0.2 * 65) \\\\                          \n",
    "\\end{bmatrix}\n",
    "\n",
    "\\begin{bmatrix}         \n",
    "40 + 21 + 18 \\\\                 \n",
    "30 + 25.5 + 15 \\\\                 \n",
    "47.5 + 26.4 + 18.4 \\\\                 \n",
    "35 + 18 + 13 \\\\                          \n",
    "\\end{bmatrix}\n",
    "\n",
    "\\begin{bmatrix}         \n",
    "79 \\\\                 \n",
    "70.5 \\\\                 \n",
    "92.3 \\\\                 \n",
    "66 \\\\                          \n",
    "\\end{bmatrix}"
   ]
  },
  {
   "cell_type": "code",
   "execution_count": 5,
   "id": "89497451",
   "metadata": {},
   "outputs": [
    {
     "name": "stdout",
     "output_type": "stream",
     "text": [
      "Final Grades: \n",
      " [[79. ]\n",
      " [70.5]\n",
      " [92.3]\n",
      " [66. ]]\n",
      "Final Grades: \n",
      " [[79. ]\n",
      " [70.5]\n",
      " [92.3]\n",
      " [66. ]]\n",
      "Dimension (4, 1)\n"
     ]
    }
   ],
   "source": [
    "# The data of students as rows and subjects as columns, we have a 4x3\n",
    "# The transpose of the Weight Vector is a 3x1 matrix, this is so that it is compatible for scalar multiplication\n",
    "\n",
    "weight_vector = np.array([[0.5], \n",
    "                          [0.3], \n",
    "                          [0.2]])\n",
    "\n",
    "# This makes it compatible\n",
    "# Calculating final grades using numpy's dot or @\n",
    "final_grades = np.dot(students_scores, weight_vector)\n",
    "\n",
    "# OR\n",
    "\n",
    "final_grades2 = students_scores @ weight_vector\n",
    "\n",
    "# Result is a 4x1 matrix\n",
    "dimension = final_grades2.shape\n",
    "\n",
    "\n",
    "print(\"Final Grades: \\n\", final_grades)\n",
    "print(\"Final Grades: \\n\", final_grades2)\n",
    "print(\"Dimension\", dimension)"
   ]
  },
  {
   "cell_type": "markdown",
   "id": "a516f1d9",
   "metadata": {},
   "source": [
    "**Comparing Students(Vector Subtraction)**"
   ]
  },
  {
   "cell_type": "markdown",
   "id": "2d17e828",
   "metadata": {},
   "source": [
    "\\begin{bmatrix}\n",
    "Student & Maths & English & Science \\\\\n",
    "1 & 80 & 70 & 90 \\\\\n",
    "2 & 60 & 85 & 75 \\\\\n",
    "\\end{bmatrix}\n",
    "\n",
    "        Comparing student 1 and student 2\n",
    "                    Student 1     -    Student 2\n",
    "        Average = [80, 70, 90]    -   [60, 85, 75]\n",
    "\n",
    "\n",
    "\\begin{bmatrix}\n",
    "Subject & Student1 - Student2 \\\\\n",
    "Maths & 80 - 60 \\\\\n",
    "English & 70 - 85 \\\\\n",
    "Science & 90 - 75 \\\\\n",
    "\\end{bmatrix}\n",
    "\n",
    "\\begin{bmatrix}\n",
    "Subject & Comparison & Who did better? \\\\\n",
    "Maths & 20 & Student 1 \\\\\n",
    "English & -15 & Student 2 \\\\\n",
    "Science & 25 & Student 1 \\\\\n",
    "\\end{bmatrix}"
   ]
  },
  {
   "cell_type": "code",
   "execution_count": null,
   "id": "e84085be",
   "metadata": {},
   "outputs": [
    {
     "name": "stdout",
     "output_type": "stream",
     "text": [
      "Student 1 and scores: \n",
      " [80 70 90]\n",
      "Student 2 and scores: \n",
      " [60 85 75]\n",
      "Comparing Student1 and Student2: \n",
      " [ 20 -15  15]\n"
     ]
    }
   ],
   "source": [
    "student1 = students_scores[0, :]\n",
    "print(\"Student 1 and scores: \\n\", student1)\n",
    "\n",
    "student2 = students_scores[1, :]\n",
    "print(\"Student 2 and scores: \\n\", student2)\n",
    "\n",
    "# Comparing student 1 and student 2\n",
    "comparison = student1 - student2\n",
    "print(\"Comparing Student1 and Student2: \\n\", comparison)\n",
    "\n",
    "# From the data we can that Student 1 did better in Subjects Maths and Science. Student 2 did better in English."
   ]
  },
  {
   "cell_type": "markdown",
   "id": "50d66343",
   "metadata": {},
   "source": [
    "## ADD ON EXERCISES"
   ]
  },
  {
   "cell_type": "markdown",
   "id": "878e81e6",
   "metadata": {},
   "source": [
    "**Create a new 5×4 matrix of scores (5 students, 4 subjects). Compute each student’s total score and the average per subject.**"
   ]
  },
  {
   "cell_type": "markdown",
   "id": "17532f06",
   "metadata": {},
   "source": [
    "We have the scores of 5 students in 4 subjects (Mathematics, English, Chemistry, Biology):\n",
    "\n",
    "Represented as \n",
    "\n",
    "\\begin{bmatrix}\n",
    "Students & Maths & English & Chemistry & Biology \\\\\n",
    "Mary & 85 & 65 & 80 & 75 \\\\\n",
    "James & 75 & 85 & 75 & 90 \\\\\n",
    "Henry & 95 & 88 & 80 & 70 \\\\\n",
    "Kola & 70 & 60 & 65 & 84 \\\\\n",
    "Musa & 92 & 80 & 75 & 88 \n",
    "\\end{bmatrix} \n",
    "\n",
    "with Students represented as the rows and Subjects (Maths, English and Chemistry and Biology) represented as columns respectively\n",
    "\n",
    "    mary_total_scores = 85 + 65 + 80 + 75 = 305\n",
    "    james_total_scores = 75 + 85 + 75 + 90 = 325\n",
    "    henry_total_scores = 95 + 88 + 80 + 70 = 333\n",
    "    kola_total_scores = 70 + 60 + 65 + 84 = 279\n",
    "    musa_total_scores = 92 + 80 + 75 + 88 = 335\n",
    "\n",
    "students_total_scores = \n",
    "\n",
    "\\begin{bmatrix}\n",
    "Students & Calc(Scores) & Total Score \\\\\n",
    "Mary & 85 + 65 + 80 + 75 & 305 \\\\\n",
    "James & 75 + 85 + 75 + 90 & 325 \\\\\n",
    "Henry & 95 + 88 + 80 + 70 & 333 \\\\\n",
    "Kola & 70 + 60 + 65 + 84 & 279 \\\\\n",
    "Musa & 92 + 80 + 75 + 88 & 335 \n",
    "\\end{bmatrix} \n",
    "\n",
    "To get the average of each subject we need to transpose and multiply by 1/4 as 4 is the total subject\n",
    "\n",
    "<!-- array([[85, 75, 95, 70, 92],\n",
    "       [65, 85, 88, 60, 80],\n",
    "       [80, 75, 80, 65, 75],\n",
    "       [75, 90, 70, 84, 88]]) -->\n",
    "\n",
    "    1/4 * [[85, 75, 95, 70, 92],\n",
    "            [65, 85, 88, 60, 80],\n",
    "            [80, 75, 80, 65, 75],\n",
    "            [75, 90, 70, 84, 88]]\n",
    "    \n",
    "Subjects Average = \n",
    "\n",
    "\\begin{bmatrix}\n",
    "Subjects & Calc(Average) & Average \\\\\n",
    "Maths & (85 + 75 + 95 + 70 + 92) * 1/4 & 83.4 \\\\\n",
    "English & (65 + 85 + 88 + 60 + 80) * 1/4 & 75.6 \\\\\n",
    "Chemistry & (80 + 75 + 80 + 65 + 75) * 1/4 & 75 \\\\\n",
    "Biology & (75 + 90 + 70 + 84 + 88) * 1/4 & 81.4 \\\\\n",
    "\\end{bmatrix} \n",
    "\n",
    "    "
   ]
  },
  {
   "cell_type": "code",
   "execution_count": 27,
   "id": "2eb9d499",
   "metadata": {},
   "outputs": [
    {
     "name": "stdout",
     "output_type": "stream",
     "text": [
      "Mary's Total Score: 305\n",
      "James' Total Score: 325\n",
      "Henry's Total Score: 333\n",
      "Kola's Total Score: 279\n",
      "Musa's Total Score: 335\n",
      "====================================================================================================\n",
      "Maths Average:  83.4\n",
      "English Average:  75.6\n",
      "Chemistry Average:  75.0\n",
      "Biology Average:  81.4\n"
     ]
    }
   ],
   "source": [
    "# Using numpy\n",
    "student_scores2 = np.array([[85, 65, 80, 75],\n",
    "                            [75, 85, 75, 90],\n",
    "                            [95, 88, 80, 70],\n",
    "                            [70, 60, 65, 84],\n",
    "                            [92, 80, 75, 88]])\n",
    "\n",
    "mary_total_scores = student_scores2[0, :].sum()\n",
    "print(\"Mary's Total Score:\", mary_total_scores)\n",
    "\n",
    "james_total_scores = student_scores2[1, :].sum()\n",
    "print(\"James' Total Score:\", james_total_scores)\n",
    "\n",
    "henry_total_scores = student_scores2[2, :].sum()\n",
    "print(\"Henry's Total Score:\", henry_total_scores)\n",
    "\n",
    "kola_total_scores = student_scores2[3, :].sum()\n",
    "print(\"Kola's Total Score:\", kola_total_scores)\n",
    "\n",
    "musa_total_scores = student_scores2[4, :].sum()\n",
    "print(\"Musa's Total Score:\", musa_total_scores)\n",
    "\n",
    "# Average Per Subject\n",
    "print(\"=\" * 100)\n",
    "\n",
    "maths_average = student_scores2[:, 0].mean()\n",
    "print(\"Maths Average: \", maths_average)\n",
    "\n",
    "english_average = student_scores2[:, 1].mean()\n",
    "print(\"English Average: \", english_average)\n",
    "\n",
    "chemistry_average = student_scores2[:, 2].mean()\n",
    "print(\"Chemistry Average: \", chemistry_average)\n",
    "\n",
    "biology_average = student_scores2[:, 3].mean()\n",
    "print(\"Biology Average: \", biology_average)\n"
   ]
  },
  {
   "cell_type": "markdown",
   "id": "cefaa2c2",
   "metadata": {},
   "source": [
    "**2. Suppose one subject (e.g., Chemistry) is 3 times more important than others. Apply scalar multiplication and recompute totals.**"
   ]
  },
  {
   "cell_type": "markdown",
   "id": "4e5dd25f",
   "metadata": {},
   "source": [
    "    Maths =  3 x  [80, 75, 80, 65, 75]\n",
    "\n",
    "\\begin{bmatrix}\n",
    "240  \\\\\n",
    "225 \\\\\n",
    "240  \\\\\n",
    "195  \\\\\n",
    "225  \\\\\n",
    "\\end{bmatrix} "
   ]
  },
  {
   "cell_type": "code",
   "execution_count": 23,
   "id": "83d47d21",
   "metadata": {},
   "outputs": [
    {
     "name": "stdout",
     "output_type": "stream",
     "text": [
      "Chemistry being 3 times more important \n",
      " [240 225 240 195 225]\n"
     ]
    }
   ],
   "source": [
    "# Using numpy\n",
    "scalar = 3\n",
    "\n",
    "# Getting Chemistry subject from the vector\n",
    "chemistry_scores = student_scores2[:, 2]\n",
    "chemistry_scores\n",
    "\n",
    "chemistry_3times_scores = 3 * chemistry_scores\n",
    "print(\"Chemistry being 3 times more important \\n\", chemistry_3times_scores)"
   ]
  },
  {
   "cell_type": "markdown",
   "id": "991f82bc",
   "metadata": {},
   "source": [
    "**3. Define new weights for grading (e.g., 40%, 20%, 30%, 10%). Compute final grades using matrix multiplication.**"
   ]
  },
  {
   "cell_type": "markdown",
   "id": "61182f88",
   "metadata": {},
   "source": [
    "To attempt the scalar multiplication, we need the number of columns of the data to be equal to the number of rows of the weight vector (The weight will be an array of 4x1) and since the student data is a 5x4, it is compatible for scalar multiplication\n",
    "\n",
    "**Student Data**\n",
    "\\begin{bmatrix}\n",
    "85 & 65 & 80 & 75 \\\\\n",
    "75 & 85 & 75 & 90 \\\\\n",
    "95 & 88 & 80 & 70 \\\\\n",
    "70 & 60 & 65 & 84 \\\\\n",
    "92 & 80 & 75 & 88 \\\\\n",
    "\\end{bmatrix}\n",
    "\n",
    "**Weight Vector**\n",
    "\\begin{bmatrix}         \n",
    "0.4  \\\\                 \n",
    "0.2 \\\\                  \n",
    "0.3  \\\\                 \n",
    "0.1  \\\\                 \n",
    "\\end{bmatrix}\n",
    "\n",
    "\\begin{bmatrix}         \n",
    "(0.4 * 85) + (0.2 * 65) + (0.3 * 80) + (0.1 * 75) \\\\                 \n",
    "(0.4 * 75) + (0.2 * 85) + (0.3 * 75) + (0.1 * 90) \\\\                 \n",
    "(0.4 * 95) + (0.2 * 88) + (0.3 * 80) + (0.1 * 70) \\\\                 \n",
    "(0.4 * 70) + (0.2 * 60) + (0.3 * 65) + (0.1 * 84) \\\\                          \n",
    "(0.4 * 92) + (0.2 * 80) + (0.3 * 75) + (0.1 * 88) \\\\                          \n",
    "\\end{bmatrix}\n",
    "\n",
    "\\begin{bmatrix}         \n",
    "34 + 13 + 24 + 7.5 \\\\                 \n",
    "30 + 17 + 22.5 + 9 \\\\                 \n",
    "38 + 17.6 + 24 + 7 \\\\                 \n",
    "28 + 12 + 19.5 + 8.4 \\\\                          \n",
    "36.8 + 16 + 22.5 + 8.8 \\\\                          \n",
    "\\end{bmatrix}\n",
    "\n",
    "\\begin{bmatrix}         \n",
    "78.5 \\\\                 \n",
    "78.5 \\\\                 \n",
    "86.6 \\\\                 \n",
    "67.9 \\\\                          \n",
    "84.1 \\\\                          \n",
    "\\end{bmatrix}"
   ]
  },
  {
   "cell_type": "code",
   "execution_count": 24,
   "id": "b06425b1",
   "metadata": {},
   "outputs": [
    {
     "name": "stdout",
     "output_type": "stream",
     "text": [
      "Student Final Grades: \n",
      " [[78.5]\n",
      " [78.5]\n",
      " [86.6]\n",
      " [67.9]\n",
      " [84.1]]\n",
      "the resulting dimension:  (5, 1)\n"
     ]
    }
   ],
   "source": [
    "grading_weights = [[0.4],\n",
    "                   [0.2],\n",
    "                   [0.3],\n",
    "                   [0.1]]\n",
    "\n",
    "# Multiplying the student data by the weight grading\n",
    "\n",
    "final_grades3 = np.dot(student_scores2, grading_weights)\n",
    "\n",
    "print(\"Student Final Grades: \\n\", final_grades3)\n",
    "\n",
    "# The result dimension should be a 5x1 matrix\n",
    "# Calculating final grades using numpy's dot or @\n",
    "\n",
    "final_grades4 = student_scores2 @ grading_weights\n",
    "\n",
    "# Result is a 4x1 matrix\n",
    "dimension = final_grades4.shape\n",
    "print(\"the resulting dimension: \", dimension)"
   ]
  },
  {
   "cell_type": "markdown",
   "id": "ec942231",
   "metadata": {},
   "source": [
    "**4. Compare Student 3 and Student 4 using vector subtraction. Who performed better in each subject?**"
   ]
  },
  {
   "cell_type": "markdown",
   "id": "d72b840d",
   "metadata": {},
   "source": [
    "    student3 = [95, 88, 80, 70]\n",
    "    student4 = [70, 60, 65, 84]\n",
    "\n",
    "    comparison = [(95 - 70), (88 - 60), (80 - 65), (70 - 84)]\n",
    "    comparison = [25, 28, 25, -14] \n",
    "\n",
    "\\begin{bmatrix}         \n",
    "Comparison & Subject & Who Did Better \\\\                 \n",
    "25 & Maths & student 3 \\\\                 \n",
    "28 & English & student 3 \\\\                 \n",
    "25 & Chemistry & student 3 \\\\                          \n",
    "-14 & Biology & student 4 \\\\                          \n",
    "\\end{bmatrix}"
   ]
  },
  {
   "cell_type": "code",
   "execution_count": 25,
   "id": "88cce72c",
   "metadata": {},
   "outputs": [
    {
     "data": {
      "text/plain": [
       "array([ 25,  28,  15, -14])"
      ]
     },
     "execution_count": 25,
     "metadata": {},
     "output_type": "execute_result"
    }
   ],
   "source": [
    "student3 = student_scores2[2, :]\n",
    "student4 = student_scores2[3, :]\n",
    "\n",
    "comparison = student3 - student4\n",
    "comparison\n",
    "# From the data student 3 did better in all the subjects apart from Biology which shows that student 4 did better"
   ]
  }
 ],
 "metadata": {
  "kernelspec": {
   "display_name": "my_venv",
   "language": "python",
   "name": "python3"
  },
  "language_info": {
   "codemirror_mode": {
    "name": "ipython",
    "version": 3
   },
   "file_extension": ".py",
   "mimetype": "text/x-python",
   "name": "python",
   "nbconvert_exporter": "python",
   "pygments_lexer": "ipython3",
   "version": "3.13.7"
  }
 },
 "nbformat": 4,
 "nbformat_minor": 5
}
