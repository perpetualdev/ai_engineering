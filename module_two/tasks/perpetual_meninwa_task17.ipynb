{
 "cells": [
  {
   "cell_type": "code",
   "execution_count": 7,
   "id": "add1b131",
   "metadata": {},
   "outputs": [],
   "source": [
    "import numpy as np\n",
    "\n",
    "# Given two matrices\n",
    "\n",
    "A = np.array([[2, -1],\n",
    "                     [0, 3]])\n",
    "\n",
    "B = np.array([[1, 4],\n",
    "                     [-2, 5]])\n",
    "\n",
    "# And two Scalars\n",
    "c = 2\n",
    "d = 3"
   ]
  },
  {
   "cell_type": "markdown",
   "id": "b48dbb9d",
   "metadata": {},
   "source": [
    "**1. Compute cA, dB and (c + d)A**"
   ]
  },
  {
   "cell_type": "code",
   "execution_count": 8,
   "id": "9caee6d2",
   "metadata": {},
   "outputs": [
    {
     "name": "stdout",
     "output_type": "stream",
     "text": [
      "Computed cA:\n",
      " [[ 4 -2]\n",
      " [ 0  6]]\n",
      "Computed dB:\n",
      " [[ 3 12]\n",
      " [-6 15]]\n",
      "Associative:\n",
      " [[10 -5]\n",
      " [ 0 15]]\n"
     ]
    }
   ],
   "source": [
    "# Use numpy to multiply scalar_c with vector_A\n",
    "cA = c * A\n",
    "\n",
    "# Use numpy to multiply scalar_d with vector_B\n",
    "dB = d * B\n",
    "\n",
    "# Use numpy to compute (c + d)A\n",
    "right_associate = (c + d) * A\n",
    "\n",
    "print(f\"Computed cA:\\n {cA}\")\n",
    "print(f\"Computed dB:\\n {dB}\")\n",
    "print(f\"Associative:\\n {right_associate}\")"
   ]
  },
  {
   "cell_type": "markdown",
   "id": "a8b0c72a",
   "metadata": {},
   "source": [
    "**2. Using the results gotten, Verify the Scalar Multiplication Properties**"
   ]
  },
  {
   "cell_type": "code",
   "execution_count": 12,
   "id": "b9e68927",
   "metadata": {},
   "outputs": [
    {
     "name": "stdout",
     "output_type": "stream",
     "text": [
      "Left associativity:\n",
      " [[12 -6]\n",
      " [ 0 18]]\n",
      "Right associativity:\n",
      " [[12 -6]\n",
      " [ 0 18]]\n",
      "Associative: True\n"
     ]
    }
   ],
   "source": [
    "# 1. Associativity\n",
    "# (c . d)A = c . (dA)\n",
    "\n",
    "left_associativity = (c * d) * A\n",
    "print(\"Left associativity:\\n\", left_associativity)\n",
    "\n",
    "right_associativity = c * (d * A)\n",
    "print(\"Right associativity:\\n\", right_associativity)\n",
    "\n",
    "print(f\"Associative: {np.array_equal(left_associativity, right_associativity)}\")\n"
   ]
  },
  {
   "cell_type": "code",
   "execution_count": 14,
   "id": "0647d49e",
   "metadata": {},
   "outputs": [
    {
     "name": "stdout",
     "output_type": "stream",
     "text": [
      "Left Distributivity:\n",
      " [[ 6  6]\n",
      " [-4 16]]\n",
      "Right Distributivity:\n",
      " [[ 6  6]\n",
      " [-4 16]]\n",
      "Distributive over matrix addition: True\n"
     ]
    }
   ],
   "source": [
    "# 2. Distributivity over Matrix Addition\n",
    "# c(A + B) = cA + cB\n",
    "\n",
    "left_distributivity = c * (A + B)\n",
    "print(\"Left Distributivity:\\n\", left_distributivity)\n",
    "\n",
    "right_distributivity = (c * A) + (c * B)\n",
    "print(\"Right Distributivity:\\n\", right_distributivity)\n",
    "\n",
    "print(f\"Distributive over matrix addition: {np.array_equal(left_distributivity, right_distributivity)}\")"
   ]
  },
  {
   "cell_type": "code",
   "execution_count": 15,
   "id": "f180b1af",
   "metadata": {},
   "outputs": [
    {
     "name": "stdout",
     "output_type": "stream",
     "text": [
      "Left Distributivity:\n",
      " [[10 -5]\n",
      " [ 0 15]]\n",
      "Right Distributivity:\n",
      " [[10 -5]\n",
      " [ 0 15]]\n",
      "Distributive over matrix addition: True\n"
     ]
    }
   ],
   "source": [
    "# 3. Distributivity over Scalar Addition\n",
    "# (c + d)A = cA + dA\n",
    "\n",
    "left_sa_distributive = (c + d) * A\n",
    "print(\"Left Distributivity:\\n\", left_sa_distributive)\n",
    "\n",
    "right_sa_distributive = (c * A) + (d * A)\n",
    "print(\"Right Distributivity:\\n\", right_sa_distributive)\n",
    "\n",
    "print(f\"Distributive over matrix addition: {np.array_equal(left_sa_distributive, right_sa_distributive)}\")"
   ]
  },
  {
   "cell_type": "markdown",
   "id": "fac37fcc",
   "metadata": {},
   "source": [
    "**3. Find the transpose of both matrices**"
   ]
  },
  {
   "cell_type": "code",
   "execution_count": 18,
   "id": "532d7c6e",
   "metadata": {},
   "outputs": [
    {
     "name": "stdout",
     "output_type": "stream",
     "text": [
      "Transpose of A: \n",
      " [[ 2  0]\n",
      " [-1  3]]\n",
      "Transpose of B: \n",
      " [[ 1 -2]\n",
      " [ 4  5]]\n"
     ]
    }
   ],
   "source": [
    "transpose_of_A = A.T\n",
    "print(\"Transpose of A: \\n\", transpose_of_A)\n",
    "\n",
    "transpose_of_B = B.T\n",
    "print(\"Transpose of B: \\n\", transpose_of_B)\n"
   ]
  },
  {
   "cell_type": "markdown",
   "id": "96bd621c",
   "metadata": {},
   "source": [
    "**4. Check if A and B are invertible by computing their determinant, if so, find the inverse of A and the inverse of B**"
   ]
  },
  {
   "cell_type": "code",
   "execution_count": 19,
   "id": "4e6f7bcb",
   "metadata": {},
   "outputs": [
    {
     "name": "stdout",
     "output_type": "stream",
     "text": [
      "Determinant |A|:\n",
      " 6.0\n"
     ]
    }
   ],
   "source": [
    "# Find the determinant of A\n",
    "print(\"Determinant |A|:\\n\", np.linalg.det(A))"
   ]
  },
  {
   "cell_type": "code",
   "execution_count": 20,
   "id": "0b18afef",
   "metadata": {},
   "outputs": [
    {
     "name": "stdout",
     "output_type": "stream",
     "text": [
      "Inverse of A:\n",
      " [[0.5        0.16666667]\n",
      " [0.         0.33333333]]\n"
     ]
    }
   ],
   "source": [
    "# Since the determinant of A is not 0\n",
    "# Get the inverse\n",
    "print(\"Inverse of A:\\n\", np.linalg.inv(A))"
   ]
  },
  {
   "cell_type": "code",
   "execution_count": 21,
   "id": "587890d9",
   "metadata": {},
   "outputs": [
    {
     "name": "stdout",
     "output_type": "stream",
     "text": [
      "Determinant |B|:\n",
      " 13.0\n"
     ]
    }
   ],
   "source": [
    "# Find the determinant of B\n",
    "print(\"Determinant |B|:\\n\", np.linalg.det(B))"
   ]
  },
  {
   "cell_type": "code",
   "execution_count": 22,
   "id": "b905d047",
   "metadata": {},
   "outputs": [
    {
     "name": "stdout",
     "output_type": "stream",
     "text": [
      "Inverse of B:\n",
      " [[ 0.38461538 -0.30769231]\n",
      " [ 0.15384615  0.07692308]]\n"
     ]
    }
   ],
   "source": [
    "# Since the determinant of B is not 0\n",
    "# Get the inverse\n",
    "print(\"Inverse of B:\\n\", np.linalg.inv(B))"
   ]
  }
 ],
 "metadata": {
  "kernelspec": {
   "display_name": "my_venv",
   "language": "python",
   "name": "python3"
  },
  "language_info": {
   "codemirror_mode": {
    "name": "ipython",
    "version": 3
   },
   "file_extension": ".py",
   "mimetype": "text/x-python",
   "name": "python",
   "nbconvert_exporter": "python",
   "pygments_lexer": "ipython3",
   "version": "3.13.5"
  }
 },
 "nbformat": 4,
 "nbformat_minor": 5
}
