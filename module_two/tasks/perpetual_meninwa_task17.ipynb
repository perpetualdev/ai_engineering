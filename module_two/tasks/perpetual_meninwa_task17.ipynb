{
 "cells": [
  {
   "cell_type": "markdown",
   "id": "48217a21",
   "metadata": {},
   "source": [
    "## Problem Setup\n",
    "\n",
    "We have the scores of 4 students in 3 subjects (Mathematics, English, Science):\n",
    "\n",
    "Represented as \n",
    "\n",
    "\\begin{bmatrix}\n",
    "Students & Maths & English & Science \\\\\n",
    "1 & 80 & 70 & 90 \\\\\n",
    "2 & 60 & 85 & 75 \\\\\n",
    "3 & 95 & 88 & 92 \\\\\n",
    "4 & 70 & 60 & 65 \\\\\n",
    "\\end{bmatrix} \n",
    "\n",
    "with Students represented as the rows and Subjects (Maths, English and Science) represented as columns respectively"
   ]
  },
  {
   "cell_type": "markdown",
   "id": "5b973262",
   "metadata": {},
   "source": [
    "**Total Scores per Student (Vector Addition)**"
   ]
  },
  {
   "cell_type": "markdown",
   "id": "81c4d9de",
   "metadata": {},
   "source": [
    "\\begin{bmatrix}\n",
    "Students  & Calc(Total)  & Total  \\\\\n",
    "1 & 80 + 70 + 90 & 240 \\\\\n",
    "2 & 60 + 85 + 75 & 220 \\\\\n",
    "3 & 95 + 88 + 95 & 275 \\\\\n",
    "4 & 70 + 60 + 65 & 195 \\\\\n",
    "\\end{bmatrix} \n"
   ]
  },
  {
   "cell_type": "code",
   "execution_count": 2,
   "id": "5b4c4bb3",
   "metadata": {},
   "outputs": [
    {
     "name": "stdout",
     "output_type": "stream",
     "text": [
      "Student 1 Total Score: 240\n",
      "Student 2 Total Score: 220\n",
      "Student 3 Total Score: 275\n",
      "Student 4 Total Score: 195\n"
     ]
    }
   ],
   "source": [
    "import numpy as np \n",
    "\n",
    "# Represent the students scores as an array of rows of students and columns of subjects\n",
    "students_scores = np.array([[80, 70, 90], \n",
    "                            [60, 85, 75], \n",
    "                            [95, 88, 92], \n",
    "                            [70, 60, 65]])\n",
    "\n",
    "# Calculating the first student's total scores\n",
    "student1_total_scores = students_scores[0, :].sum()\n",
    "print(f\"Student 1 Total Score: {student1_total_scores}\")\n",
    "\n",
    "# Calculating student 2 total scores\n",
    "student2_total_scores = students_scores[1, :].sum()\n",
    "print(f\"Student 2 Total Score: {student2_total_scores}\")\n",
    "\n",
    "# Calculating student 3 total scores\n",
    "student3_total_scores = students_scores[2, :].sum()\n",
    "print(f\"Student 3 Total Score: {student3_total_scores}\")\n",
    "\n",
    "# Calculating student 2 total scores\n",
    "student4_total_scores = students_scores[3, :].sum()\n",
    "print(f\"Student 4 Total Score: {student4_total_scores}\")"
   ]
  },
  {
   "cell_type": "markdown",
   "id": "05c3b06d",
   "metadata": {},
   "source": [
    "**Applying Weights (Scalar Multiplication)**\n",
    "Using Maths being twice as important"
   ]
  },
  {
   "cell_type": "markdown",
   "id": "ceb3d62b",
   "metadata": {},
   "source": [
    "    Maths =  2 x   [[80]\n",
    "                    [60]\n",
    "                    [95]\n",
    "                    [70]]\n",
    "\n",
    "\\begin{bmatrix}\n",
    "160  \\\\\n",
    "120 \\\\\n",
    "190  \\\\\n",
    "140  \\\\\n",
    "\\end{bmatrix} "
   ]
  },
  {
   "cell_type": "code",
   "execution_count": 3,
   "id": "ed016c1f",
   "metadata": {},
   "outputs": [
    {
     "name": "stdout",
     "output_type": "stream",
     "text": [
      "The sum of twice the sum of all the students scores in Maths:  [160 120 190 140]\n"
     ]
    }
   ],
   "source": [
    "scalar = 2\n",
    "scores_transpose = students_scores.T\n",
    "scores_transpose\n",
    "\n",
    "# The first row in this case represents the subject Maths\n",
    "maths_2_scores = scalar * scores_transpose[0, :]\n",
    "print(\"The sum of twice the sum of all the students scores in Maths: \", maths_2_scores)"
   ]
  },
  {
   "cell_type": "markdown",
   "id": "54c20418",
   "metadata": {},
   "source": [
    "**Average Score per Subject (Matrix Operations)**"
   ]
  },
  {
   "cell_type": "markdown",
   "id": "c16f108c",
   "metadata": {},
   "source": [
    "Since the number of students are 4\n",
    "\n",
    "To get the average of each student we multiple each row by 1/4\n",
    "\n",
    "<!-- 80 & 70 & 90 \\\\\n",
    "60 & 85 & 75 \\\\\n",
    "95 & 88 & 92 \\\\\n",
    "70 & 60 & 65 \\\\ -->\n",
    "    Average = 1/4 x  [[80, 70, 90]\n",
    "                      [60, 85, 75]\n",
    "                      [95, 88, 92]\n",
    "                      [70, 60, 65]]\n",
    "\n",
    "\\begin{bmatrix}\n",
    "Subject & Calc(Average) & Average \\\\\n",
    "Maths & (80 + 60 + 95 + 70) * 1/4 & 76.25 \\\\\n",
    "English & (70 + 85 + 88 + 60) * 1/4 & 75.75 \\\\\n",
    "Science & (90 + 75 + 92 + 65) * 1/4 & 80.5 \\\\\n",
    "\\end{bmatrix} \n"
   ]
  },
  {
   "cell_type": "code",
   "execution_count": 4,
   "id": "cee71c04",
   "metadata": {},
   "outputs": [
    {
     "name": "stdout",
     "output_type": "stream",
     "text": [
      "The Average of Maths: 76.25\n",
      "The Average of English: 75.75\n",
      "The Average of English: 80.5\n"
     ]
    }
   ],
   "source": [
    "# Average Score of Mathematics\n",
    "maths_average = students_scores[:, 0].mean()\n",
    "print(f\"The Average of Maths: {maths_average}\")\n",
    "\n",
    "english_average = students_scores[:, 1].mean()\n",
    "print(f\"The Average of English: {english_average}\")\n",
    "\n",
    "science_average = students_scores[:, 2].mean()\n",
    "print(f\"The Average of English: {science_average}\")"
   ]
  },
  {
   "cell_type": "markdown",
   "id": "f60b050a",
   "metadata": {},
   "source": [
    "**Final Grades using Matrix Multiplication with a weight vector (e.g., [0.5, 0.3, 0.2]) to calculate final grades**"
   ]
  },
  {
   "cell_type": "markdown",
   "id": "18b0ed32",
   "metadata": {},
   "source": [
    "To attempt the scalar multiplication, we need the number of columns of the data to be equal to the number of rows of the weight vector\n",
    "\n",
    "\\begin{bmatrix}\n",
    "80 & 70 & 90 \\\\\n",
    "60 & 85 & 75 \\\\\n",
    "95 & 88 & 92 \\\\\n",
    "70 & 60 & 65 \\\\\n",
    "\\end{bmatrix}\n",
    "\n",
    "\\begin{bmatrix}         \n",
    "0.5  \\\\                 \n",
    "0.3 \\\\                  \n",
    "0.2  \\\\                 \n",
    "\\end{bmatrix}\n",
    "\n",
    "\\begin{bmatrix}         \n",
    "(0.5 * 80) + (0.3 * 70) + (0.2 * 90) \\\\                 \n",
    "(0.5 * 60) + (0.3 * 85) + (0.2 * 75) \\\\                 \n",
    "(0.5 * 95) + (0.3 * 88) + (0.2 * 92) \\\\                 \n",
    "(0.5 * 70) + (0.3 * 60) + (0.2 * 65) \\\\                          \n",
    "\\end{bmatrix}\n",
    "\n",
    "\\begin{bmatrix}         \n",
    "40 + 21 + 18 \\\\                 \n",
    "30 + 25.5 + 15 \\\\                 \n",
    "47.5 + 26.4 + 18.4 \\\\                 \n",
    "35 + 18 + 13 \\\\                          \n",
    "\\end{bmatrix}\n",
    "\n",
    "\\begin{bmatrix}         \n",
    "79 \\\\                 \n",
    "70.5 \\\\                 \n",
    "92.3 \\\\                 \n",
    "66 \\\\                          \n",
    "\\end{bmatrix}"
   ]
  },
  {
   "cell_type": "code",
   "execution_count": 9,
   "id": "89497451",
   "metadata": {},
   "outputs": [
    {
     "name": "stdout",
     "output_type": "stream",
     "text": [
      "Final Grades: \n",
      " [[79. ]\n",
      " [70.5]\n",
      " [92.3]\n",
      " [66. ]]\n",
      "Final Grades: \n",
      " [[79. ]\n",
      " [70.5]\n",
      " [92.3]\n",
      " [66. ]]\n",
      "Dimension (4, 1)\n"
     ]
    }
   ],
   "source": [
    "# The data of students as rows and subjects as columns, we have a 4x3\n",
    "# The transpose of the Weight Vector is a 3x1 matrix, this is so that it is compatible for scalar multiplication\n",
    "\n",
    "weight_vector = np.array([[0.5], \n",
    "                          [0.3], \n",
    "                          [0.2]])\n",
    "\n",
    "# This makes it compatible\n",
    "# Calculating final grades using numpy's dot or @\n",
    "final_grades = np.dot(students_scores, weight_vector)\n",
    "\n",
    "# OR\n",
    "\n",
    "final_grades2 = students_scores @ weight_vector\n",
    "\n",
    "# Result is a 4x1 matrix\n",
    "dimension = final_grades2.shape\n",
    "\n",
    "\n",
    "print(\"Final Grades: \\n\", final_grades)\n",
    "print(\"Final Grades: \\n\", final_grades2)\n",
    "print(\"Dimension\", dimension)"
   ]
  },
  {
   "cell_type": "markdown",
   "id": "a516f1d9",
   "metadata": {},
   "source": [
    "**Comparing Students(Vector Subtraction)**"
   ]
  },
  {
   "cell_type": "markdown",
   "id": "2d17e828",
   "metadata": {},
   "source": [
    "\\begin{bmatrix}\n",
    "Student & Maths & English & Science \\\\\n",
    "1 & 80 & 70 & 90 \\\\\n",
    "2 & 60 & 85 & 75 \\\\\n",
    "\\end{bmatrix}\n",
    "\n",
    "        Comparing student 1 and student 2\n",
    "                    Student 1     -    Student 2\n",
    "        Average = [80, 70, 90]    -   [60, 85, 75]\n",
    "\n",
    "\n",
    "\\begin{bmatrix}\n",
    "Subject & Student1 - Student2 \\\\\n",
    "Maths & 80 - 60 \\\\\n",
    "English & 70 - 85 \\\\\n",
    "Science & 90 - 75 \\\\\n",
    "\\end{bmatrix}\n",
    "\n",
    "\\begin{bmatrix}\n",
    "Subject & Comparison \\\\\n",
    "Maths & 20 \\\\\n",
    "English & -15 \\\\\n",
    "Science & 25 \\\\\n",
    "\\end{bmatrix}"
   ]
  },
  {
   "cell_type": "code",
   "execution_count": 12,
   "id": "e84085be",
   "metadata": {},
   "outputs": [
    {
     "name": "stdout",
     "output_type": "stream",
     "text": [
      "Student 1 and scores: \n",
      " [80 70 90]\n",
      "Student 2 and scores: \n",
      " [60 85 75]\n",
      "Comparing Student1 and Student2: \n",
      " [ 20 -15  15]\n"
     ]
    }
   ],
   "source": [
    "student1 = students_scores[0, :]\n",
    "print(\"Student 1 and scores: \\n\", student1)\n",
    "\n",
    "student2 = students_scores[1, :]\n",
    "print(\"Student 2 and scores: \\n\", student2)\n",
    "\n",
    "# Comparing student 1 and student 2\n",
    "comparison = student1 - student2\n",
    "print(\"Comparing Student1 and Student2: \\n\", comparison)"
   ]
  }
 ],
 "metadata": {
  "kernelspec": {
   "display_name": "my_venv",
   "language": "python",
   "name": "python3"
  },
  "language_info": {
   "codemirror_mode": {
    "name": "ipython",
    "version": 3
   },
   "file_extension": ".py",
   "mimetype": "text/x-python",
   "name": "python",
   "nbconvert_exporter": "python",
   "pygments_lexer": "ipython3",
   "version": "3.13.7"
  }
 },
 "nbformat": 4,
 "nbformat_minor": 5
}
