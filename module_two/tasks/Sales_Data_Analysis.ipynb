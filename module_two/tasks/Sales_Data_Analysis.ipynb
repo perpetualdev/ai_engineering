{
 "cells": [
  {
   "cell_type": "code",
   "execution_count": null,
   "metadata": {
    "id": "LSU_xw-Dd7tZ"
   },
   "outputs": [],
   "source": []
  },
  {
   "cell_type": "markdown",
   "metadata": {
    "id": "pi2sKQdjWci_"
   },
   "source": [
    "# 1.0 Extract, Transform and Load"
   ]
  },
  {
   "cell_type": "code",
   "execution_count": 1,
   "metadata": {
    "colab": {
     "base_uri": "https://localhost:8080/"
    },
    "executionInfo": {
     "elapsed": 52914,
     "status": "ok",
     "timestamp": 1729865807895,
     "user": {
      "displayName": "AbdulBasit OLAJIRE",
      "userId": "13126082537182926041"
     },
     "user_tz": 420
    },
    "id": "5MUolpJaKOyw",
    "outputId": "b3e2f1fd-d6c2-4ffc-8d56-9e917f079150"
   },
   "outputs": [
    {
     "ename": "ModuleNotFoundError",
     "evalue": "No module named 'google'",
     "output_type": "error",
     "traceback": [
      "\u001b[31m---------------------------------------------------------------------------\u001b[39m",
      "\u001b[31mModuleNotFoundError\u001b[39m                       Traceback (most recent call last)",
      "\u001b[36mCell\u001b[39m\u001b[36m \u001b[39m\u001b[32mIn[1]\u001b[39m\u001b[32m, line 1\u001b[39m\n\u001b[32m----> \u001b[39m\u001b[32m1\u001b[39m \u001b[38;5;28;01mfrom\u001b[39;00m\u001b[38;5;250m \u001b[39m\u001b[34;01mgoogle\u001b[39;00m\u001b[34;01m.\u001b[39;00m\u001b[34;01mcolab\u001b[39;00m\u001b[38;5;250m \u001b[39m\u001b[38;5;28;01mimport\u001b[39;00m drive\n\u001b[32m      2\u001b[39m drive.mount(\u001b[33m'\u001b[39m\u001b[33m/content/drive\u001b[39m\u001b[33m'\u001b[39m)\n",
      "\u001b[31mModuleNotFoundError\u001b[39m: No module named 'google'"
     ]
    }
   ],
   "source": [
    "from google.colab import drive\n",
    "drive.mount('/content/drive')"
   ]
  },
  {
   "cell_type": "code",
   "execution_count": null,
   "metadata": {
    "colab": {
     "base_uri": "https://localhost:8080/"
    },
    "executionInfo": {
     "elapsed": 6015,
     "status": "ok",
     "timestamp": 1731921525440,
     "user": {
      "displayName": "Emmanuel Odusanya",
      "userId": "03074087659073814634"
     },
     "user_tz": -60
    },
    "id": "HVSpG_t2_O2I",
    "outputId": "ba797add-4205-4de7-f243-c52a6506732b"
   },
   "outputs": [
    {
     "name": "stdout",
     "output_type": "stream",
     "text": [
      "imported successes \n"
     ]
    }
   ],
   "source": [
    "# import neccesary libraries\n",
    "import pandas as pd\n",
    "import numpy as np\n",
    "import matplotlib.pyplot as plt\n",
    "import seaborn as sns\n",
    "\n",
    "print(\"imported successes \")"
   ]
  },
  {
   "cell_type": "code",
   "execution_count": null,
   "metadata": {
    "colab": {
     "base_uri": "https://localhost:8080/",
     "height": 512
    },
    "executionInfo": {
     "elapsed": 555,
     "status": "error",
     "timestamp": 1729865859867,
     "user": {
      "displayName": "AbdulBasit OLAJIRE",
      "userId": "13126082537182926041"
     },
     "user_tz": 420
    },
    "id": "FL9rBNyX_lGv",
    "outputId": "1b2b935c-57c2-4f13-a6f2-ba3ef9b46a56"
   },
   "outputs": [
    {
     "ename": "NameError",
     "evalue": "name 'pd' is not defined",
     "output_type": "error",
     "traceback": [
      "\u001b[31m---------------------------------------------------------------------------\u001b[39m",
      "\u001b[31mNameError\u001b[39m                                 Traceback (most recent call last)",
      "\u001b[36mCell\u001b[39m\u001b[36m \u001b[39m\u001b[32mIn[1]\u001b[39m\u001b[32m, line 3\u001b[39m\n\u001b[32m      1\u001b[39m \u001b[38;5;66;03m#Load in the dataset\u001b[39;00m\n\u001b[32m----> \u001b[39m\u001b[32m3\u001b[39m sales = \u001b[43mpd\u001b[49m.read_csv(\u001b[33m\"\u001b[39m\u001b[33m/content/sales_data.xls\u001b[39m\u001b[33m\"\u001b[39m)\n",
      "\u001b[31mNameError\u001b[39m: name 'pd' is not defined"
     ]
    }
   ],
   "source": [
    "#Load in the dataset\n",
    "\n",
    "import pandas as pd\n",
    "\n",
    "\n",
    "sales = pd.read_csv(\"/content/sales_data.xls\")"
   ]
  },
  {
   "cell_type": "code",
   "execution_count": null,
   "metadata": {
    "id": "Zjen2EaD11vf"
   },
   "outputs": [],
   "source": [
    "\n",
    "## What makes a dirty data?\n",
    "# Missing values\n",
    "\n",
    "# Duplicates\n",
    "# inconsistent data columns\n",
    "# wrong datatype ....>to change datatypes we use \".astype()\" ----> to check datatypes we use \"dtypes\"\n",
    "# incomplete data\n",
    "\n",
    "## Why do we need to clean data? We clean data to ensure\n",
    "# --->Data integrity, accuracy and consistency---->\n",
    "\n",
    "\n",
    "## Data anaysis pipeline\n",
    "#1. ETL (Extract, Transform and Load)\n",
    "#2. creating data model for visualization\n",
    "#3. building dashboard\n",
    "#4. Reporting and presentation\n",
    "\n",
    "## Data Science pipeline\n",
    "#1. Preliminary analysis\n",
    "#2. EDA Exploratory data analysis\n",
    "#3. Data cleaning\n",
    "#4. Analysis(Data Wrangling)\n",
    "#5. Data preprocessing and data mining\n",
    "#6. Building your model(prediction, forcasting, classification, clustering)\n",
    "#7. Reporting and visualization\n",
    "#8. Deployment\n",
    "#9. Maintenance and monitoring\n",
    "#10.Support and troubleshooting\n",
    "#----> Please note that from step2 to step5 is an iterative process that is dependent on step 6. Step 6 itself could also be iterative"
   ]
  },
  {
   "cell_type": "code",
   "execution_count": null,
   "metadata": {
    "id": "5LpYPoG3_0IA"
   },
   "outputs": [],
   "source": [
    "# View a snapshot of your dataset\n",
    "sales.head()"
   ]
  },
  {
   "cell_type": "code",
   "execution_count": null,
   "metadata": {
    "id": "CAb-U7tO_2Zg"
   },
   "outputs": [],
   "source": [
    "# Do a little bit of feature engineering\n",
    "\n",
    "# add revenue column\n",
    "# To create a new column, you start with creating the new columns as a variable name\n",
    "\n",
    "# units X price = Revenue\n",
    "# units * price = Revenue\n",
    "\n",
    "sales[\"Revenue\"] = sales[\"Units\"] * sales[\"Price\"]\n",
    "\n",
    "\n",
    "# round(parameter,2)\n",
    "sales[\"Revenue(N)\"] = round(sales[\"Units\"]*sales[\"Price\"] * 1000,2)\n"
   ]
  },
  {
   "cell_type": "markdown",
   "metadata": {
    "id": "UdVhnSisXhCG"
   },
   "source": [
    "**Feature Engineering**\n",
    "* Explanation:\n",
    "\n",
    "Feature Engineering- This means 3 things, one is useful here and the other two for machine learning. Feature engineering in this context, has to do with creating a new feature or column by combining, extracting or simply doing calculation on an existing column or feature."
   ]
  },
  {
   "cell_type": "code",
   "execution_count": null,
   "metadata": {
    "id": "XnrOwojSAN3P"
   },
   "outputs": [],
   "source": [
    "# view to sse if the changes has been effected\n",
    "sales.head()"
   ]
  },
  {
   "cell_type": "code",
   "execution_count": null,
   "metadata": {
    "id": "dhD1i2R2BF9X"
   },
   "outputs": [],
   "source": [
    "# lets check data types\n",
    "sales.dtypes"
   ]
  },
  {
   "cell_type": "code",
   "execution_count": null,
   "metadata": {
    "id": "jNmAk06XBOM3"
   },
   "outputs": [],
   "source": [
    "# lets convert the date column to datatime\n",
    "# Using \"pd.to_datetime()\" function\n",
    "\n",
    "#to_datetime()\n",
    "\n",
    "# datetime()\n",
    "sales[\"Date\"] = pd.to_datetime(sales[\"Date\"])"
   ]
  },
  {
   "cell_type": "code",
   "execution_count": null,
   "metadata": {
    "id": "TyrxXfuSDOEO"
   },
   "outputs": [],
   "source": [
    "# lets check our data types\n",
    "sales.dtypes"
   ]
  },
  {
   "cell_type": "code",
   "execution_count": null,
   "metadata": {
    "id": "4mRiBsb5DfCI"
   },
   "outputs": [],
   "source": [
    "# lets just plot  this, its not important though.\n",
    "sales.dtypes.value_counts().plot(kind=\"bar\", xlabel = \"Data Types\", ylabel = \"Count\")"
   ]
  },
  {
   "cell_type": "code",
   "execution_count": null,
   "metadata": {
    "id": "FgUXJ9YWElC2"
   },
   "outputs": [],
   "source": [
    "# Lets do more feature engineering\n",
    "\n",
    "# lets  work on our datetime to extract the month,year and week name\n",
    "# using \".dt.year\",\".dt.month_name()\",\".day_name()\n",
    "\n",
    "sales[\"Year\"] = sales[\"Date\"].dt.year\n",
    "sales[\"Month\"] = sales[\"Date\"].dt.month_name()\n",
    "sales[\"Week\"] = sales[\"Date\"].dt.day_name()"
   ]
  },
  {
   "cell_type": "code",
   "execution_count": null,
   "metadata": {
    "id": "2MlmLscRFv99"
   },
   "outputs": [],
   "source": [
    "sales.head()"
   ]
  },
  {
   "cell_type": "markdown",
   "metadata": {
    "id": "Av7_MOpfTuFE"
   },
   "source": [
    "#2.0 Steps to Analysis\n",
    "**Note:** This is after you have followed the ETL(Extract Transform Load) frame work, this is you importing your dataset, cleaning and preparing it for analysis\n",
    "\n",
    "### A. Work on the KPI's (Key performance index of this data)\n",
    "1. Total units sold\n",
    "2. Total Revenue\n",
    "3. Average Revenue per unit\n",
    "4. Numbers of products\n",
    "5. Numbers of Sales Agents\n",
    "\n",
    "### B. Work on the insights by creating models(Note that creating models in data analysis is different from building models in machine learning)\n",
    "1. Total monthly revenue by Year\n",
    "2. Total revenue by branch\n",
    "3. Total revenue by products\n",
    "4. Total revenue by sales agent\n",
    "5. Total revenue by week\n",
    "6. Total revenue by month\n",
    "7. Trends of sales\n",
    "\n",
    "### C. Build your dash board\n",
    "1. Add the title of your analysis.\n",
    "2. Add the business/company\n",
    "3. Add your KPI's\n",
    "4. Add Charts with appropriate labelling\n",
    "5. Add your slicer if you are working with streamlit or excel or PowerBi or Tableau to make your dashboard interactive(if not, exclude it)\n",
    "\n",
    "### C. Report your insights\n",
    "1. Start with the an executive summary briefly explaining what you and briefly introducing the KPI's.\n",
    "2. Explain your insights in a narative and relatable way using your visuals.\n",
    "\n",
    "### D. Make recommendation\n",
    "1. What should the business owner to increase monthly sales\n",
    "2. Which of the brannches should be given more attention\n",
    "3. Which products should be removed from the stock, which products should be purchased more\n",
    "4. Which of the sales agents should be given more incentives/promoted to sales managers position\n",
    "\n"
   ]
  },
  {
   "cell_type": "markdown",
   "metadata": {
    "id": "Eq6Pf3_OWa4q"
   },
   "source": [
    "Ronald Coase-\"if you torture the data long enough, it will confess to anything\""
   ]
  },
  {
   "cell_type": "markdown",
   "metadata": {
    "id": "-nLa9qkXkmgh"
   },
   "source": [
    "### A. Working on the PKI's\n"
   ]
  },
  {
   "cell_type": "code",
   "execution_count": null,
   "metadata": {
    "id": "QDv9P7ogEhdl"
   },
   "outputs": [],
   "source": []
  },
  {
   "cell_type": "code",
   "execution_count": null,
   "metadata": {
    "id": "6DCjVK6PPBI6"
   },
   "outputs": [],
   "source": [
    "#1. Total units sold\n",
    "\n",
    "Total_goods_sold = sales[\"Units\"].sum()\n",
    "print(f\"Total goods sold: {Total_goods_sold} units\")"
   ]
  },
  {
   "cell_type": "code",
   "execution_count": null,
   "metadata": {
    "id": "3MemXQzdlitv"
   },
   "outputs": [],
   "source": [
    "#2. Total Revenue\n",
    "Total_Revenue = sales[\"Revenue(N)\"].sum()\n",
    "print(f\"Total Revenue: N{Total_Revenue}\")"
   ]
  },
  {
   "cell_type": "code",
   "execution_count": null,
   "metadata": {
    "id": "FrxZGVDMluqG"
   },
   "outputs": [],
   "source": [
    "#3. Average Revenue per unit\n",
    "## using \"round() function to approximate to 2 decimal place\"\n",
    "Average_revenue_per_unit = round(Total_Revenue / Total_goods_sold,2)\n",
    "print(f\"Average Revenue per unit: N{Average_revenue_per_unit}\")"
   ]
  },
  {
   "cell_type": "code",
   "execution_count": null,
   "metadata": {
    "id": "z1mP12WCmeT3"
   },
   "outputs": [],
   "source": [
    "#4. Numbers of products\n",
    "## using the .nunique() shows the numbers of unique values\n",
    "Numbers_of_products = sales[\"Products\"].nunique()\n",
    "print(f\"Numbers of products: {Numbers_of_products}\")"
   ]
  },
  {
   "cell_type": "code",
   "execution_count": null,
   "metadata": {
    "id": "u7FNChcqnozo"
   },
   "outputs": [],
   "source": [
    "#5. Numbers of Sales Agents\n",
    "Numbers_of_sales_agents = sales[\"Sales Agent\"].nunique()\n",
    "print(f\"Numbers of Sales Agents: {Numbers_of_sales_agents}\")"
   ]
  },
  {
   "cell_type": "markdown",
   "metadata": {
    "id": "i-br0R9un9AH"
   },
   "source": [
    "##B. Work on the insights by creating models and plotting their charts."
   ]
  },
  {
   "cell_type": "code",
   "execution_count": null,
   "metadata": {
    "id": "PvjbPHJMF1gd"
   },
   "outputs": [],
   "source": [
    "# Set index using the date column\n",
    "sales.set_index(\"Date\", inplace=True)"
   ]
  },
  {
   "cell_type": "markdown",
   "metadata": {
    "id": "ScmTc_bfMdeS"
   },
   "source": [
    "Class Task1: Calculate the Total Monthly revenue for year 2015 and plot the chart using 3 visualization packages in python"
   ]
  },
  {
   "cell_type": "markdown",
   "metadata": {
    "id": "OJUFyO6LMyBt"
   },
   "source": []
  },
  {
   "cell_type": "code",
   "execution_count": null,
   "metadata": {
    "id": "oCOlGQMrI127"
   },
   "outputs": [],
   "source": [
    "sales.Year.unique()"
   ]
  },
  {
   "cell_type": "code",
   "execution_count": null,
   "metadata": {
    "id": "BEkdom-nJg_J"
   },
   "outputs": [],
   "source": [
    "sales_2015 = sales[sales[\"Year\"] == 2015]"
   ]
  },
  {
   "cell_type": "code",
   "execution_count": null,
   "metadata": {
    "id": "hDF0yunEG6Ak"
   },
   "outputs": [],
   "source": [
    "#1. Filtering\n",
    "#2. Grouping\n",
    "#3. Visuals\n",
    "\n",
    "# lets start analysing this dataset for insights\n",
    "\n",
    "\n",
    "\n",
    "\n",
    "\n",
    "# 1. Monthly revenue in 2015\n",
    "\n",
    "# step1: Filter for 2015\n",
    "\n",
    "\n",
    "\n",
    "sales_2015 = sales[sales[\"Year\"] == 2015]\n",
    "sales_2015.head(3)"
   ]
  },
  {
   "cell_type": "code",
   "execution_count": null,
   "metadata": {
    "id": "UrIHHN6tJDl0"
   },
   "outputs": [],
   "source": [
    "# Step2:\n",
    "# I am using the .sort_index() to arrange the output, so the arrangement is done base on the index\n",
    "Total_monthly_revenue = sales_2015.groupby(\"Month\")[\"Revenue(N)\"].sum().sort_index()\n",
    "Total_monthly_revenue"
   ]
  },
  {
   "cell_type": "code",
   "execution_count": null,
   "metadata": {
    "id": "8zdyZXuIOaOs"
   },
   "outputs": [],
   "source": [
    "# I am using the .sort_values() to arrange the output, so the arrangement is done base on the values\n",
    "\n",
    "Total_monthly_revenue = sales_2015.groupby(\"Month\")[\"Revenue(N)\"].sum().sort_values(ascending = False)\n",
    "Total_monthly_revenue"
   ]
  },
  {
   "cell_type": "code",
   "execution_count": null,
   "metadata": {
    "id": "nazymC2pIDnX"
   },
   "outputs": [],
   "source": [
    "# lets put this in a plot using pandas\n",
    "Total_monthly_revenue.plot(kind = \"bar\",xlabel = \"Month\", ylabel =\"Revenue(N)\")"
   ]
  },
  {
   "cell_type": "code",
   "execution_count": null,
   "metadata": {
    "id": "jKxq-UZlK3kl"
   },
   "outputs": [],
   "source": [
    "# lets use matlplotlib\n",
    "plt.bar(Total_monthly_revenue.index, Total_monthly_revenue.values)\n",
    "plt.xlabel(\"Month\")\n",
    "plt.ylabel(\"Revenue(N)\")\n",
    "plt.title(\"Monthly Revenue in 2015\")\n",
    "plt.xticks(rotation = 45)\n",
    "plt.show()"
   ]
  },
  {
   "cell_type": "markdown",
   "metadata": {
    "id": "w_ehVOcHMAvS"
   },
   "source": [
    "Student Task1: Follow the same step and calculate the monthly revenue for 2014 and plot that charts using the 3 visualization packages in python."
   ]
  },
  {
   "cell_type": "code",
   "execution_count": null,
   "metadata": {
    "id": "BJeHWgl6L_Cb"
   },
   "outputs": [],
   "source": [
    "#2. Total revenue by branch\n",
    "\n",
    "# lest check the branches we have first\n",
    "sales[\"Branch\"].unique()"
   ]
  },
  {
   "cell_type": "code",
   "execution_count": null,
   "metadata": {
    "id": "D5ihMtj5pgDW"
   },
   "outputs": [],
   "source": [
    "Total_revenue_by_branch = sales.groupby(\"Branch\")[\"Revenue(N)\"].sum().sort_values(ascending = False)\n",
    "Total_revenue_by_branch"
   ]
  },
  {
   "cell_type": "code",
   "execution_count": null,
   "metadata": {
    "id": "7rl51StqpiIW"
   },
   "outputs": [],
   "source": [
    "# plot the chart for Total Revenue by branch using matplotlib\n",
    "plt.pie(Total_revenue_by_branch.values, labels=Total_revenue_by_branch.index, autopct='%1.1f%%')\n",
    "plt.xlabel(\"Branch\")\n",
    "plt.ylabel(\"Revenue(N)\")\n",
    "plt.title(\"Total Revenue by Branch\")\n",
    "plt.show()"
   ]
  },
  {
   "cell_type": "code",
   "execution_count": null,
   "metadata": {
    "id": "giKYesl4p38B"
   },
   "outputs": [],
   "source": [
    "#Total revenue by products\n",
    "## lers check the products available first\n",
    "sales[\"Products\"].unique()\n"
   ]
  },
  {
   "cell_type": "code",
   "execution_count": null,
   "metadata": {
    "id": "syuz5HoqGMpu"
   },
   "outputs": [],
   "source": []
  },
  {
   "cell_type": "code",
   "execution_count": null,
   "metadata": {
    "id": "DmowuIXurEt2"
   },
   "outputs": [],
   "source": [
    "Total_revenue_by_product = sales.groupby(\"Products\")[\"Revenue(N)\"].sum().sort_values(ascending = False)\n",
    "Total_revenue_by_product"
   ]
  },
  {
   "cell_type": "code",
   "execution_count": null,
   "metadata": {
    "id": "CPnfed1nrL_w"
   },
   "outputs": [
    {
     "ename": "NameError",
     "evalue": "name 'plt' is not defined",
     "output_type": "error",
     "traceback": [
      "\u001b[31m---------------------------------------------------------------------------\u001b[39m",
      "\u001b[31mNameError\u001b[39m                                 Traceback (most recent call last)",
      "\u001b[36mCell\u001b[39m\u001b[36m \u001b[39m\u001b[32mIn[1]\u001b[39m\u001b[32m, line 2\u001b[39m\n\u001b[32m      1\u001b[39m \u001b[38;5;66;03m# LEts plot\u001b[39;00m\n\u001b[32m----> \u001b[39m\u001b[32m2\u001b[39m \u001b[43mplt\u001b[49m.pie(Total_revenue_by_product.values, labels=Total_revenue_by_product.index, autopct=\u001b[33m'\u001b[39m\u001b[38;5;132;01m%1.1f\u001b[39;00m\u001b[38;5;132;01m%%\u001b[39;00m\u001b[33m'\u001b[39m)\n\u001b[32m      3\u001b[39m plt.xlabel(\u001b[33m\"\u001b[39m\u001b[33mProduct\u001b[39m\u001b[33m\"\u001b[39m)\n\u001b[32m      4\u001b[39m plt.ylabel(\u001b[33m\"\u001b[39m\u001b[33mRevenue(N)\u001b[39m\u001b[33m\"\u001b[39m)\n",
      "\u001b[31mNameError\u001b[39m: name 'plt' is not defined"
     ]
    }
   ],
   "source": [
    "# LEts plot\n",
    "plt.pie(Total_revenue_by_product.values, labels=Total_revenue_by_product.index, autopct='%1.1f%%')\n",
    "plt.xlabel(\"Product\")\n",
    "plt.ylabel(\"Revenue(N)\")\n",
    "plt.title(\"Total Revenue by Product\")\n",
    "plt.show()"
   ]
  },
  {
   "cell_type": "code",
   "execution_count": null,
   "metadata": {
    "id": "OkFf55tOrhTV"
   },
   "outputs": [],
   "source": [
    "#3. Total revenue by sales agent\n",
    "\n",
    "#Lets check who our sales agents are\n",
    "sales[\"Sales Agent\"].unique()"
   ]
  },
  {
   "cell_type": "code",
   "execution_count": null,
   "metadata": {
    "id": "UZo5pP1yrtFe"
   },
   "outputs": [],
   "source": [
    "Total_revenue_by_sales_agent = sales.groupby(\"Sales Agent\")[\"Revenue(N)\"].sum().sort_values(ascending = False)\n",
    "Total_revenue_by_sales_agent"
   ]
  },
  {
   "cell_type": "code",
   "execution_count": null,
   "metadata": {
    "id": "LUcAhxzxr0kf"
   },
   "outputs": [],
   "source": [
    "# lets plot using seaborn barchart\n",
    "sns.barplot(x = Total_revenue_by_sales_agent.values, y = Total_revenue_by_sales_agent.index, orient = \"h\")"
   ]
  },
  {
   "cell_type": "code",
   "execution_count": null,
   "metadata": {
    "id": "unrQ9kDqsbg8"
   },
   "outputs": [],
   "source": [
    "#4. Total revenue by week\n",
    "Total_revenue_by_week = sales.groupby(\"Week\")[\"Revenue(N)\"].sum().sort_values(ascending = False)\n",
    "Total_revenue_by_week"
   ]
  },
  {
   "cell_type": "code",
   "execution_count": null,
   "metadata": {
    "id": "AeXW4tj8smV8"
   },
   "outputs": [],
   "source": [
    "# lets plot this using line chart\n",
    "plt.plot(Total_revenue_by_week.index, Total_revenue_by_week.values)\n",
    "plt.xlabel(\"Week\")\n",
    "plt.ylabel(\"Revenue(N)\")\n",
    "plt.title(\"Total Revenue by Week\")\n",
    "plt.show()"
   ]
  },
  {
   "cell_type": "code",
   "execution_count": null,
   "metadata": {
    "id": "gXIZvYzAtg_U"
   },
   "outputs": [],
   "source": [
    "#5. Total revenue by month\n",
    "Total_revenue_by_month = sales.groupby(\"Month\")[\"Revenue(N)\"].sum().sort_values(ascending = False)\n",
    "Total_revenue_by_month"
   ]
  },
  {
   "cell_type": "code",
   "execution_count": null,
   "metadata": {
    "id": "YJuWJiyWtmdk"
   },
   "outputs": [],
   "source": [
    "# plot using searborn line chart\n",
    "sns.lineplot(x = Total_revenue_by_month.index, y = Total_revenue_by_month.values)\n",
    "plt.xlabel(\"Month\")\n",
    "plt.xticks(rotation = 45)\n",
    "plt.ylabel(\"Revenue(N)\")\n",
    "plt.title(\"Total Revenue by Month\")\n",
    "plt.show()"
   ]
  },
  {
   "cell_type": "code",
   "execution_count": null,
   "metadata": {
    "id": "Z9vvEznLuNl8"
   },
   "outputs": [],
   "source": [
    "#6. Trends of sales\n",
    "Trends_of_sales_over_the_year = sales.groupby([\"Year\",\"Month\"])[\"Revenue(N)\"].sum().reset_index()\n",
    "Trends_of_sales_over_the_year"
   ]
  },
  {
   "cell_type": "code",
   "execution_count": null,
   "metadata": {
    "id": "sfjBmJbtufG-"
   },
   "outputs": [],
   "source": [
    "# lets plot\n",
    "plt.plot(Trends_of_sales_over_the_year[\"Month\"], Trends_of_sales_over_the_year[\"Revenue(N)\"])"
   ]
  }
 ],
 "metadata": {
  "colab": {
   "provenance": []
  },
  "kernelspec": {
   "display_name": "my_venv",
   "language": "python",
   "name": "python3"
  },
  "language_info": {
   "codemirror_mode": {
    "name": "ipython",
    "version": 3
   },
   "file_extension": ".py",
   "mimetype": "text/x-python",
   "name": "python",
   "nbconvert_exporter": "python",
   "pygments_lexer": "ipython3",
   "version": "3.13.7"
  }
 },
 "nbformat": 4,
 "nbformat_minor": 0
}
