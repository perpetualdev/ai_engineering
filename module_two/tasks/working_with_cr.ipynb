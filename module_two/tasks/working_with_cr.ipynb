{
 "cells": [
  {
   "cell_type": "markdown",
   "id": "0cbf1860",
   "metadata": {},
   "source": [
    "### **1. Correlation**"
   ]
  },
  {
   "cell_type": "code",
   "execution_count": 1,
   "id": "cfec409a",
   "metadata": {},
   "outputs": [],
   "source": [
    "import pandas as pd\n",
    "import numpy as np\n",
    "import matplotlib.pyplot as plt\n",
    "import seaborn as sns\n",
    "\n",
    "# Set seed for reproducibility\n",
    "np.random.seed(234)"
   ]
  },
  {
   "cell_type": "code",
   "execution_count": null,
   "id": "20026b5f",
   "metadata": {},
   "outputs": [],
   "source": [
    "# Create synthetic dataset\n",
    "students = 40\n",
    "study_hours = np.random.randint(1, 10, students)\n",
    "job_hours = np.random.randint"
   ]
  }
 ],
 "metadata": {
  "kernelspec": {
   "display_name": "my_venv",
   "language": "python",
   "name": "python3"
  },
  "language_info": {
   "codemirror_mode": {
    "name": "ipython",
    "version": 3
   },
   "file_extension": ".py",
   "mimetype": "text/x-python",
   "name": "python",
   "nbconvert_exporter": "python",
   "pygments_lexer": "ipython3",
   "version": "3.13.7"
  }
 },
 "nbformat": 4,
 "nbformat_minor": 5
}
