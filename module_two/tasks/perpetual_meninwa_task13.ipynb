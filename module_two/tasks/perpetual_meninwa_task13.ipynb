{
 "cells": [
  {
   "cell_type": "markdown",
   "id": "75e8caa2",
   "metadata": {},
   "source": [
    "### Create a 6X6 NumPy array with random integers between 1 and 50."
   ]
  },
  {
   "cell_type": "code",
   "execution_count": 2,
   "id": "b9049a47",
   "metadata": {},
   "outputs": [
    {
     "data": {
      "text/plain": [
       "array([[30, 45, 28, 38,  2, 44],\n",
       "       [20,  9, 23, 40,  1, 16],\n",
       "       [28, 35, 43, 41, 30, 27],\n",
       "       [39,  3, 34, 25, 27, 10],\n",
       "       [ 2, 27, 31, 15, 14,  2],\n",
       "       [46, 11, 37,  7, 17, 34]], dtype=int32)"
      ]
     },
     "execution_count": 2,
     "metadata": {},
     "output_type": "execute_result"
    }
   ],
   "source": [
    "import numpy as np\n",
    "\n",
    "# using the random numpy function to generate random nums from 1 to 50\n",
    "new_range = np.random.randint(1, 50, (6, 6))\n",
    "new_range"
   ]
  },
  {
   "cell_type": "markdown",
   "id": "afce0931",
   "metadata": {},
   "source": [
    "### Extract the following:\n",
    "- The first two rows"
   ]
  },
  {
   "cell_type": "code",
   "execution_count": 3,
   "id": "21737046",
   "metadata": {},
   "outputs": [
    {
     "data": {
      "text/plain": [
       "array([[30, 45, 28, 38,  2, 44],\n",
       "       [20,  9, 23, 40,  1, 16]], dtype=int32)"
      ]
     },
     "execution_count": 3,
     "metadata": {},
     "output_type": "execute_result"
    }
   ],
   "source": [
    "ext1 = new_range[0:2, 0:]\n",
    "\n",
    "ext1"
   ]
  },
  {
   "cell_type": "markdown",
   "id": "6f9fbe02",
   "metadata": {},
   "source": [
    "- The last three columns"
   ]
  },
  {
   "cell_type": "code",
   "execution_count": 4,
   "id": "0ebb5e15",
   "metadata": {},
   "outputs": [
    {
     "data": {
      "text/plain": [
       "array([[38,  2, 44],\n",
       "       [40,  1, 16],\n",
       "       [41, 30, 27],\n",
       "       [25, 27, 10],\n",
       "       [15, 14,  2],\n",
       "       [ 7, 17, 34]], dtype=int32)"
      ]
     },
     "execution_count": 4,
     "metadata": {},
     "output_type": "execute_result"
    }
   ],
   "source": [
    "ext2 = new_range[0:, -3:]\n",
    "\n",
    "ext2"
   ]
  },
  {
   "cell_type": "markdown",
   "id": "62862bc5",
   "metadata": {},
   "source": [
    "- All even numbers"
   ]
  },
  {
   "cell_type": "code",
   "execution_count": 5,
   "id": "9c17ae32",
   "metadata": {},
   "outputs": [
    {
     "data": {
      "text/plain": [
       "array([30, 28, 38,  2, 44, 20, 40, 16, 28, 30, 34, 10,  2, 14,  2, 46, 34],\n",
       "      dtype=int32)"
      ]
     },
     "execution_count": 5,
     "metadata": {},
     "output_type": "execute_result"
    }
   ],
   "source": [
    "even_nums = new_range[new_range % 2 == 0]\n",
    "\n",
    "even_nums"
   ]
  },
  {
   "cell_type": "markdown",
   "id": "4564ada7",
   "metadata": {},
   "source": [
    "- Reshape into a 3D (3, 2, 6) array"
   ]
  },
  {
   "cell_type": "code",
   "execution_count": 6,
   "id": "3cf5448e",
   "metadata": {},
   "outputs": [
    {
     "data": {
      "text/plain": [
       "array([[[30, 45, 28, 38,  2, 44],\n",
       "        [20,  9, 23, 40,  1, 16]],\n",
       "\n",
       "       [[28, 35, 43, 41, 30, 27],\n",
       "        [39,  3, 34, 25, 27, 10]],\n",
       "\n",
       "       [[ 2, 27, 31, 15, 14,  2],\n",
       "        [46, 11, 37,  7, 17, 34]]], dtype=int32)"
      ]
     },
     "execution_count": 6,
     "metadata": {},
     "output_type": "execute_result"
    }
   ],
   "source": [
    "new_shape = new_range.reshape(3, 2, 6)\n",
    "\n",
    "new_shape"
   ]
  },
  {
   "cell_type": "markdown",
   "id": "3bdced00",
   "metadata": {},
   "source": [
    "- Flatten the reshaped array into a 1D array"
   ]
  },
  {
   "cell_type": "code",
   "execution_count": 7,
   "id": "debc76b0",
   "metadata": {},
   "outputs": [
    {
     "data": {
      "text/plain": [
       "array([30, 45, 28, 38,  2, 44, 20,  9, 23, 40,  1, 16, 28, 35, 43, 41, 30,\n",
       "       27, 39,  3, 34, 25, 27, 10,  2, 27, 31, 15, 14,  2, 46, 11, 37,  7,\n",
       "       17, 34], dtype=int32)"
      ]
     },
     "execution_count": 7,
     "metadata": {},
     "output_type": "execute_result"
    }
   ],
   "source": [
    "flatten_arr = new_shape.flatten()\n",
    "\n",
    "flatten_arr"
   ]
  },
  {
   "cell_type": "markdown",
   "id": "64a9c6df",
   "metadata": {},
   "source": [
    "- Generate a 4X4 identity matrix and replace the diagonal with numbers from 10 to 40, with a step of 10"
   ]
  },
  {
   "cell_type": "code",
   "execution_count": 8,
   "id": "4664a7ea",
   "metadata": {},
   "outputs": [
    {
     "name": "stdout",
     "output_type": "stream",
     "text": [
      "[[10  0  0  0]\n",
      " [ 0 20  0  0]\n",
      " [ 0  0 30  0]\n",
      " [ 0  0  0 40]]\n"
     ]
    }
   ],
   "source": [
    "# np.diag(np.arange(10, 50, 10))\n",
    "\n",
    "# Create a 2D array with what you specify as the diagonal and zeros on the rest\n",
    "identity_matrix = np.eye(4, dtype=int)\n",
    "\n",
    "# Replace the diagonal with a new one from range 10 to 40, with a step of 10\n",
    "np.fill_diagonal(identity_matrix, np.arange(10, 41, 10))\n",
    "\n",
    "print(identity_matrix)\n"
   ]
  },
  {
   "cell_type": "markdown",
   "id": "62e14f8f",
   "metadata": {},
   "source": [
    "- Perform matrix multiplication between: A 3X4 matrix of random integers (1-10) and A 4X3 matix of random integers (1-10)"
   ]
  },
  {
   "cell_type": "code",
   "execution_count": 9,
   "id": "d9f853c1",
   "metadata": {},
   "outputs": [
    {
     "data": {
      "text/plain": [
       "array([[ 97, 103, 111],\n",
       "       [ 94,  95,  91],\n",
       "       [127,  98, 143]], dtype=int32)"
      ]
     },
     "execution_count": 9,
     "metadata": {},
     "output_type": "execute_result"
    }
   ],
   "source": [
    "matrix_one = np.random.randint(1, 10, (3, 4))\n",
    "matrix_two = np.random.randint(1, 10, (4, 3))\n",
    "matrixmul = np.matmul(matrix_one, matrix_two)\n",
    "\n",
    "matrixmul"
   ]
  },
  {
   "cell_type": "markdown",
   "id": "53322797",
   "metadata": {},
   "source": [
    "Create a function that takes a 2D NumPy array as input and returns a new array where:\n",
    "- All even numbers are squared\n",
    "- All odd numbers are replaced by -1"
   ]
  },
  {
   "cell_type": "code",
   "execution_count": null,
   "id": "0157700f",
   "metadata": {},
   "outputs": [
    {
     "name": "stdout",
     "output_type": "stream",
     "text": [
      "[[  0  -1   4  -1]\n",
      " [ 16  -1  36  -1]\n",
      " [ 64  -1 100  -1]]\n"
     ]
    }
   ],
   "source": [
    "def arr_matrix():\n",
    "  # Take the input for rows and columns from the user\n",
    "  x = int(input(\"Please enter the number of rows: \"))\n",
    "  y = int(input(\"Please enter the number of columns: \"))\n",
    "\n",
    "  # Create a 2D NumPy array using the input from the user\n",
    "  arr = np.arange(x * y).reshape(x, y)\n",
    "\n",
    "  # Using the where function, return the squared even numbers and replace the odd numbers by -1\n",
    "  new_arr = np.where(arr % 2 == 0, arr**2, -1)\n",
    "  print(new_arr)\n",
    "  \n",
    "  # Output is a row of 3 and column of 4\n",
    "  \n",
    "arr_matrix()"
   ]
  }
 ],
 "metadata": {
  "kernelspec": {
   "display_name": "my_venv",
   "language": "python",
   "name": "python3"
  },
  "language_info": {
   "codemirror_mode": {
    "name": "ipython",
    "version": 3
   },
   "file_extension": ".py",
   "mimetype": "text/x-python",
   "name": "python",
   "nbconvert_exporter": "python",
   "pygments_lexer": "ipython3",
   "version": "3.13.5"
  }
 },
 "nbformat": 4,
 "nbformat_minor": 5
}
