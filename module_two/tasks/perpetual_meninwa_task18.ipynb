{
 "cells": [
  {
   "cell_type": "markdown",
   "id": "ea7f76a2",
   "metadata": {},
   "source": [
    "## Mean, Median & Mode"
   ]
  },
  {
   "cell_type": "markdown",
   "id": "77bb5be8",
   "metadata": {},
   "source": [
    "**1. Class Test Scores**"
   ]
  },
  {
   "cell_type": "markdown",
   "id": "5c91fad5",
   "metadata": {},
   "source": [
    "The following are the Mathematics test scores (out of 20) for a class of 15 students:\n",
    "\n",
    "```\n",
    " 5, 8, 10, 12, 12, 12, 13, 14, 14, 15, 16, 18, 18, 20, 20\n",
    "```\n",
    "\n"
   ]
  },
  {
   "cell_type": "markdown",
   "id": "f9462b70",
   "metadata": {},
   "source": [
    "**Mean**\n",
    "\n",
    "$$\n",
    "\\frac{1}{n}\\sum_{i=1}^n{x_i}\n",
    "$$\n",
    "\n",
    "\n",
    "$$\n",
    "\\frac{5 + 8 + 10 + 12 + 12 + 12 + 13 + 14 + 14 + 15 + 16 + 18 + 18 + 20 + 20}{15}\n",
    "$$\n",
    "\n",
    "$$\n",
    "\\frac{207}{15}\n",
    "$$\n",
    "\n",
    "    Mean = 13.8\n"
   ]
  },
  {
   "cell_type": "markdown",
   "id": "4fd66cc2",
   "metadata": {},
   "source": [
    "**Median**\n"
   ]
  },
  {
   "cell_type": "markdown",
   "id": "5923adcf",
   "metadata": {},
   "source": [
    "Since the data is already sorted in ascending order, we just need to get the median\n",
    "\n",
    "    Median = 14 (the 8th value)"
   ]
  },
  {
   "cell_type": "markdown",
   "id": "ba769909",
   "metadata": {},
   "source": [
    "**Mode**"
   ]
  },
  {
   "cell_type": "markdown",
   "id": "314b85b4",
   "metadata": {},
   "source": [
    "The highest occuring value is 12\n",
    "\n",
    "    Mode = 12"
   ]
  },
  {
   "cell_type": "markdown",
   "id": "f9d633d6",
   "metadata": {},
   "source": [
    "If the lowest score (5) was wrongly recorded and should have been 10, the mean would change because the total value would change\n",
    "\n",
    "$$\n",
    "\\frac{8 + 10 + 10 + 12 + 12 + 12 + 13 + 14 + 14 + 15 + 16 + 18 + 18 + 20 + 20}{15}\n",
    "$$\n",
    "\n",
    "$$\n",
    "\\frac{212}{15}\n",
    "$$\n",
    "\n",
    "    Mean = 14.13\n",
    "\n",
    "The median will not change because the middle value is still 14 and it is still the 8th value\n",
    "\n",
    "The mode will not change because 12 is still the highest occuring value\n",
    "\n"
   ]
  },
  {
   "cell_type": "markdown",
   "id": "3152387c",
   "metadata": {},
   "source": [
    "**2. Daily Commute Times**"
   ]
  },
  {
   "cell_type": "markdown",
   "id": "b8723625",
   "metadata": {},
   "source": [
    "A group of 9 students reported the time (in minutes) it takes them to get to school each day:\n",
    "\n",
    " 15, 20, 20, 25, 25, 30, 60, 65, 120\n"
   ]
  },
  {
   "cell_type": "markdown",
   "id": "faae7061",
   "metadata": {},
   "source": [
    "**Mean**\n",
    "\n",
    "$$\n",
    "\\frac{15 + 20 + 20 + 25 + 25 + 30 + 60 + 65 + 120}{9}\n",
    "$$\n",
    "\n",
    "$$\n",
    "\\frac{380}{9}\n",
    "$$\n",
    "\n",
    "    Mean = 42.2"
   ]
  },
  {
   "cell_type": "markdown",
   "id": "c21583df",
   "metadata": {},
   "source": [
    "**Median**\n",
    "\n",
    "As the data set is sorted\n",
    "\n",
    "    Median = 25"
   ]
  },
  {
   "cell_type": "markdown",
   "id": "2443f7a1",
   "metadata": {},
   "source": [
    "**Mode**\n",
    "\n",
    "    Mode = 20 and 25"
   ]
  },
  {
   "cell_type": "markdown",
   "id": "7bf369f9",
   "metadata": {},
   "source": [
    "Which measure (mean, median, or mode) do you think best represents the “typical” time it takes students to get to school? Why?\n",
    " (Hint: Think about the effect of the student who takes 120 minutes.)\n",
    "\n",
    "Mean will definitely not be the best to represent the typical time because:\n",
    "- of the outliers such as 60, 65 and 120\n",
    "- the average/mean is much more than 50% of the median\n",
    "\n",
    "Mode will definitely not be the best to represent the typical time because it is bimodal\n",
    "\n",
    "The best way to represent the \"typical\" time is Median\n",
    "Reason\n",
    "- It is not sensitive to Outliers (extreme values)\n",
    "- At least 50% of the dataset is less than or equal to and at least 50% is also greater than or equal to the median \n"
   ]
  },
  {
   "cell_type": "markdown",
   "id": "0a9af038",
   "metadata": {},
   "source": [
    "**3. Shoe Sizes**\n",
    "\n",
    "The shoe sizes of students in a class are:\n",
    " \n",
    " 38, 39, 38, 40, 41, 42, 39, 39, 40, 38, 37, 39, 40, 41, 42\n"
   ]
  },
  {
   "cell_type": "markdown",
   "id": "6f73ab3c",
   "metadata": {},
   "source": [
    "**Mode**\n",
    "\n",
    "The highest occuring number is 39"
   ]
  },
  {
   "cell_type": "markdown",
   "id": "e27d76f5",
   "metadata": {},
   "source": [
    "If a shoe company wants to donate free shoes, which size should they produce most of? Why?\n",
    "\n",
    "Size 37\n",
    "\n",
    "This is because Size 37 is the least occuring size"
   ]
  },
  {
   "cell_type": "markdown",
   "id": "dbd8e73f",
   "metadata": {},
   "source": [
    "What if they only want to produce one size that would fit the \"average\" student? Should they use mean, median, or mode? Defend your answer.\n",
    "\n",
    "They would use mean because that way we can get the size that would fit the average student\n",
    "\n",
    "$$\n",
    "Mean = \\frac{38 + 39 + 38 + 40 + 41 + 42 + 39 + 39 + 40 + 38 + 37 + 39 + 40 + 41 + 42}{15}\n",
    "$$\n",
    "\n",
    "$$\n",
    "\\frac{593}{15}\n",
    "$$\n",
    "\n",
    "$$\n",
    "Mean = 39.5\n",
    "$$\n"
   ]
  }
 ],
 "metadata": {
  "kernelspec": {
   "display_name": "my_venv",
   "language": "python",
   "name": "python3"
  },
  "language_info": {
   "codemirror_mode": {
    "name": "ipython",
    "version": 3
   },
   "file_extension": ".py",
   "mimetype": "text/x-python",
   "name": "python",
   "nbconvert_exporter": "python",
   "pygments_lexer": "ipython3",
   "version": "3.13.7"
  }
 },
 "nbformat": 4,
 "nbformat_minor": 5
}
