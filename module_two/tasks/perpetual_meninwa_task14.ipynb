{
 "cells": [
  {
   "cell_type": "markdown",
   "id": "8feb22a2",
   "metadata": {},
   "source": [
    "# Class Task 2"
   ]
  },
  {
   "cell_type": "markdown",
   "id": "f127f809",
   "metadata": {},
   "source": [
    "**Identify the number of rows and columns in each matrix**"
   ]
  },
  {
   "cell_type": "markdown",
   "id": "74c717f3",
   "metadata": {},
   "source": [
    "#### Matrix A\n",
    "\n",
    "Rows - 2\n",
    "Columns - 3\n",
    "\n",
    "The order for matrix A is a (2 X 3)\n",
    "\n",
    "\n",
    "#### Matrix B\n",
    "\n",
    "Rows - 3\n",
    "Columns - 2\n",
    "\n",
    "The order for matrix B is a (3 X 2)"
   ]
  },
  {
   "cell_type": "code",
   "execution_count": 6,
   "id": "b86d13ce",
   "metadata": {},
   "outputs": [
    {
     "name": "stdout",
     "output_type": "stream",
     "text": [
      "(n, m) for matrix 'a', n rep rows and m rep columns: (2, 3)\n",
      "(n, m) for matrix 'b', n rep rows and m rep columns: (3, 2)\n"
     ]
    }
   ],
   "source": [
    "# using numpy\n",
    "import numpy as np\n",
    "\n",
    "# Creating the first 2 X 3 matrix \n",
    "a = np.array([[2, -1, 3],\n",
    "          [0, 4, 1]])\n",
    "\n",
    "# Creating the second 3 X 2 matrix \n",
    "b = np.array([[1, 2], \n",
    "              [-2, 0], \n",
    "              [5, -3]])\n",
    "\n",
    "# To identify the number of rows and columns in matrix a:\n",
    "print(f\"(n, m) for matrix 'a', n rep rows and m rep columns: {a.shape}\")\n",
    "# To identify the number of rows and columns in matrix b:\n",
    "print(f\"(n, m) for matrix 'b', n rep rows and m rep columns: {b.shape}\")"
   ]
  },
  {
   "cell_type": "markdown",
   "id": "26a19131",
   "metadata": {},
   "source": [
    "**Determine whether the matrices can be multiplied, if so specify whether it is AB, BA or both**"
   ]
  },
  {
   "cell_type": "markdown",
   "id": "df2a88bf",
   "metadata": {},
   "source": [
    "Since the number of columns for the first matrix (A) is equal to the number of rows for the second matrix identified as B, they can be multipled AB. \n",
    "\n",
    "Matrix A\n",
    "\n",
    "| 2,   3 |\n",
    "\n",
    "Matrix B\n",
    "\n",
    "| 3,   2 |\n",
    "\n",
    "Also the number of columns for the second matrix (B) is equal to the number of rows for the first matrix (A), they can also be multipled AB\n",
    "\n",
    "Matrix B\n",
    "\n",
    "| 3,   2 |\n",
    "\n",
    "Matrix A\n",
    "\n",
    "| 2,   3 |\n",
    "\n",
    "Although they would give different results as AB != BA (matrix multiplication is not commutative)"
   ]
  },
  {
   "cell_type": "markdown",
   "id": "75eb38dc",
   "metadata": {},
   "source": [
    "**Compute the resulting matrix**"
   ]
  },
  {
   "cell_type": "markdown",
   "id": "563a3337",
   "metadata": {},
   "source": [
    "**_Multiplying AB_**\n",
    "\n",
    "A = \n",
    "\n",
    "      np.array([[2, -1, 3],\n",
    "              [0, 4, 1]])\n",
    "\n",
    "B = \n",
    "      \n",
    "      np.array([[1, 2], \n",
    "              [-2, 0], \n",
    "              [5, -3]])\n",
    "\n",
    "\n",
    "AB = \n",
    "\n",
    "      Row 1, column 1            Row 1, column 2\n",
    "      [[(2*1) + (-1*-2) + (3*5), (2*2) + (-1*0) + (3*-3)],\n",
    "      Row 2, column 1           Row 2, column 2\n",
    "      [(0*1) + (4*-2) + (1*5), (0*2) + (4*0) + (1*-3)]]\n",
    "\n",
    "AB = \n",
    "\n",
    "      [[(2 + 2 + 15), (4 + 0 + -9)],\n",
    "      [(0 + -8 + 5), (0 + 0 + -3)]]\n",
    "\n",
    "AB = \n",
    "\n",
    "      [[19, -5], \n",
    "      [-3, -3]]\n",
    "\n",
    "_The result is a 2 X 2 matrix_\n",
    "\n",
    "\n",
    "\n",
    "**_Multiplying BA_**\n",
    "\n",
    "B = \n",
    "\n",
    "      np.array([[1, 2], \n",
    "              [-2, 0], \n",
    "              [5, -3]])\n",
    "\n",
    "A = \n",
    "\n",
    "      np.array([[2, -1, 3],\n",
    "              [0, 4, 1]])\n",
    "\n",
    "\n",
    "BA = \n",
    "      \n",
    "      Row 1,column 1   Row 1,column 2  Row 1,column 3\n",
    "      [[(1*2) + (2*0), (1*-1) + (2*4), (1*3) + (2*1)],\n",
    "\n",
    "      Row 2,column 1   Row 2,column 2   Row 2,column 3\n",
    "      [(-2*2) + (0*0), (-2*-1) + (0*4), (-2*3) + (0*1)]\n",
    "      \n",
    "      Row 3,column 1   Row 3,column 2  Row 3, column 3\n",
    "      [(5*2) + (-3*0), (5*-1) + (-3*4), (5*3) + (-3*1)]]\n",
    "\n",
    "BA = \n",
    "\n",
    "      [[(2 + 0), (-1 + 8), (3 + 2)],\n",
    "      [(-4 + 0), (2 + 0), (-6 + 0)],\n",
    "      [(10 + 0), (-5 + -12), (15 + -3)]]\n",
    "\n",
    "BA = \n",
    "\n",
    "      [[2, 7, 5], \n",
    "      [-4, 2, -6],\n",
    "      [10, -17, 12]]\n",
    "\n",
    "_The result is a 3 X 3 matix_\n"
   ]
  },
  {
   "cell_type": "code",
   "execution_count": null,
   "id": "63575e17",
   "metadata": {},
   "outputs": [
    {
     "name": "stdout",
     "output_type": "stream",
     "text": [
      "The product of A and B is:  [[19 -5]\n",
      " [-3 -3]]\n",
      "The dimensions of AB: (2, 2)\n",
      "The product of A and B is:  [[  2   7   5]\n",
      " [ -4   2  -6]\n",
      " [ 10 -17  12]]\n",
      "The dimensions of AB: (3, 3)\n"
     ]
    },
    {
     "ename": "",
     "evalue": "",
     "output_type": "error",
     "traceback": [
      "\u001b[1;31mThe Kernel crashed while executing code in the current cell or a previous cell. \n",
      "\u001b[1;31mPlease review the code in the cell(s) to identify a possible cause of the failure. \n",
      "\u001b[1;31mClick <a href='https://aka.ms/vscodeJupyterKernelCrash'>here</a> for more info. \n",
      "\u001b[1;31mView Jupyter <a href='command:jupyter.viewOutput'>log</a> for further details."
     ]
    }
   ],
   "source": [
    "# Using numpy computations\n",
    "# Creating the first 2 X 3 matrix \n",
    "a = np.array([[2, -1, 3],\n",
    "          [0, 4, 1]])\n",
    "\n",
    "# Creating the second 3 X 2 matrix \n",
    "b = np.array([[1, 2], \n",
    "              [-2, 0], \n",
    "              [5, -3]])\n",
    "\n",
    "# Mulpliplying A and B using numpy's matmul function\n",
    "AB = np.matmul(a, b)\n",
    "print('The product of A and B is: ', AB)\n",
    "print('The dimensions of AB:', AB.shape)\n",
    "\n",
    "# Multiplying B and A using numpy's matmul function\n",
    "BA = np.matmul(b, a)\n",
    "print('The product of A and B is: ', BA)\n",
    "print('The dimensions of AB:', BA.shape)\n"
   ]
  }
 ],
 "metadata": {
  "kernelspec": {
   "display_name": "my_venv",
   "language": "python",
   "name": "python3"
  },
  "language_info": {
   "codemirror_mode": {
    "name": "ipython",
    "version": 3
   },
   "file_extension": ".py",
   "mimetype": "text/x-python",
   "name": "python",
   "nbconvert_exporter": "python",
   "pygments_lexer": "ipython3",
   "version": "3.13.7"
  }
 },
 "nbformat": 4,
 "nbformat_minor": 5
}
