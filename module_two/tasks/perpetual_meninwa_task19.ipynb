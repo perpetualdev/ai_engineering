{
 "cells": [
  {
   "cell_type": "markdown",
   "id": "9a0cf3c9",
   "metadata": {},
   "source": [
    "### **Variance**"
   ]
  },
  {
   "cell_type": "markdown",
   "id": "7257bd2d",
   "metadata": {},
   "source": [
    "Calculate the variance of these set of values\n",
    "\n",
    "    4, 8, 6, 5, 3"
   ]
  },
  {
   "cell_type": "markdown",
   "id": "cb39d67d",
   "metadata": {},
   "source": [
    "**Variance**\n",
    "\n",
    "$$\n",
    "\\frac{\\sum_{i=1}^n{(x-µ)^2}}{n}\n",
    "$$"
   ]
  },
  {
   "cell_type": "markdown",
   "id": "be449ece",
   "metadata": {},
   "source": [
    "First we calculate the mean\n",
    "\n",
    "$$\n",
    "Mean = \\frac{4 + 8 + 6 + 5 + 3}{5}\n",
    "$$\n",
    "\n",
    "$$\n",
    "Mean = \\frac{26}{5}\n",
    "$$\n",
    "\n",
    "$$\n",
    "Mean(µ) = 5.2\n",
    "$$\n",
    "\n",
    "Then we calculate the variance \n",
    "\n",
    "| Dataset (x) | x(n) - µ | Calc((x(n) - µ)^2) | (x(n) - µ)^2 |\n",
    "| ----------- | -------- | ------------ | ---------- |\n",
    "|   4         | 4 - 5.2 = -1.2 | (-1.2)^2 | 1.44 |\n",
    "|   8         | 8 - 5.2 = 2.8 | (2.8)^2  | 7.84 |\n",
    "|   6         | 6 - 5.2 = 0.8 | (0.8)^2  | 0.64 |\n",
    "|   5         | 5 - 5.2 = 0.2 | (0.2)^2  | 0.04 |\n",
    "|   3         | 3 - 5.2 = -2.2 | (-2.2)^2  | 4.84 |\n",
    "| | | TOTAL | 14.8 |\n",
    "\n",
    "$$\n",
    "Variance = \\frac{14.8}{5}\n",
    "$$\n",
    "\n",
    "$$\n",
    "Variance = 2.96\n",
    "$$"
   ]
  }
 ],
 "metadata": {
  "language_info": {
   "name": "python"
  }
 },
 "nbformat": 4,
 "nbformat_minor": 5
}
