{
 "cells": [
  {
   "cell_type": "markdown",
   "id": "a0fbcb18",
   "metadata": {},
   "source": [
    "### Linear Algebra With Numpy"
   ]
  },
  {
   "cell_type": "code",
   "execution_count": null,
   "id": "c0be30bb",
   "metadata": {},
   "outputs": [],
   "source": [
    "import numpy as np\n",
    "import matplotlib.pyplot as plt"
   ]
  },
  {
   "cell_type": "code",
   "execution_count": 3,
   "id": "4bd22c40",
   "metadata": {},
   "outputs": [
    {
     "name": "stdout",
     "output_type": "stream",
     "text": [
      "Row Vector:  [10 20 30]\n",
      "Column Vector:\n",
      " [[10]\n",
      " [20]\n",
      " [30]]\n"
     ]
    }
   ],
   "source": [
    "import numpy as np\n",
    "\n",
    "# A row vector (1D)\n",
    "v1 = np.array([10, 20, 30])\n",
    "print(\"Row Vector: \", v1)\n",
    "\n",
    "# A column vector (2D with space 3 x 1)\n",
    "v2 = np.array([[10], [20], [30]])\n",
    "print(\"Column Vector:\\n\", v2)"
   ]
  },
  {
   "cell_type": "code",
   "execution_count": null,
   "id": "1e404e3c",
   "metadata": {},
   "outputs": [],
   "source": []
  }
 ],
 "metadata": {
  "kernelspec": {
   "display_name": "my_venv",
   "language": "python",
   "name": "python3"
  },
  "language_info": {
   "codemirror_mode": {
    "name": "ipython",
    "version": 3
   },
   "file_extension": ".py",
   "mimetype": "text/x-python",
   "name": "python",
   "nbconvert_exporter": "python",
   "pygments_lexer": "ipython3",
   "version": "3.13.7"
  }
 },
 "nbformat": 4,
 "nbformat_minor": 5
}
