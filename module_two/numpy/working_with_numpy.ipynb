{
 "cells": [
  {
   "cell_type": "markdown",
   "id": "7a2c301e",
   "metadata": {},
   "source": [
    "### **Understanding Numpy**"
   ]
  },
  {
   "cell_type": "markdown",
   "id": "5d2ff7a2",
   "metadata": {},
   "source": [
    "- NumPy (Numerical Python) is the foundation library for scientific computing in Python. It provides a powerful N-dimensional array object and tools for working with these arrays\n",
    "\n",
    "- Think of NumPy as the engine that powers most data science libraries - pandas uses NumPy arrays internally, scikit-learn expects NumPy arrays for machine learning, and matplotlib uses NumPy for plotting.\n",
    "\n",
    "- NumPy operations are implemented in C, making them 10-100x faster than pure Python\n",
    "\n",
    "- NumPy arrays store data more compactly than Python lists\n",
    "\n",
    "- Vectorization: Perform operations on entire arrays without writing loops\n",
    "\n",
    "- Work with arrays of different shapes seamlessly\n",
    "\n",
    "- Foundation for pandas, scikit-learn, matplotlib, and more"
   ]
  },
  {
   "cell_type": "code",
   "execution_count": 1,
   "id": "2d0a70f1",
   "metadata": {},
   "outputs": [
    {
     "name": "stdout",
     "output_type": "stream",
     "text": [
      "NumPy version: 2.3.2\n"
     ]
    }
   ],
   "source": [
    "# import all necessary libraries\n",
    "\n",
    "import numpy as np\n",
    "import matplotlib.pyplot as plt\n",
    "import time\n",
    "\n",
    "# Check NumPy version\n",
    "print(f\"NumPy version: {np.__version__}\")\n",
    "\n",
    "# Display settings for cleaner output\n",
    "np.set_printoptions(precision=3, suppress=True)"
   ]
  },
  {
   "cell_type": "markdown",
   "id": "5dfa294b",
   "metadata": {},
   "source": [
    "**Creating Numpy Arrays**"
   ]
  },
  {
   "cell_type": "code",
   "execution_count": null,
   "id": "936ba3f1",
   "metadata": {},
   "outputs": [],
   "source": [
    "# Creating arrays from Python lists\n",
    "# ID array: A simple sequence of numbers\n",
    "arr1d = np.array([1, 2, 3, 4, 5])\n",
    "\n",
    "# 2D array: Think of this as a matrix or table with rows and columns\n",
    "arr2d = np.array([[1, 2, 3],\n",
    "                  [4, 5, 6]])\n",
    "\n",
    "# 3D array: Like a stack of 2D arrays - useful for images, time series, etc.\n",
    "arr3d = np.array([[[1, 2], [3, 4]],\n",
    "                  [[5, 6], [7, 8]]])\n",
    "\n",
    "print(\"1D array:\", arr1d)\n",
    "print(\"2D array:\\n\", arr2d)\n",
    "print(\"3D array:\\n\", arr3d)"
   ]
  },
  {
   "cell_type": "code",
   "execution_count": null,
   "id": "8ec4ce25",
   "metadata": {},
   "outputs": [],
   "source": [
    "# Creating arrays filled with zeroes - useful for initializing arrays\n",
    "# Shape (3, 4) means 3 rows and 4 columns\n",
    "zeroes = np.zeros((3, 4))\n",
    "\n",
    "# Creating arrays filled with ones - often used as starting points\n",
    "ones = np.ones((2, 3, 4))     # 3D array: 2 layers, 3 rows, 4 columns\n",
    "\n",
    "# Empty array - faster than zeros/ones but contains random values \n",
    "# Use when you'll immediately fill the array with real data\n",
    "empty = np.empty((2, 2))\n",
    "\n",
    "print(\"Zeros array(3X4):\\n\", zeroes)\n",
    "# print(\"Ones array shape:\", ones)\n",
    "print(\"Ones array shape:\", ones.shape)\n",
    "print(\"Empty array (contains random values):\\n\", empty)"
   ]
  },
  {
   "cell_type": "code",
   "execution_count": null,
   "id": "674d4cb4",
   "metadata": {},
   "outputs": [],
   "source": [
    "# Range arrays - like Python's range() but more powerful\n",
    "range_arr = np.arange(0, 10, 2)   # Start, stop, step: [0, 2, 4, 6, 8]\n",
    "print(\"Range array:\", range_arr)\n",
    "\n",
    "# Linearly spaced arrays - divide a range "
   ]
  }
 ],
 "metadata": {
  "kernelspec": {
   "display_name": "my_venv",
   "language": "python",
   "name": "python3"
  },
  "language_info": {
   "codemirror_mode": {
    "name": "ipython",
    "version": 3
   },
   "file_extension": ".py",
   "mimetype": "text/x-python",
   "name": "python",
   "nbconvert_exporter": "python",
   "pygments_lexer": "ipython3",
   "version": "3.13.5"
  }
 },
 "nbformat": 4,
 "nbformat_minor": 5
}
