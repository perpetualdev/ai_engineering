{
 "cells": [
  {
   "cell_type": "markdown",
   "id": "cf532bf7",
   "metadata": {},
   "source": [
    "## Question: Task 3\n",
    "Let A =\n",
    "\\begin{bmatrix}\n",
    "2 & -1 \\\\\n",
    "0 & 3\n",
    "\\end{bmatrix} \n",
    "B = \n",
    "\\begin{bmatrix}\n",
    "1 & 4 \\\\\n",
    "-2 & 5 \\\\\n",
    "\\end{bmatrix}\n",
    "        let the scalars (c=2) (d=3)\n",
    "1. Compute the following: (cA), (dB), and (c+d)A\n",
    "2. using the result gotten, verify the scalar multiplication properties\n",
    "3. find the transpose of both matrices\n",
    "4. check if (A) and (B) are invertible by computing their determinants. If they invertible, find: A inverse and B inverse "
   ]
  },
  {
   "cell_type": "markdown",
   "id": "126721a0",
   "metadata": {},
   "source": [
    "## Solution"
   ]
  },
  {
   "cell_type": "markdown",
   "id": "12c42359",
   "metadata": {},
   "source": [
    "### 1. Compute the following: (cA), (dB), and (c+d)A"
   ]
  },
  {
   "cell_type": "markdown",
   "id": "1f9a5c44",
   "metadata": {},
   "source": [
    "**For (cA)** \n",
    "\n",
    "     cA = 2 x  [[2  -1]\n",
    "               [0   3]]\n",
    "\n",
    "     cA =      [[2 x 2   -1 x 2]\n",
    "               [0 x 2    3 x 2]]\n",
    "\n",
    "cA= \n",
    "\\begin{bmatrix}\n",
    "     4 & -2\\\\\n",
    "     0 &  6\n",
    "\\end{bmatrix}"
   ]
  },
  {
   "cell_type": "markdown",
   "id": "d1e2551f",
   "metadata": {},
   "source": [
    "**For (dB)**\n",
    "\n",
    "    dB = 3 x  [[1  4]\n",
    "               [-2 5]]\n",
    "\n",
    "    dB =        [[1 x 3   4 x 3]\n",
    "                [-2 x 3   5 x 3]]\n",
    "\n",
    "dB= \n",
    "\\begin{bmatrix}\n",
    "     3 & 12\\\\\n",
    "     -6 & 15\n",
    "\\end{bmatrix}"
   ]
  },
  {
   "cell_type": "markdown",
   "id": "f46d0f0c",
   "metadata": {},
   "source": [
    "**for (c+d)A** \n",
    "\n",
    "        (c+d)A = (2+3) x  [[2  -1]\n",
    "                          [0   3]]\n",
    "\n",
    "        (c=d)A =  [[2 x 5   -1 x 5]\n",
    "                   [0 x 5    3 x 5]]\n",
    "\n",
    "(c+d)A= \n",
    "\\begin{bmatrix}\n",
    "     10 & -5\\\\\n",
    "     0 & 15\n",
    "\\end{bmatrix}"
   ]
  },
  {
   "cell_type": "markdown",
   "id": "75b5be06",
   "metadata": {},
   "source": [
    "### 2. using the result gotten, verify the scalar multiplication properties"
   ]
  },
  {
   "cell_type": "markdown",
   "id": "e172d56d",
   "metadata": {},
   "source": [
    "**Associativity**\n",
    "**Distributivity over Matrix Addition**: (c+d)A = cA + dA\n",
    "\n",
    "(c+d)A= \n",
    "\\begin{bmatrix}\n",
    "     10 & -5\\\\\n",
    "     0 & 15\n",
    "\\end{bmatrix}\n",
    "cA= \n",
    "\\begin{bmatrix}\n",
    "     4 & -2\\\\\n",
    "     0 &  6\n",
    "\\end{bmatrix}\n",
    "\n",
    "dA= \n",
    "\\begin{bmatrix}\n",
    "     6 & -3\\\\\n",
    "     0 &  9\n",
    "\\end{bmatrix}\n",
    "\n",
    "cA + dA = \n",
    "\\begin{bmatrix}\n",
    "     10 & -5\\\\\n",
    "     0 &  15\n",
    "\\end{bmatrix}\n",
    "\n",
    "Therefore, (c=d)A = cA + dA"
   ]
  },
  {
   "cell_type": "markdown",
   "id": "91dd533e",
   "metadata": {},
   "source": [
    "### 3. Find the transpose of both matrices"
   ]
  },
  {
   "cell_type": "markdown",
   "id": "21d5b758",
   "metadata": {},
   "source": [
    "Transpose of Matrix A is:\n",
    "\n",
    "\\begin{bmatrix}\n",
    "     2 & 0\\\\\n",
    "     -1 & 3\n",
    "\\end{bmatrix}"
   ]
  },
  {
   "cell_type": "markdown",
   "id": "0cc1c8b8",
   "metadata": {},
   "source": [
    "Transpose of Matrix B is:\n",
    "\n",
    "\\begin{bmatrix}\n",
    "     1 & -2\\\\\n",
    "     4 &  5\n",
    "\\end{bmatrix}"
   ]
  },
  {
   "cell_type": "markdown",
   "id": "c3ee46ea",
   "metadata": {},
   "source": [
    "### 4. check if (A) and (B) are invertible by computing their determinants. If they invertible, find: A inverse and b inverse "
   ]
  },
  {
   "cell_type": "markdown",
   "id": "16485d1b",
   "metadata": {},
   "source": [
    "**Check if (A) are invertible**\n",
    "\n",
    "det(A) = (2x3) - (0 x -1)\n",
    "       = 6 - 0 = 6\n",
    "\n",
    "`So, matrix A is invertible because it's determinant is not zero.`"
   ]
  },
  {
   "cell_type": "markdown",
   "id": "cee1d93e",
   "metadata": {},
   "source": [
    "**check if (B) are invertible**\n",
    "\n",
    "det(B) = (1x5) - (4 x (-2))\n",
    "       = 5 - (-8) = 13\n",
    "\n",
    "`Since det (B) is not zero, then matrix B is invertible.`\n"
   ]
  },
  {
   "cell_type": "markdown",
   "id": "7997b55b",
   "metadata": {},
   "source": [
    "#### If they invertible, find: A inverse and b inverse**"
   ]
  },
  {
   "cell_type": "markdown",
   "id": "559cdc09",
   "metadata": {},
   "source": [
    "**A inverse**"
   ]
  },
  {
   "cell_type": "markdown",
   "id": "86d7a2e6",
   "metadata": {},
   "source": [
    "inverse(A) = 1/det(A)  x [[3   -(-1)]\n",
    "                          [-0      2]]\n",
    "\n",
    "            = 1/6   x   [[3    1]\n",
    "                         [-0   2]]\n",
    "\n",
    "            = [[3/6   1/6]\n",
    "               [-0/6  2/6]] \n",
    "\n",
    "inverse of (A) = \n",
    "\n",
    "\\begin{bmatrix}\n",
    "     1/2 & 1/6\\\\\n",
    "     \\\\\n",
    "     0  &  1/3\n",
    "\\end{bmatrix}\n",
    "        "
   ]
  },
  {
   "cell_type": "markdown",
   "id": "d014e4af",
   "metadata": {},
   "source": [
    "**B inverse**"
   ]
  },
  {
   "cell_type": "markdown",
   "id": "fd059c29",
   "metadata": {},
   "source": [
    "inverse(B) = 1/det(B)  x [[5     -4]\n",
    "                          [-(-2)  1]]\n",
    "\n",
    "            = 1/13   x   [[5    -4]\n",
    "                          [2     1]]\n",
    "\n",
    "            = [[5/13   -4/13]\n",
    "               [2/13    1/13]] \n",
    "\n",
    "inverse of (B) = \n",
    "\n",
    "\\begin{bmatrix}\n",
    "     5/13 & -4/13\\\\\n",
    "     \\\\\n",
    "     2/13  & 1/13\n",
    "\\end{bmatrix}"
   ]
  }
 ],
 "metadata": {
  "language_info": {
   "name": "python"
  }
 },
 "nbformat": 4,
 "nbformat_minor": 5
}
