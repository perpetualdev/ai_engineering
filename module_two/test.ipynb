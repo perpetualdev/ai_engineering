{
 "cells": [
  {
   "cell_type": "code",
   "execution_count": null,
   "id": "45cd8848",
   "metadata": {},
   "outputs": [],
   "source": [
    "import numpy as np\n",
    "\n",
    "v2 = np.array([[10, 20, 30], [40, 50, 60], [70, 80, 90]])\n",
    "v2"
   ]
  },
  {
   "cell_type": "code",
   "execution_count": null,
   "id": "fdc9fd5d",
   "metadata": {},
   "outputs": [],
   "source": [
    "a = np.arange(0, 10, 2)\n",
    "c, d = 2, 3\n",
    "\n",
    "# Associative: c(d*a) = (c*d)*a\n",
    "left = c * (d * a)\n",
    "right = (c * d) * a\n",
    "is_equal = np.array_equal(left, right)\n",
    "\n",
    "# Distributive over matrix addition: c(a + b) = ca + cb"
   ]
  },
  {
   "cell_type": "markdown",
   "id": "13b6bd3b",
   "metadata": {},
   "source": []
  }
 ],
 "metadata": {
  "kernelspec": {
   "display_name": "my_venv",
   "language": "python",
   "name": "python3"
  },
  "language_info": {
   "codemirror_mode": {
    "name": "ipython",
    "version": 3
   },
   "file_extension": ".py",
   "mimetype": "text/x-python",
   "name": "python",
   "nbconvert_exporter": "python",
   "pygments_lexer": "ipython3",
   "version": "3.13.5"
  }
 },
 "nbformat": 4,
 "nbformat_minor": 5
}
